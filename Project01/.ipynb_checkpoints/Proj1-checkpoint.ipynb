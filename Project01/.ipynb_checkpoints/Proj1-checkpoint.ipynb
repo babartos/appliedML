{
 "cells": [
  {
   "cell_type": "markdown",
   "metadata": {},
   "source": [
    "# Data Wrangling:"
   ]
  },
  {
   "cell_type": "code",
   "execution_count": 1,
   "metadata": {},
   "outputs": [
    {
     "data": {
      "text/html": [
       "<div>\n",
       "<style scoped>\n",
       "    .dataframe tbody tr th:only-of-type {\n",
       "        vertical-align: middle;\n",
       "    }\n",
       "\n",
       "    .dataframe tbody tr th {\n",
       "        vertical-align: top;\n",
       "    }\n",
       "\n",
       "    .dataframe thead th {\n",
       "        text-align: right;\n",
       "    }\n",
       "</style>\n",
       "<table border=\"1\" class=\"dataframe\">\n",
       "  <thead>\n",
       "    <tr style=\"text-align: right;\">\n",
       "      <th></th>\n",
       "      <th>Country Name</th>\n",
       "      <th>Country Code</th>\n",
       "      <th>Indicator Name</th>\n",
       "      <th>Indicator Code</th>\n",
       "      <th>1960</th>\n",
       "      <th>1961</th>\n",
       "      <th>1962</th>\n",
       "      <th>1963</th>\n",
       "      <th>1964</th>\n",
       "      <th>1965</th>\n",
       "      <th>...</th>\n",
       "      <th>2011</th>\n",
       "      <th>2012</th>\n",
       "      <th>2013</th>\n",
       "      <th>2014</th>\n",
       "      <th>2015</th>\n",
       "      <th>2016</th>\n",
       "      <th>2017</th>\n",
       "      <th>2018</th>\n",
       "      <th>2019</th>\n",
       "      <th>2020</th>\n",
       "    </tr>\n",
       "  </thead>\n",
       "  <tbody>\n",
       "    <tr>\n",
       "      <th>0</th>\n",
       "      <td>Aruba</td>\n",
       "      <td>ABW</td>\n",
       "      <td>Population, total</td>\n",
       "      <td>SP.POP.TOTL</td>\n",
       "      <td>54208.0</td>\n",
       "      <td>55434.0</td>\n",
       "      <td>56234.0</td>\n",
       "      <td>56699.0</td>\n",
       "      <td>57029.0</td>\n",
       "      <td>57357.0</td>\n",
       "      <td>...</td>\n",
       "      <td>102050.0</td>\n",
       "      <td>102565.0</td>\n",
       "      <td>103165.0</td>\n",
       "      <td>103776.0</td>\n",
       "      <td>104339.0</td>\n",
       "      <td>104865.0</td>\n",
       "      <td>105361.0</td>\n",
       "      <td>105846.0</td>\n",
       "      <td>106310.0</td>\n",
       "      <td>106766.0</td>\n",
       "    </tr>\n",
       "    <tr>\n",
       "      <th>1</th>\n",
       "      <td>Africa Eastern and Southern</td>\n",
       "      <td>AFE</td>\n",
       "      <td>Population, total</td>\n",
       "      <td>SP.POP.TOTL</td>\n",
       "      <td>130836765.0</td>\n",
       "      <td>134159786.0</td>\n",
       "      <td>137614644.0</td>\n",
       "      <td>141202036.0</td>\n",
       "      <td>144920186.0</td>\n",
       "      <td>148769974.0</td>\n",
       "      <td>...</td>\n",
       "      <td>532760424.0</td>\n",
       "      <td>547482863.0</td>\n",
       "      <td>562601578.0</td>\n",
       "      <td>578075373.0</td>\n",
       "      <td>593871847.0</td>\n",
       "      <td>609978946.0</td>\n",
       "      <td>626392880.0</td>\n",
       "      <td>643090131.0</td>\n",
       "      <td>660046272.0</td>\n",
       "      <td>677243299.0</td>\n",
       "    </tr>\n",
       "    <tr>\n",
       "      <th>2</th>\n",
       "      <td>Afghanistan</td>\n",
       "      <td>AFG</td>\n",
       "      <td>Population, total</td>\n",
       "      <td>SP.POP.TOTL</td>\n",
       "      <td>8996967.0</td>\n",
       "      <td>9169406.0</td>\n",
       "      <td>9351442.0</td>\n",
       "      <td>9543200.0</td>\n",
       "      <td>9744772.0</td>\n",
       "      <td>9956318.0</td>\n",
       "      <td>...</td>\n",
       "      <td>30117411.0</td>\n",
       "      <td>31161378.0</td>\n",
       "      <td>32269592.0</td>\n",
       "      <td>33370804.0</td>\n",
       "      <td>34413603.0</td>\n",
       "      <td>35383028.0</td>\n",
       "      <td>36296111.0</td>\n",
       "      <td>37171922.0</td>\n",
       "      <td>38041757.0</td>\n",
       "      <td>38928341.0</td>\n",
       "    </tr>\n",
       "    <tr>\n",
       "      <th>3</th>\n",
       "      <td>Africa Western and Central</td>\n",
       "      <td>AFW</td>\n",
       "      <td>Population, total</td>\n",
       "      <td>SP.POP.TOTL</td>\n",
       "      <td>96396419.0</td>\n",
       "      <td>98407221.0</td>\n",
       "      <td>100506960.0</td>\n",
       "      <td>102691339.0</td>\n",
       "      <td>104953470.0</td>\n",
       "      <td>107289875.0</td>\n",
       "      <td>...</td>\n",
       "      <td>360285439.0</td>\n",
       "      <td>370243017.0</td>\n",
       "      <td>380437896.0</td>\n",
       "      <td>390882979.0</td>\n",
       "      <td>401586651.0</td>\n",
       "      <td>412551299.0</td>\n",
       "      <td>423769930.0</td>\n",
       "      <td>435229381.0</td>\n",
       "      <td>446911598.0</td>\n",
       "      <td>458803476.0</td>\n",
       "    </tr>\n",
       "    <tr>\n",
       "      <th>4</th>\n",
       "      <td>Angola</td>\n",
       "      <td>AGO</td>\n",
       "      <td>Population, total</td>\n",
       "      <td>SP.POP.TOTL</td>\n",
       "      <td>5454938.0</td>\n",
       "      <td>5531451.0</td>\n",
       "      <td>5608499.0</td>\n",
       "      <td>5679409.0</td>\n",
       "      <td>5734995.0</td>\n",
       "      <td>5770573.0</td>\n",
       "      <td>...</td>\n",
       "      <td>24220660.0</td>\n",
       "      <td>25107925.0</td>\n",
       "      <td>26015786.0</td>\n",
       "      <td>26941773.0</td>\n",
       "      <td>27884380.0</td>\n",
       "      <td>28842482.0</td>\n",
       "      <td>29816769.0</td>\n",
       "      <td>30809787.0</td>\n",
       "      <td>31825299.0</td>\n",
       "      <td>32866268.0</td>\n",
       "    </tr>\n",
       "  </tbody>\n",
       "</table>\n",
       "<p>5 rows × 65 columns</p>\n",
       "</div>"
      ],
      "text/plain": [
       "                  Country Name Country Code     Indicator Name Indicator Code  \\\n",
       "0                        Aruba          ABW  Population, total    SP.POP.TOTL   \n",
       "1  Africa Eastern and Southern          AFE  Population, total    SP.POP.TOTL   \n",
       "2                  Afghanistan          AFG  Population, total    SP.POP.TOTL   \n",
       "3   Africa Western and Central          AFW  Population, total    SP.POP.TOTL   \n",
       "4                       Angola          AGO  Population, total    SP.POP.TOTL   \n",
       "\n",
       "          1960         1961         1962         1963         1964  \\\n",
       "0      54208.0      55434.0      56234.0      56699.0      57029.0   \n",
       "1  130836765.0  134159786.0  137614644.0  141202036.0  144920186.0   \n",
       "2    8996967.0    9169406.0    9351442.0    9543200.0    9744772.0   \n",
       "3   96396419.0   98407221.0  100506960.0  102691339.0  104953470.0   \n",
       "4    5454938.0    5531451.0    5608499.0    5679409.0    5734995.0   \n",
       "\n",
       "          1965  ...         2011         2012         2013         2014  \\\n",
       "0      57357.0  ...     102050.0     102565.0     103165.0     103776.0   \n",
       "1  148769974.0  ...  532760424.0  547482863.0  562601578.0  578075373.0   \n",
       "2    9956318.0  ...   30117411.0   31161378.0   32269592.0   33370804.0   \n",
       "3  107289875.0  ...  360285439.0  370243017.0  380437896.0  390882979.0   \n",
       "4    5770573.0  ...   24220660.0   25107925.0   26015786.0   26941773.0   \n",
       "\n",
       "          2015         2016         2017         2018         2019  \\\n",
       "0     104339.0     104865.0     105361.0     105846.0     106310.0   \n",
       "1  593871847.0  609978946.0  626392880.0  643090131.0  660046272.0   \n",
       "2   34413603.0   35383028.0   36296111.0   37171922.0   38041757.0   \n",
       "3  401586651.0  412551299.0  423769930.0  435229381.0  446911598.0   \n",
       "4   27884380.0   28842482.0   29816769.0   30809787.0   31825299.0   \n",
       "\n",
       "          2020  \n",
       "0     106766.0  \n",
       "1  677243299.0  \n",
       "2   38928341.0  \n",
       "3  458803476.0  \n",
       "4   32866268.0  \n",
       "\n",
       "[5 rows x 65 columns]"
      ]
     },
     "execution_count": 1,
     "metadata": {},
     "output_type": "execute_result"
    }
   ],
   "source": [
    "# .csv from data world bank\n",
    "# https://data.worldbank.org/indicator/SP.POP.TOTL?end=2020&start=1960\n",
    "import pandas as pd\n",
    "import numpy as np\n",
    "from sklearn.linear_model import LinearRegression, Ridge, MultiTaskElasticNet\n",
    "\n",
    "# read in the .csv\n",
    "df = pd.read_csv('world_population.csv')\n",
    "df.head()"
   ]
  },
  {
   "cell_type": "code",
   "execution_count": 2,
   "metadata": {},
   "outputs": [
    {
     "data": {
      "text/html": [
       "<div>\n",
       "<style scoped>\n",
       "    .dataframe tbody tr th:only-of-type {\n",
       "        vertical-align: middle;\n",
       "    }\n",
       "\n",
       "    .dataframe tbody tr th {\n",
       "        vertical-align: top;\n",
       "    }\n",
       "\n",
       "    .dataframe thead th {\n",
       "        text-align: right;\n",
       "    }\n",
       "</style>\n",
       "<table border=\"1\" class=\"dataframe\">\n",
       "  <thead>\n",
       "    <tr style=\"text-align: right;\">\n",
       "      <th></th>\n",
       "      <th>Year</th>\n",
       "      <th>Population</th>\n",
       "    </tr>\n",
       "  </thead>\n",
       "  <tbody>\n",
       "    <tr>\n",
       "      <th>56</th>\n",
       "      <td>2016</td>\n",
       "      <td>7.998271e+10</td>\n",
       "    </tr>\n",
       "    <tr>\n",
       "      <th>57</th>\n",
       "      <td>2017</td>\n",
       "      <td>8.099699e+10</td>\n",
       "    </tr>\n",
       "    <tr>\n",
       "      <th>58</th>\n",
       "      <td>2018</td>\n",
       "      <td>8.199016e+10</td>\n",
       "    </tr>\n",
       "    <tr>\n",
       "      <th>59</th>\n",
       "      <td>2019</td>\n",
       "      <td>8.296228e+10</td>\n",
       "    </tr>\n",
       "    <tr>\n",
       "      <th>60</th>\n",
       "      <td>2020</td>\n",
       "      <td>8.391063e+10</td>\n",
       "    </tr>\n",
       "  </tbody>\n",
       "</table>\n",
       "</div>"
      ],
      "text/plain": [
       "    Year    Population\n",
       "56  2016  7.998271e+10\n",
       "57  2017  8.099699e+10\n",
       "58  2018  8.199016e+10\n",
       "59  2019  8.296228e+10\n",
       "60  2020  8.391063e+10"
      ]
     },
     "execution_count": 2,
     "metadata": {},
     "output_type": "execute_result"
    }
   ],
   "source": [
    "# create and extract into the year_dataframe\n",
    "yearList = []\n",
    "popList = []\n",
    "year = 1960\n",
    "while year < 2021:\n",
    "    yearList.append(year)\n",
    "    popList.append(df[str(year)].sum())\n",
    "    #increment year counter\n",
    "    year += 1\n",
    "\n",
    "# populate year dataframe\n",
    "d = {'Year': yearList, 'Population': popList}\n",
    "year_dataframe = pd.DataFrame(data=d)\n",
    "#year_dataframe.to_csv('cleaned_data.csv', index=False)\n",
    "year_dataframe.tail()"
   ]
  },
  {
   "cell_type": "code",
   "execution_count": 3,
   "metadata": {
    "scrolled": true
   },
   "outputs": [
    {
     "data": {
      "image/png": "[encoded data removed]",
      "text/plain": [
       "<Figure size 432x288 with 1 Axes>"
      ]
     },
     "metadata": {
      "needs_background": "light"
     },
     "output_type": "display_data"
    }
   ],
   "source": [
    "import matplotlib.pyplot as plt\n",
    "plt.figure()\n",
    "plt.scatter(year_dataframe[\"Year\"], year_dataframe[\"Population\"])\n",
    "plt.show()"
   ]
  },
  {
   "cell_type": "markdown",
   "metadata": {},
   "source": [
    " Death rate data:"
   ]
  },
  {
   "cell_type": "code",
   "execution_count": 4,
   "metadata": {},
   "outputs": [
    {
     "name": "stdout",
     "output_type": "stream",
     "text": [
      "average death rate over the last 60 years: 0.009934249999999999\n"
     ]
    },
    {
     "data": {
      "text/html": [
       "<div>\n",
       "<style scoped>\n",
       "    .dataframe tbody tr th:only-of-type {\n",
       "        vertical-align: middle;\n",
       "    }\n",
       "\n",
       "    .dataframe tbody tr th {\n",
       "        vertical-align: top;\n",
       "    }\n",
       "\n",
       "    .dataframe thead th {\n",
       "        text-align: right;\n",
       "    }\n",
       "</style>\n",
       "<table border=\"1\" class=\"dataframe\">\n",
       "  <thead>\n",
       "    <tr style=\"text-align: right;\">\n",
       "      <th></th>\n",
       "      <th>Year</th>\n",
       "      <th>Number Deaths</th>\n",
       "      <th>Death Rate</th>\n",
       "    </tr>\n",
       "  </thead>\n",
       "  <tbody>\n",
       "    <tr>\n",
       "      <th>0</th>\n",
       "      <td>1960</td>\n",
       "      <td>17.713</td>\n",
       "      <td>0.017713</td>\n",
       "    </tr>\n",
       "    <tr>\n",
       "      <th>1</th>\n",
       "      <td>1961</td>\n",
       "      <td>15.001</td>\n",
       "      <td>0.015001</td>\n",
       "    </tr>\n",
       "    <tr>\n",
       "      <th>2</th>\n",
       "      <td>1962</td>\n",
       "      <td>13.954</td>\n",
       "      <td>0.013954</td>\n",
       "    </tr>\n",
       "    <tr>\n",
       "      <th>3</th>\n",
       "      <td>1963</td>\n",
       "      <td>13.792</td>\n",
       "      <td>0.013792</td>\n",
       "    </tr>\n",
       "    <tr>\n",
       "      <th>4</th>\n",
       "      <td>1964</td>\n",
       "      <td>13.792</td>\n",
       "      <td>0.013792</td>\n",
       "    </tr>\n",
       "  </tbody>\n",
       "</table>\n",
       "</div>"
      ],
      "text/plain": [
       "   Year  Number Deaths  Death Rate\n",
       "0  1960         17.713    0.017713\n",
       "1  1961         15.001    0.015001\n",
       "2  1962         13.954    0.013954\n",
       "3  1963         13.792    0.013792\n",
       "4  1964         13.792    0.013792"
      ]
     },
     "execution_count": 4,
     "metadata": {},
     "output_type": "execute_result"
    }
   ],
   "source": [
    "# world bank data for death rate over the last 60 years\n",
    "df_deathrate = pd.read_csv('deathrate_data.csv')\n",
    "deathRateList = df_deathrate[\"Death Rate\"].to_numpy()\n",
    "averageDeathRate = sum(deathRateList) / len(deathRateList)\n",
    "print('average death rate over the last 60 years: ' + str(averageDeathRate))\n",
    "#show the dataframe\n",
    "df_deathrate.head()"
   ]
  },
  {
   "cell_type": "code",
   "execution_count": 5,
   "metadata": {},
   "outputs": [
    {
     "data": {
      "image/png": "[encoded data removed]",
      "text/plain": [
       "<Figure size 432x288 with 1 Axes>"
      ]
     },
     "metadata": {
      "needs_background": "light"
     },
     "output_type": "display_data"
    }
   ],
   "source": [
    "import matplotlib.pyplot as plt\n",
    "plt.figure()\n",
    "plt.plot(df_deathrate[\"Year\"].to_numpy(), df_deathrate[\"Number Deaths\"].to_numpy())\n",
    "plt.title('Number of Deaths per thousand people')\n",
    "plt.show()"
   ]
  },
  {
   "cell_type": "markdown",
   "metadata": {},
   "source": [
    "Birth Rate Data: The birth rate is expected to decline so we will use the birth rate in 2020. We call it average birth rate"
   ]
  },
  {
   "cell_type": "code",
   "execution_count": 6,
   "metadata": {},
   "outputs": [],
   "source": [
    "#2020 birth rate extracted from \n",
    "averageBirthRate = 0.01788"
   ]
  },
  {
   "cell_type": "markdown",
   "metadata": {},
   "source": [
    "# Method #1 Linear Regression:"
   ]
  },
  {
   "cell_type": "markdown",
   "metadata": {},
   "source": [
    "Model #1 Linear Regression:"
   ]
  },
  {
   "cell_type": "code",
   "execution_count": 4,
   "metadata": {},
   "outputs": [
    {
     "name": "stdout",
     "output_type": "stream",
     "text": [
      "[[1.74780654e+11]]\n"
     ]
    },
    {
     "data": {
      "text/plain": [
       "174780653685.0857"
      ]
     },
     "execution_count": 4,
     "metadata": {},
     "output_type": "execute_result"
    }
   ],
   "source": [
    "x = year_dataframe.iloc[:, 0].values.reshape(-1, 1) # 2d array of years\n",
    "y = year_dataframe.iloc[:, 1].values.reshape(-1, 1) # 2d array of population\n",
    "model = LinearRegression().fit(x, y)\n",
    "y_pred = model.predict([[2122]])\n",
    "print(y_pred)\n",
    "y_pred[0][0]"
   ]
  },
  {
   "cell_type": "code",
   "execution_count": 5,
   "metadata": {},
   "outputs": [
    {
     "data": {
      "image/png": "[encoded data removed]",
      "text/plain": [
       "<Figure size 432x288 with 1 Axes>"
      ]
     },
     "metadata": {
      "needs_background": "light"
     },
     "output_type": "display_data"
    }
   ],
   "source": [
    "yearList2 = yearList\n",
    "popList2 = popList\n",
    "year = 2021\n",
    "while year < 2123:\n",
    "    y_pred = model.predict([[year]])\n",
    "    popList2.append(y_pred[0][0])\n",
    "    yearList2.append(year)\n",
    "    year = year + 1\n",
    "\n",
    "plt.figure()\n",
    "plt.plot(yearList2, popList2)\n",
    "plt.xlabel('Year')\n",
    "plt.ylabel('Population (Billions)')\n",
    "plt.ylim(1e9)\n",
    "plt.title('Linear Regression Population Estimation')\n",
    "plt.show()"
   ]
  },
  {
   "cell_type": "markdown",
   "metadata": {},
   "source": [
    "Model #2 Ridge Regression:\n",
    "\n",
    "Linear least squares with l2 regularization."
   ]
  },
  {
   "cell_type": "code",
   "execution_count": 6,
   "metadata": {},
   "outputs": [
    {
     "name": "stdout",
     "output_type": "stream",
     "text": [
      "113683804561.7854\n"
     ]
    }
   ],
   "source": [
    "x = year_dataframe.iloc[:, 0].values.reshape(-1, 1) # 2d array of years\n",
    "y = year_dataframe.iloc[:, 1].values.reshape(-1, 1) # 2d array of population\n",
    "model2 = Ridge(alpha=20000)\n",
    "model2.fit(x, y)\n",
    "y2_pred = model2.predict([[2122]])\n",
    "print(y2_pred[0][0])"
   ]
  },
  {
   "cell_type": "code",
   "execution_count": 7,
   "metadata": {},
   "outputs": [
    {
     "data": {
      "image/png": "[encoded data removed]",
      "text/plain": [
       "<Figure size 432x288 with 1 Axes>"
      ]
     },
     "metadata": {
      "needs_background": "light"
     },
     "output_type": "display_data"
    }
   ],
   "source": [
    "# graph output\n",
    "yearList2 = [x for x in range(2021,2122)]\n",
    "popList2 = [model2.predict([[year]]) for year in range(2021,2122)]\n",
    "\n",
    "plt.figure()\n",
    "plt.scatter(yearList2, popList2)\n",
    "plt.xlabel('Year')\n",
    "plt.ylabel('Population (Billions)')\n",
    "plt.title('Linear Regression Population Estimation')\n",
    "plt.show()"
   ]
  },
  {
   "cell_type": "markdown",
   "metadata": {},
   "source": [
    "-----"
   ]
  },
  {
   "cell_type": "markdown",
   "metadata": {},
   "source": [
    "Model #3 MultiTaskElasticNet:\n",
    "\n",
    "Multi-task ElasticNet model trained with L1/L2 mixed-norm as regularizer.\n",
    "\n"
   ]
  },
  {
   "cell_type": "code",
   "execution_count": 8,
   "metadata": {
    "scrolled": true
   },
   "outputs": [
    {
     "name": "stdout",
     "output_type": "stream",
     "text": [
      "174208275257.6311\n"
     ]
    }
   ],
   "source": [
    "x = year_dataframe.iloc[:, 0].values.reshape(-1, 1) # 2d array of years\n",
    "y = year_dataframe.iloc[:, 1].values.reshape(-1, 1) # 2d array of population\n",
    "model3 = MultiTaskElasticNet(alpha=3)\n",
    "model3.fit(x, y)\n",
    "y3_pred = model3.predict([[2122]])\n",
    "print(y3_pred[0][0])"
   ]
  },
  {
   "cell_type": "code",
   "execution_count": 9,
   "metadata": {},
   "outputs": [
    {
     "data": {
      "image/png": "[encoded data removed]",
      "text/plain": [
       "<Figure size 432x288 with 1 Axes>"
      ]
     },
     "metadata": {
      "needs_background": "light"
     },
     "output_type": "display_data"
    }
   ],
   "source": [
    "# graph output\n",
    "yearList2 = [x for x in range(2021,2122)]\n",
    "popList2 = [model3.predict([[year]]) for year in range(2021,2122)]\n",
    "\n",
    "plt.figure()\n",
    "plt.scatter(yearList2, popList2)\n",
    "plt.xlabel('Year')\n",
    "plt.ylabel('Population (Billions)')\n",
    "plt.title('Linear Regression Population Estimation')\n",
    "plt.show()"
   ]
  },
  {
   "cell_type": "markdown",
   "metadata": {},
   "source": [
    "# Method #2 Birth & Death Rates:"
   ]
  },
  {
   "cell_type": "markdown",
   "metadata": {},
   "source": [
    "We will be using the birdepy library for birth rate and death rate calculations. This package can be easily installed and supports various models for our calculations"
   ]
  },
  {
   "cell_type": "code",
   "execution_count": 7,
   "metadata": {},
   "outputs": [],
   "source": [
    "#pip install birdepy\n",
    "#pip install gwr_inversion\n",
    "import birdepy as bd\n",
    "\n",
    "def getAverageRate(param, model, z0, times):\n",
    "    result = []\n",
    "    for i in range(0,5):\n",
    "        estimationList = bd.simulate.discrete(param, model, 83, times)\n",
    "        result.append(estimationList[-1])\n",
    "\n",
    "    return sum(result) / len(result)\n",
    "    "
   ]
  },
  {
   "cell_type": "markdown",
   "metadata": {},
   "source": [
    "### Model#4 Linear Calculation: \n",
    "Uses paramaters <i>y</i> and <i>v</i> (birth and death rate respectively) to estimate the population in 2122. The birth and death rate are held linear at the same rate"
   ]
  },
  {
   "cell_type": "code",
   "execution_count": 18,
   "metadata": {},
   "outputs": [
    {
     "name": "stdout",
     "output_type": "stream",
     "text": [
      "Average Final Population Estimate: 18.46 billion\n"
     ]
    }
   ],
   "source": [
    "#pip install birdepy\n",
    "#pip install gwr_inversion\n",
    "import birdepy as bd\n",
    "\n",
    "y = averageBirthRate # birth rate (upislon)\n",
    "v = averageDeathRate # death rate\n",
    "z0 = 83 # starting population for the earth in billions (year 2020 8.3 billion)\n",
    "param = [y,v]\n",
    "model = \"linear\"\n",
    "# discrete / continous times\n",
    "t_max = 3\n",
    "times = [x for x in range(1,102)]\n",
    "\n",
    "populationOverYears = bd.simulate.discrete(param, model, z0, times)\n",
    "\n",
    "averageRate = getAverageRate(param, model, z0, times) \n",
    "#get an average rate from 10 trials bd.simulate.discrete() birdepy function\n",
    "#print('Average Final Population Estimate: ' + str(averageRate / 10) + ' billion')"
   ]
  },
  {
   "cell_type": "code",
   "execution_count": 19,
   "metadata": {},
   "outputs": [
    {
     "data": {
      "image/png": "[encoded data removed]",
      "text/plain": [
       "<Figure size 432x288 with 1 Axes>"
      ]
     },
     "metadata": {
      "needs_background": "light"
     },
     "output_type": "display_data"
    },
    {
     "name": "stdout",
     "output_type": "stream",
     "text": [
      "Final population estimation: 19.2 billion\n"
     ]
    }
   ],
   "source": [
    "plt.figure()\n",
    "plt.plot([x for x in range(2021,2122)], [x /10 for x in populationOverYears])\n",
    "plt.xlabel('Year')\n",
    "plt.ylabel('Population (Billions)')\n",
    "plt.title('Linear Estimation')\n",
    "plt.show()\n",
    "print('Final population estimation: ' + str(populationOverYears[-1] / 10) + ' billion')"
   ]
  },
  {
   "cell_type": "code",
   "execution_count": 241,
   "metadata": {},
   "outputs": [
    {
     "name": "stdout",
     "output_type": "stream",
     "text": [
      "[8.3, 8.1, 8.3, 8.4, 8.3, 8.2, 8.3, 8.5, 8.3, 8.4, 8.4, 8.5, 8.7, 8.7, 8.8, 8.9, 8.8, 9.1, 9.0, 8.9, 8.9, 8.9, 9.0, 8.9, 8.9, 9.0, 9.1, 9.2, 9.5, 9.7, 9.4, 9.5, 9.5, 9.5, 9.9, 10.0, 9.8, 10.1, 10.3, 10.3, 10.1, 10.2, 10.3, 10.4, 10.3, 10.3, 10.2, 10.3, 10.3, 10.4, 10.4, 10.1, 10.3, 10.4, 10.7, 10.9, 10.9, 11.0, 11.0, 10.9, 10.7, 11.0, 10.7, 10.8, 10.8, 10.9, 10.9, 10.8, 11.0, 11.0, 11.0, 11.0, 11.0, 11.0, 11.1, 11.1, 11.2, 11.2, 11.2, 11.3, 11.1, 11.7, 11.8, 11.6, 11.7, 11.7, 11.8, 11.9, 12.1, 12.1, 12.1, 12.5, 12.6, 12.7, 12.9, 13.3, 13.2, 13.3, 13.6, 13.6, 13.6]\n"
     ]
    }
   ],
   "source": [
    "output = [x / 10 for x in populationOverYears]\n",
    "print(output) # in billions"
   ]
  },
  {
   "cell_type": "markdown",
   "metadata": {},
   "source": [
    "### Model #5 Using Ricker calculation: \n",
    "The Ricker model uses exponentially decreasing birth rate and increasing death rate from the previous year to calculate next year's state. The Richter model is a \"classic discrete population model which gives the expected number N t+1 (or density) of individuals in generation t + 1 as a function of the number of individuals in the previous generation.\"\n",
    "https://en.wikipedia.org/wiki/Ricker_model"
   ]
  },
  {
   "cell_type": "code",
   "execution_count": 138,
   "metadata": {},
   "outputs": [
    {
     "name": "stdout",
     "output_type": "stream",
     "text": [
      "Final Population Estimate after 10 trials: 18.119999999999997 billion\n"
     ]
    }
   ],
   "source": [
    "#pip install birdepy\n",
    "#pip install gwr_inversion\n",
    "import birdepy as bd\n",
    "\n",
    "y = averageBirthRate # birth rate (upislon)\n",
    "v = averageDeathRate # death rate\n",
    "z0 = 83 # starting population for the earth in billions (year 2020 8.3 billion)\n",
    "param = [y,v,0,1]\n",
    "model = \"Ricker\"\n",
    "\n",
    "# discrete / continous times\n",
    "t_max = 3\n",
    "times = [x for x in range(1,102)]\n",
    "\n",
    "populationOverYears = bd.simulate.discrete(param, model, z0, times)\n",
    "\n",
    "averageRate = getAverageRate(param, model, z0, times) \n",
    "#get an average rate from 10 trials bd.simulate.discrete() birdepy function\n",
    "#print('Final Population Estimate after 10 trials: ' + str(averageRate / 10) + ' billion')"
   ]
  },
  {
   "cell_type": "code",
   "execution_count": 139,
   "metadata": {},
   "outputs": [
    {
     "data": {
      "image/png": "[encoded data removed]",
      "text/plain": [
       "<Figure size 432x288 with 1 Axes>"
      ]
     },
     "metadata": {
      "needs_background": "light"
     },
     "output_type": "display_data"
    },
    {
     "name": "stdout",
     "output_type": "stream",
     "text": [
      "Final population estimation: 13.7 billion\n"
     ]
    }
   ],
   "source": [
    "plt.figure()\n",
    "plt.plot([x for x in range(2021,2122)], [x /10 for x in populationOverYears])\n",
    "plt.xlabel('Year')\n",
    "plt.ylabel('Population (Billions)')\n",
    "plt.title('Ricker Population Estimation')\n",
    "plt.show()\n",
    "print('Final population estimation: ' + str(populationOverYears[-1] / 10) + ' billion')"
   ]
  },
  {
   "cell_type": "code",
   "execution_count": 137,
   "metadata": {},
   "outputs": [
    {
     "name": "stdout",
     "output_type": "stream",
     "text": [
      "[8.2, 8.7, 8.6, 8.7, 9.0, 9.3, 9.3, 9.4, 9.4, 9.2, 9.2, 9.1, 9.3, 9.4, 9.5, 9.8, 10.1, 9.9, 10.0, 10.4, 10.5, 10.4, 10.3, 10.3, 10.5, 10.5, 10.6, 10.5, 10.6, 10.7, 10.8, 11.0, 10.9, 11.1, 11.2, 11.2, 11.4, 11.5, 11.6, 11.4, 11.3, 11.4, 11.5, 11.6, 11.5, 11.4, 11.5, 11.6, 11.6, 11.5, 11.9, 11.8, 11.7, 11.8, 11.8, 11.3, 11.1, 10.9, 10.9, 10.9, 10.9, 10.8, 11.0, 10.9, 10.7, 10.7, 10.6, 10.5, 10.6, 10.8, 10.7, 10.9, 10.9, 11.3, 11.2, 11.3, 11.1, 11.3, 11.3, 11.5, 11.8, 11.9, 12.1, 12.1, 12.2, 12.0, 12.1, 12.1, 12.1, 12.1, 12.3, 12.3, 12.3, 12.3, 12.3, 12.2, 12.2, 12.8, 12.9, 13.0, 12.8]\n"
     ]
    }
   ],
   "source": [
    "output = [x / 10 for x in populationOverYears]\n",
    "print(output) # in billions"
   ]
  },
  {
   "cell_type": "markdown",
   "metadata": {},
   "source": [
    "### Conclusion"
   ]
  },
  {
   "cell_type": "markdown",
   "metadata": {},
   "source": [
    "As obtained using the Ricker model,  the population of the earth in 2122 will be 12.8 billion people. The Ricker model produced our most reasonable number estimation while utilizing the most logical math. The Ricker model predicts based on birth and death rates and utilizes an exponentially decreasing birth rate. The exponentially decreasing birth rate seems logical after examining the decreasing human birth rate over the last 60 years. Overall, the Ricker model produces a logical final population estimation while utilizing a logical mathematical method to arrive at the conclusion. "
   ]
  }
 ],
 "metadata": {
  "kernelspec": {
   "display_name": "Python 3",
   "language": "python",
   "name": "python3"
  },
  "language_info": {
   "codemirror_mode": {
    "name": "ipython",
    "version": 3
   },
   "file_extension": ".py",
   "mimetype": "text/x-python",
   "name": "python",
   "nbconvert_exporter": "python",
   "pygments_lexer": "ipython3",
   "version": "3.8.5"
  }
 },
 "nbformat": 4,
 "nbformat_minor": 4
}
