{
 "cells": [
  {
   "cell_type": "markdown",
   "metadata": {},
   "source": [
    "### Load & Prepare Dataset:"
   ]
  },
  {
   "cell_type": "code",
   "execution_count": 2,
   "metadata": {},
   "outputs": [],
   "source": [
    "def unpickle(file):\n",
    "    import pickle\n",
    "    with open(file, 'rb') as fo:\n",
    "        dict = pickle.load(fo, encoding='latin1')\n",
    "    return dict"
   ]
  },
  {
   "cell_type": "code",
   "execution_count": 3,
   "metadata": {},
   "outputs": [
    {
     "name": "stdout",
     "output_type": "stream",
     "text": [
      "(10000, 3072)\n",
      "(10000,)\n"
     ]
    }
   ],
   "source": [
    "# Load Dataset\n",
    "import numpy as np\n",
    "rootpath = 'C:/Users/mattb/Desktop/CS 7394/cifar-10-batches-py'\n",
    "data_batch_1 = unpickle(rootpath + '/data_batch_1')\n",
    "\n",
    "X = data_batch_1[\"data\"]   #shape: (10000, 3072)\n",
    "y = data_batch_1['labels'] #array of labels: 10,000 long for each image\n",
    "y = np.array(y)\n",
    "y = y.astype(np.uint8)\n",
    "\n",
    "print(X.shape)\n",
    "print(y.shape)"
   ]
  },
  {
   "cell_type": "code",
   "execution_count": 4,
   "metadata": {},
   "outputs": [],
   "source": [
    "# Train and Test Split\n",
    "X_train, X_test, y_train, y_test = X[:8000], X[8000:], y[:8000], y[8000:]"
   ]
  },
  {
   "cell_type": "code",
   "execution_count": 5,
   "metadata": {},
   "outputs": [
    {
     "name": "stdout",
     "output_type": "stream",
     "text": [
      "['airplane', 'automobile', 'bird', 'cat', 'deer', 'dog', 'frog', 'horse', 'ship', 'truck']\n"
     ]
    }
   ],
   "source": [
    "labels = unpickle(rootpath + '/batches.meta')\n",
    "labels = labels['label_names']\n",
    "print(labels)"
   ]
  },
  {
   "cell_type": "markdown",
   "metadata": {},
   "source": [
    "The dataset is 10,000 images long so X_train is 8,000 images long and X_test is 2,000 images long. Labels for the dataset categories are shown"
   ]
  },
  {
   "cell_type": "markdown",
   "metadata": {},
   "source": [
    "### Visualizing an image from the dataset:\n",
    "https://www.binarystudy.com/2021/09/how-to-load-preprocess-visualize-CIFAR-10-and-CIFAR-100.html#cifar10-single"
   ]
  },
  {
   "cell_type": "code",
   "execution_count": 6,
   "metadata": {},
   "outputs": [
    {
     "data": {
      "image/png": "[encoded data removed]",
      "text/plain": [
       "<Figure size 432x288 with 1 Axes>"
      ]
     },
     "metadata": {
      "needs_background": "light"
     },
     "output_type": "display_data"
    }
   ],
   "source": [
    "import matplotlib.pyplot as plt\n",
    "\n",
    "def plotImage(index):\n",
    "    label_name = labels\n",
    "    image = data_batch_1['data'][index] # take first image\n",
    "    label = data_batch_1['labels'][index] # take first image label index\n",
    "    image = image.reshape(3,32,32) # Reshape the image\n",
    "    image = image.transpose(1,2,0) # Transpose the image\n",
    "    # Display the image: \n",
    "    plt.imshow(image)\n",
    "    plt.title(label_name[label])\n",
    "    \n",
    "plotImage(0)"
   ]
  },
  {
   "cell_type": "markdown",
   "metadata": {},
   "source": [
    "### Use SGDClassifier"
   ]
  },
  {
   "cell_type": "markdown",
   "metadata": {},
   "source": [
    "Using SGD to create a binary classifier. Will classify images for label \"2\", which corresponds to birds. The model will classify if an image is a bird (true) or not a bird (false). Similar example given in chapter 2 of below textbook.\n",
    "\n",
    "Citation: Aureilien Geiron. \"Hands-on machine learning with Scikit-Learn, Keras and TensorFlow: concepts, tools, and techniques to build intelligent systems\""
   ]
  },
  {
   "cell_type": "code",
   "execution_count": 7,
   "metadata": {},
   "outputs": [],
   "source": [
    "y_train_2 = (y_train == 2)  # True for all 2s, False for all other digits\n",
    "y_test_2 = (y_test == 2)"
   ]
  },
  {
   "cell_type": "code",
   "execution_count": 8,
   "metadata": {},
   "outputs": [
    {
     "data": {
      "text/plain": [
       "SGDClassifier(random_state=42)"
      ]
     },
     "execution_count": 8,
     "metadata": {},
     "output_type": "execute_result"
    }
   ],
   "source": [
    "from sklearn.linear_model import SGDClassifier\n",
    "\n",
    "sgd_clf = SGDClassifier(random_state=42)\n",
    "sgd_clf.fit(X_train, y_train_2)"
   ]
  },
  {
   "cell_type": "code",
   "execution_count": 50,
   "metadata": {},
   "outputs": [
    {
     "name": "stdout",
     "output_type": "stream",
     "text": [
      "2\n",
      "bird\n",
      "result:[ True]\n"
     ]
    },
    {
     "data": {
      "image/png": "[encoded data removed]",
      "text/plain": [
       "<Figure size 432x288 with 1 Axes>"
      ]
     },
     "metadata": {
      "needs_background": "light"
     },
     "output_type": "display_data"
    }
   ],
   "source": [
    "# example of predicting index 6 (a bird image)\n",
    "some_digit = X[6] \n",
    "print(y[6])\n",
    "print(labels[y[6]])\n",
    "\n",
    "print('result:' + str(sgd_clf.predict([some_digit])))\n",
    "plotImage(6)"
   ]
  },
  {
   "cell_type": "markdown",
   "metadata": {},
   "source": [
    "The SGD classifier accurately predicts that index 6 is an image of a bird. SGD classifiers are typically faster than logistic regression and perform well for large datasets. The classifier wsa trained quickly.  "
   ]
  },
  {
   "cell_type": "markdown",
   "metadata": {},
   "source": [
    "### Use k-fold Cross Validation (cross_val_score):"
   ]
  },
  {
   "cell_type": "code",
   "execution_count": 10,
   "metadata": {},
   "outputs": [
    {
     "data": {
      "text/plain": [
       "array([0.85976753, 0.89163855, 0.89497374])"
      ]
     },
     "execution_count": 10,
     "metadata": {},
     "output_type": "execute_result"
    }
   ],
   "source": [
    "from sklearn.model_selection import cross_val_score\n",
    "cross_val_score(sgd_clf, X_train, y_train_2, cv=3, scoring=\"accuracy\")"
   ]
  },
  {
   "cell_type": "markdown",
   "metadata": {},
   "source": [
    "sklearn was utilized to calculate the cross validation scores. "
   ]
  },
  {
   "cell_type": "markdown",
   "metadata": {},
   "source": [
    "Adding more data:"
   ]
  },
  {
   "cell_type": "code",
   "execution_count": 11,
   "metadata": {},
   "outputs": [
    {
     "name": "stdout",
     "output_type": "stream",
     "text": [
      "(50000, 3072)\n",
      "(50000,)\n"
     ]
    },
    {
     "data": {
      "text/plain": [
       "SGDClassifier(random_state=42)"
      ]
     },
     "execution_count": 11,
     "metadata": {},
     "output_type": "execute_result"
    }
   ],
   "source": [
    "# load the batches: \n",
    "for i in range(2,6):\n",
    "    filepath = rootpath + '/data_batch_' + str(i)\n",
    "    data_batch_n = unpickle(filepath)\n",
    "    # append the images\n",
    "    a = data_batch_n[\"data\"]\n",
    "    X = np.concatenate((X, a), axis=0)\n",
    "    # append the labels\n",
    "    b = data_batch_1['labels'] #array of labels: 10,000 long for each image\n",
    "    b = np.array(b)\n",
    "    b = b.astype(np.uint8)\n",
    "    y = np.concatenate((y, b), axis=0)\n",
    "\n",
    "# 50,000 images long:\n",
    "print(X.shape)\n",
    "print(y.shape)\n",
    "# recreate train & test:\n",
    "X_train, X_test, y_train, y_test = X[:45000], X[45000:], y[:45000], y[45000:]\n",
    "y_train_2 = (y_train == 2)  # True for all 2s, False for all other digits\n",
    "y_test_2 = (y_test == 2)\n",
    "# retrain classifier:\n",
    "sgd_clf = SGDClassifier(random_state=42)\n",
    "sgd_clf.fit(X_train, y_train_2)"
   ]
  },
  {
   "cell_type": "code",
   "execution_count": 12,
   "metadata": {},
   "outputs": [
    {
     "data": {
      "text/plain": [
       "array([0.88293333, 0.87873333, 0.8942    ])"
      ]
     },
     "execution_count": 12,
     "metadata": {},
     "output_type": "execute_result"
    }
   ],
   "source": [
    "cross_val_score(sgd_clf, X_train, y_train_2, cv=3, scoring=\"accuracy\")"
   ]
  },
  {
   "cell_type": "markdown",
   "metadata": {},
   "source": [
    "CV= number of runs (3)\n",
    "* 88.29% accuracy\n",
    "* 87.87% accuracy\n",
    "* 89.42% accuracy"
   ]
  },
  {
   "cell_type": "markdown",
   "metadata": {},
   "source": [
    "Upon first glance, the accuracy of the model seemed really good for a model as quick as SGD. However since this is a binary classifier, simply answering \"False\" always would grant an accuracy rate of 90% on average. \n",
    "\n",
    "All the data batches were added into the test so the training data would have 45,000 images to train from instead of 8,000. The accuracy only improved slightly. We dropped the remaining images in order to get faster performance.\n",
    "\n",
    "StratifiedKFold cross validation was used to further understand the innacuracies in our model."
   ]
  },
  {
   "cell_type": "markdown",
   "metadata": {},
   "source": [
    "### Use StratifiedKFold cross validation"
   ]
  },
  {
   "cell_type": "code",
   "execution_count": 13,
   "metadata": {},
   "outputs": [
    {
     "data": {
      "text/plain": [
       "SGDClassifier(random_state=42)"
      ]
     },
     "execution_count": 13,
     "metadata": {},
     "output_type": "execute_result"
    }
   ],
   "source": [
    "# reset the data (10,000 images is faster)\n",
    "X = data_batch_1[\"data\"]   #shape: (10000, 3072)\n",
    "y = data_batch_1['labels'] #array of labels: 10,000 long for each image\n",
    "y = np.array(y)\n",
    "y = y.astype(np.uint8)\n",
    "\n",
    "X_train, X_test, y_train, y_test = X[:8000], X[8000:], y[:8000], y[8000:]\n",
    "y_train_2 = (y_train == 2)  # True for all 2s, False for all other digits\n",
    "y_test_2 = (y_test == 2)\n",
    "\n",
    "sgd_clf = SGDClassifier(random_state=42)\n",
    "sgd_clf.fit(X_train, y_train_2)"
   ]
  },
  {
   "cell_type": "code",
   "execution_count": 14,
   "metadata": {},
   "outputs": [
    {
     "name": "stdout",
     "output_type": "stream",
     "text": [
      "0.865\n",
      "0.895\n",
      "0.75625\n",
      "0.61875\n",
      "0.8375\n",
      "0.8375\n",
      "0.8475\n",
      "0.8775\n",
      "0.8825\n",
      "0.6425\n"
     ]
    }
   ],
   "source": [
    "from sklearn.model_selection import StratifiedKFold\n",
    "from sklearn.base import clone\n",
    "\n",
    "skfolds = StratifiedKFold(n_splits=10, shuffle=True, random_state=42)\n",
    "\n",
    "# code utilized from chapter 3 of Hands on Machine Learning \n",
    "for train_index, test_index in skfolds.split(X_train, y_train_2):\n",
    "    clone_clf = clone(sgd_clf)\n",
    "    X_train_folds = X_train[train_index]\n",
    "    y_train_folds = y_train_2[train_index]\n",
    "    X_test_fold = X_train[test_index]\n",
    "    y_test_fold = y_train_2[test_index]\n",
    "\n",
    "    clone_clf.fit(X_train_folds, y_train_folds)\n",
    "    y_pred = clone_clf.predict(X_test_fold)\n",
    "    n_correct = sum(y_pred == y_test_fold)\n",
    "    print(n_correct / len(y_pred))  \n"
   ]
  },
  {
   "cell_type": "markdown",
   "metadata": {},
   "source": [
    "After researching online, it was determined that 10 folds was the proper number of stratified cross folds for a dataset (Olsen). However since the dataset was relatively small (10000), 10 folds potentially may be too much. The stratified data shows better how our model can be very innacurate on small portions of data. But overall the accuracy scores seems a little lower than the expected 90%. Next we generate a confusion matrix to see how innacurate our model truly is. \n",
    "\n",
    "https://cran.r-project.org/web/packages/cvms/vignettes/picking_the_number_of_folds_for_cross-validation.html#:~:text=When%20performing%20cross%2Dvalidation%2C%20it,common%20to%20use%2010%20folds."
   ]
  },
  {
   "cell_type": "markdown",
   "metadata": {},
   "source": [
    "### Generate a confusion matrix:"
   ]
  },
  {
   "cell_type": "code",
   "execution_count": 15,
   "metadata": {},
   "outputs": [],
   "source": [
    "# get list of predictions (will be used to generate the confusion matrix)\n",
    "from sklearn.model_selection import cross_val_predict\n",
    "y_train_pred = cross_val_predict(sgd_clf, X_train, y_train_2, cv=3)"
   ]
  },
  {
   "cell_type": "code",
   "execution_count": 16,
   "metadata": {},
   "outputs": [
    {
     "data": {
      "text/plain": [
       "array([[7019,  164],\n",
       "       [ 779,   38]], dtype=int64)"
      ]
     },
     "execution_count": 16,
     "metadata": {},
     "output_type": "execute_result"
    }
   ],
   "source": [
    "from sklearn.metrics import confusion_matrix\n",
    "\n",
    "confusion_matrix(y_train_2, y_train_pred)"
   ]
  },
  {
   "cell_type": "markdown",
   "metadata": {},
   "source": [
    "True negatives: 7019 <br>\n",
    "False positives: 164 <br>\n",
    "False negatives: 779 <br>\n",
    "True positives: 38 <br>"
   ]
  },
  {
   "cell_type": "markdown",
   "metadata": {},
   "source": [
    "The amount of False negatives is shockingly high, 779, versus the true positives of 38. In the MINST example in the book, the true positives were greater than the false negatives. A confusion matrix is an accurate way to see how the model performs. The overall number of positives in the dataset is overall very low. Meaning, the SGD classifier may have difficulty recogonizing images. Something like a nueral network or logistic regression may be needed to get better results. The images are also more complex than a black and white dataset (noise, color, etc.)"
   ]
  },
  {
   "cell_type": "markdown",
   "metadata": {},
   "source": [
    "### ROC curve: "
   ]
  },
  {
   "cell_type": "markdown",
   "metadata": {},
   "source": [
    "Sklearn can be used to calculate the ROC curve yielding the False positive rate and True Positive Rate (recall). "
   ]
  },
  {
   "cell_type": "code",
   "execution_count": 17,
   "metadata": {},
   "outputs": [],
   "source": [
    "#compute y_scores using cross validation:\n",
    "y_scores = cross_val_predict(sgd_clf, X_train, y_train_2, cv=3,\n",
    "                             method=\"decision_function\")\n",
    "\n",
    "# compute necessary metrics for roc curve\n",
    "from sklearn.metrics import roc_curve\n",
    "fpr, tpr, thresholds = roc_curve(y_train_2, y_scores)"
   ]
  },
  {
   "cell_type": "code",
   "execution_count": 18,
   "metadata": {},
   "outputs": [
    {
     "data": {
      "image/png": "[encoded data removed]",
      "text/plain": [
       "<Figure size 432x288 with 1 Axes>"
      ]
     },
     "metadata": {
      "needs_background": "light"
     },
     "output_type": "display_data"
    }
   ],
   "source": [
    "# graph ROC curve\n",
    "def plot_roc_curve(fpr, tpr, label=None):\n",
    "    plt.plot(fpr, tpr, linewidth=2, label=label)\n",
    "    plt.plot([0, 1], [0, 1], 'k--') # Dashed diagonal\n",
    "    plt.xlabel(\"True Positive Rate\")\n",
    "    plt.ylabel(\"False Positive Rate \")\n",
    "    plt.legend(['recall vs false positives','ROC of random'])\n",
    "\n",
    "\n",
    "plot_roc_curve(fpr, tpr)\n",
    "plt.show()"
   ]
  },
  {
   "cell_type": "code",
   "execution_count": 19,
   "metadata": {},
   "outputs": [
    {
     "name": "stdout",
     "output_type": "stream",
     "text": [
      "0.5941065800166345\n"
     ]
    }
   ],
   "source": [
    "# Use roc to compute area under the curve (1 = perfect classifier; 0.5 = random)\n",
    "from sklearn.metrics import roc_auc_score\n",
    "print(roc_auc_score(y_train_2, y_scores))"
   ]
  },
  {
   "cell_type": "markdown",
   "metadata": {},
   "source": [
    "A score of 1.0 == perfect model; A score of 0.5 == random. The ROC curve may lend some more validity to our model proving that our model is better than random chance (0.60 score > 0.5). This graph shows the model is definitely not reliable to a high degree of precision, but it is much better than random chance by a significant margin.\n",
    "\n",
    "Note: standard scaling was expiremented with, however the calculation did not converge"
   ]
  },
  {
   "cell_type": "markdown",
   "metadata": {},
   "source": [
    "### use OvO or OvR classifier"
   ]
  },
  {
   "cell_type": "markdown",
   "metadata": {},
   "source": [
    "Scikit Learn automatically chooses between One versus One (OvO) or One versus Rest (OvR) classifier. Scikit Learn chooses the more optimal choice"
   ]
  },
  {
   "cell_type": "code",
   "execution_count": 20,
   "metadata": {},
   "outputs": [
    {
     "data": {
      "text/plain": [
       "array([2], dtype=uint8)"
      ]
     },
     "execution_count": 20,
     "metadata": {},
     "output_type": "execute_result"
    }
   ],
   "source": [
    "from sklearn.svm import SVC\n",
    "svm_clf = SVC()\n",
    "svm_clf.fit(X_train, y_train) # y_train, not y_train_5\n",
    "svm_clf.predict([some_digit])"
   ]
  },
  {
   "cell_type": "markdown",
   "metadata": {},
   "source": [
    "Evaluating model's performance: "
   ]
  },
  {
   "cell_type": "code",
   "execution_count": 21,
   "metadata": {},
   "outputs": [
    {
     "data": {
      "text/plain": [
       "array([0.4431946 , 0.43644544, 0.44673668])"
      ]
     },
     "execution_count": 21,
     "metadata": {},
     "output_type": "execute_result"
    }
   ],
   "source": [
    "# cross validation score\n",
    "cross_val_score(svm_clf, X_train, y_train, cv=3, scoring=\"accuracy\")"
   ]
  },
  {
   "cell_type": "markdown",
   "metadata": {},
   "source": [
    "The results from the OvO/OvR classifier are relatively poor but a signifcant margin better than random guessing. The problem now complicates from a simple \"True\" or \"False\" to choosing an image. Random chance would be 10% but our classifier performed at above 40%. The image data is also more complex than to predict than something like the MINST dataset (color images, more noise, similar looking animals, etc.) For more precise results, logistic regression or a neural network should be used."
   ]
  },
  {
   "cell_type": "markdown",
   "metadata": {},
   "source": [
    "### Use sklearn.neighbors.KNeighborsClassifier "
   ]
  },
  {
   "cell_type": "markdown",
   "metadata": {},
   "source": [
    "KNeighborsClassifier will be used to predict for multiple classes. Two categories the cifar 10 dataset is concerned with is both \"trucks\" and \"automobiles.\" Our K neighbor classifier will classify images for both the truck and autombile category as both \"True\" or \"False\". If our model is accurate enough, it will be able to tell the difference between trucks and automobiles. "
   ]
  },
  {
   "cell_type": "code",
   "execution_count": 22,
   "metadata": {},
   "outputs": [
    {
     "data": {
      "text/plain": [
       "array([[False, False],\n",
       "       [False, False],\n",
       "       [False, False],\n",
       "       ...,\n",
       "       [False, False],\n",
       "       [False, False],\n",
       "       [False, False]])"
      ]
     },
     "execution_count": 22,
     "metadata": {},
     "output_type": "execute_result"
    }
   ],
   "source": [
    "# True for all autombiles:\n",
    "y_train_1 = (y_train == 1)\n",
    "y_test_1 = (y_test == 1)\n",
    "# True for all trucks:\n",
    "y_train_8 = (y_train == 8)\n",
    "y_test_8 = (y_test == 8)\n",
    "# All cars multilabel:\n",
    "y_multilabel = np.c_[y_train_1, y_train_8]\n",
    "y_multilabel # truck and car label"
   ]
  },
  {
   "cell_type": "code",
   "execution_count": 23,
   "metadata": {},
   "outputs": [
    {
     "data": {
      "text/plain": [
       "KNeighborsClassifier()"
      ]
     },
     "execution_count": 23,
     "metadata": {},
     "output_type": "execute_result"
    }
   ],
   "source": [
    "from sklearn.neighbors import KNeighborsClassifier\n",
    "# train the knn classifier\n",
    "knn_clf = KNeighborsClassifier()\n",
    "knn_clf.fit(X_train, y_multilabel)"
   ]
  },
  {
   "cell_type": "code",
   "execution_count": 24,
   "metadata": {},
   "outputs": [
    {
     "data": {
      "text/plain": [
       "array([[False,  True]])"
      ]
     },
     "execution_count": 24,
     "metadata": {},
     "output_type": "execute_result"
    }
   ],
   "source": [
    "# test the classifier\n",
    "test_index = 15 #truck image\n",
    "test_image = X[test_index]\n",
    "\n",
    "knn_clf.predict([test_image])"
   ]
  },
  {
   "cell_type": "markdown",
   "metadata": {},
   "source": [
    "The model predicts \"False\" for the automobile category and \"True\" for the truck category. Below is a rendering of the image, it is a truck. In this anecdotal case,the classifier was able to tell the difference between a truck and a car. "
   ]
  },
  {
   "cell_type": "code",
   "execution_count": 25,
   "metadata": {},
   "outputs": [
    {
     "data": {
      "image/png": "[encoded data removed]",
      "text/plain": [
       "<Figure size 432x288 with 1 Axes>"
      ]
     },
     "metadata": {
      "needs_background": "light"
     },
     "output_type": "display_data"
    }
   ],
   "source": [
    "plotImage(15)"
   ]
  },
  {
   "cell_type": "code",
   "execution_count": 53,
   "metadata": {},
   "outputs": [
    {
     "data": {
      "text/plain": [
       "array([0.24287856, 0.23988006, 0.22522523])"
      ]
     },
     "execution_count": 53,
     "metadata": {},
     "output_type": "execute_result"
    }
   ],
   "source": [
    "cross_val_score(knn_clf, X_test, y_test, cv=3, scoring=\"accuracy\")"
   ]
  },
  {
   "cell_type": "markdown",
   "metadata": {},
   "source": [
    "Looking at the cross validation score, the scores are around (0.25). At first this score seems lower than before. However, the kneighbors classifier has to classify multiple classes correctly (both truck and autombile). This seems inline with random chance of guessing both classes (0.5 * 0.5 = 0.25)."
   ]
  },
  {
   "cell_type": "markdown",
   "metadata": {},
   "source": [
    "### Use sklearn.ensamble.RandomForestClassifier"
   ]
  },
  {
   "cell_type": "code",
   "execution_count": 54,
   "metadata": {},
   "outputs": [
    {
     "data": {
      "text/plain": [
       "RandomForestClassifier(max_depth=10, random_state=0)"
      ]
     },
     "execution_count": 54,
     "metadata": {},
     "output_type": "execute_result"
    }
   ],
   "source": [
    "from sklearn.ensemble import RandomForestClassifier\n",
    "\n",
    "clf = RandomForestClassifier(max_depth=10, random_state=0)\n",
    "clf.fit(X_train, y_train)"
   ]
  },
  {
   "cell_type": "code",
   "execution_count": 55,
   "metadata": {},
   "outputs": [
    {
     "data": {
      "text/plain": [
       "array([0.35382309, 0.32683658, 0.33183183])"
      ]
     },
     "execution_count": 55,
     "metadata": {},
     "output_type": "execute_result"
    }
   ],
   "source": [
    "cross_val_score(clf, X_test, y_test, cv=3, scoring=\"accuracy\")"
   ]
  },
  {
   "cell_type": "markdown",
   "metadata": {},
   "source": [
    "Using the random forest classifier, the cross validatgion scores are around 35%. This score is much better than random chance (10%) but worse than the OvO classifier (45%). The paramaters from the random forest classifier can be hyper tuned to increase the model's performance. Increasing the maximum depth to 10 helps improve the model performance greatly. "
   ]
  },
  {
   "cell_type": "markdown",
   "metadata": {},
   "source": [
    "### Use an ensembale of methods"
   ]
  },
  {
   "cell_type": "markdown",
   "metadata": {},
   "source": [
    "From chapter 7 \"ensembale learning.\" Bagging Classifier utilizes \"soft voting\""
   ]
  },
  {
   "cell_type": "code",
   "execution_count": 46,
   "metadata": {},
   "outputs": [],
   "source": [
    "from sklearn.ensemble import BaggingClassifier\n",
    "from sklearn.tree import DecisionTreeClassifier\n",
    "\n",
    "bag_clf = BaggingClassifier(\n",
    "    DecisionTreeClassifier(), n_estimators=500,\n",
    "    max_samples=100, bootstrap=True, n_jobs=-1)\n",
    "bag_clf.fit(X_train, y_train)\n",
    "y_pred = bag_clf.predict(X_test)"
   ]
  },
  {
   "cell_type": "code",
   "execution_count": 44,
   "metadata": {},
   "outputs": [
    {
     "data": {
      "text/plain": [
       "array([0.31934033, 0.30284858, 0.31081081])"
      ]
     },
     "execution_count": 44,
     "metadata": {},
     "output_type": "execute_result"
    }
   ],
   "source": [
    "cross_val_score(bag_clf, X_test, y_test, cv=3, scoring=\"accuracy\")"
   ]
  },
  {
   "cell_type": "code",
   "execution_count": 45,
   "metadata": {},
   "outputs": [
    {
     "data": {
      "text/plain": [
       "<bound method ClassifierMixin.score of BaggingClassifier(base_estimator=DecisionTreeClassifier(), max_samples=100,\n",
       "                  n_estimators=500, n_jobs=-1)>"
      ]
     },
     "execution_count": 45,
     "metadata": {},
     "output_type": "execute_result"
    }
   ],
   "source": [
    "bag_clf.score"
   ]
  },
  {
   "cell_type": "markdown",
   "metadata": {},
   "source": [
    "Bagging machine learning was utilized because it works well with \"weak learning algorithms\" based on our cross validation scores. The cross validation score can be seen that the model's performance was around 30%.\n",
    "\n",
    "https://towardsdatascience.com/ensemble-methods-bagging-boosting-and-stacking-c9214a10a205"
   ]
  }
 ],
 "metadata": {
  "kernelspec": {
   "display_name": "Python 3",
   "language": "python",
   "name": "python3"
  },
  "language_info": {
   "codemirror_mode": {
    "name": "ipython",
    "version": 3
   },
   "file_extension": ".py",
   "mimetype": "text/x-python",
   "name": "python",
   "nbconvert_exporter": "python",
   "pygments_lexer": "ipython3",
   "version": "3.8.5"
  }
 },
 "nbformat": 4,
 "nbformat_minor": 4
}
