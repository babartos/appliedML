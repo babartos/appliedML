{
 "cells": [
  {
   "cell_type": "markdown",
   "id": "ff73d4bf",
   "metadata": {},
   "source": [
    "## Wake County Dataset"
   ]
  },
  {
   "cell_type": "markdown",
   "id": "1740a86f",
   "metadata": {},
   "source": [
    "## Load Dataset"
   ]
  },
  {
   "cell_type": "code",
   "execution_count": 1,
   "id": "0260e2db",
   "metadata": {
    "scrolled": false
   },
   "outputs": [
    {
     "data": {
      "text/html": [
       "<div>\n",
       "<style scoped>\n",
       "    .dataframe tbody tr th:only-of-type {\n",
       "        vertical-align: middle;\n",
       "    }\n",
       "\n",
       "    .dataframe tbody tr th {\n",
       "        vertical-align: top;\n",
       "    }\n",
       "\n",
       "    .dataframe thead th {\n",
       "        text-align: right;\n",
       "    }\n",
       "</style>\n",
       "<table border=\"1\" class=\"dataframe\">\n",
       "  <thead>\n",
       "    <tr style=\"text-align: right;\">\n",
       "      <th></th>\n",
       "      <th>Real_Estate_Id</th>\n",
       "      <th>Deeded_Acreage</th>\n",
       "      <th>Total_Sale_Price</th>\n",
       "      <th>Total_Sale_Date</th>\n",
       "      <th>Month_Year_of_Sale</th>\n",
       "      <th>Year_of_Sale</th>\n",
       "      <th>Year_Built</th>\n",
       "      <th>Year_Remodeled</th>\n",
       "      <th>Heated_Area</th>\n",
       "      <th>Num_Stories</th>\n",
       "      <th>Design_Style</th>\n",
       "      <th>Bath</th>\n",
       "      <th>Utilities</th>\n",
       "      <th>Physical_City</th>\n",
       "      <th>Physical_Zip</th>\n",
       "    </tr>\n",
       "  </thead>\n",
       "  <tbody>\n",
       "    <tr>\n",
       "      <th>0</th>\n",
       "      <td>19</td>\n",
       "      <td>0.21</td>\n",
       "      <td>34500</td>\n",
       "      <td>1/1/1974</td>\n",
       "      <td>January 1974</td>\n",
       "      <td>1974</td>\n",
       "      <td>1964</td>\n",
       "      <td>1964</td>\n",
       "      <td>1828</td>\n",
       "      <td>One Story</td>\n",
       "      <td>Split level</td>\n",
       "      <td>2 Bath</td>\n",
       "      <td>ALL</td>\n",
       "      <td>Raleigh</td>\n",
       "      <td>27610.0</td>\n",
       "    </tr>\n",
       "    <tr>\n",
       "      <th>1</th>\n",
       "      <td>20</td>\n",
       "      <td>0.46</td>\n",
       "      <td>35500</td>\n",
       "      <td>5/18/1983</td>\n",
       "      <td>May 1983</td>\n",
       "      <td>1983</td>\n",
       "      <td>1970</td>\n",
       "      <td>1970</td>\n",
       "      <td>1240</td>\n",
       "      <td>One Story</td>\n",
       "      <td>Conventional</td>\n",
       "      <td>1 Bath</td>\n",
       "      <td>E</td>\n",
       "      <td>Raleigh</td>\n",
       "      <td>27610.0</td>\n",
       "    </tr>\n",
       "    <tr>\n",
       "      <th>2</th>\n",
       "      <td>22</td>\n",
       "      <td>0.46</td>\n",
       "      <td>37500</td>\n",
       "      <td>9/16/2004</td>\n",
       "      <td>September 2004</td>\n",
       "      <td>2004</td>\n",
       "      <td>1900</td>\n",
       "      <td>1900</td>\n",
       "      <td>2261</td>\n",
       "      <td>One Story</td>\n",
       "      <td>Conventional</td>\n",
       "      <td>2 Bath</td>\n",
       "      <td>WSE</td>\n",
       "      <td>Wendell</td>\n",
       "      <td>27591.0</td>\n",
       "    </tr>\n",
       "    <tr>\n",
       "      <th>3</th>\n",
       "      <td>25</td>\n",
       "      <td>0.96</td>\n",
       "      <td>70000</td>\n",
       "      <td>1/1/1971</td>\n",
       "      <td>January 1971</td>\n",
       "      <td>1971</td>\n",
       "      <td>1971</td>\n",
       "      <td>1971</td>\n",
       "      <td>3770</td>\n",
       "      <td>One Story</td>\n",
       "      <td>Conventional</td>\n",
       "      <td>Other</td>\n",
       "      <td>WGE</td>\n",
       "      <td>Raleigh</td>\n",
       "      <td>27613.0</td>\n",
       "    </tr>\n",
       "    <tr>\n",
       "      <th>4</th>\n",
       "      <td>30</td>\n",
       "      <td>0.47</td>\n",
       "      <td>380000</td>\n",
       "      <td>8/12/2015</td>\n",
       "      <td>August 2015</td>\n",
       "      <td>2015</td>\n",
       "      <td>1946</td>\n",
       "      <td>2017</td>\n",
       "      <td>1789</td>\n",
       "      <td>One Story</td>\n",
       "      <td>Conventional</td>\n",
       "      <td>2 Bath</td>\n",
       "      <td>ALL</td>\n",
       "      <td>Raleigh</td>\n",
       "      <td>27607.0</td>\n",
       "    </tr>\n",
       "  </tbody>\n",
       "</table>\n",
       "</div>"
      ],
      "text/plain": [
       "   Real_Estate_Id  Deeded_Acreage  Total_Sale_Price Total_Sale_Date  \\\n",
       "0              19            0.21             34500        1/1/1974   \n",
       "1              20            0.46             35500       5/18/1983   \n",
       "2              22            0.46             37500       9/16/2004   \n",
       "3              25            0.96             70000        1/1/1971   \n",
       "4              30            0.47            380000       8/12/2015   \n",
       "\n",
       "  Month_Year_of_Sale  Year_of_Sale  Year_Built  Year_Remodeled  Heated_Area  \\\n",
       "0       January 1974          1974        1964            1964         1828   \n",
       "1           May 1983          1983        1970            1970         1240   \n",
       "2     September 2004          2004        1900            1900         2261   \n",
       "3       January 1971          1971        1971            1971         3770   \n",
       "4        August 2015          2015        1946            2017         1789   \n",
       "\n",
       "  Num_Stories  Design_Style    Bath Utilities Physical_City  Physical_Zip  \n",
       "0   One Story   Split level  2 Bath       ALL       Raleigh       27610.0  \n",
       "1   One Story  Conventional  1 Bath         E       Raleigh       27610.0  \n",
       "2   One Story  Conventional  2 Bath       WSE       Wendell       27591.0  \n",
       "3   One Story  Conventional   Other       WGE       Raleigh       27613.0  \n",
       "4   One Story  Conventional  2 Bath       ALL       Raleigh       27607.0  "
      ]
     },
     "execution_count": 1,
     "metadata": {},
     "output_type": "execute_result"
    }
   ],
   "source": [
    "import pandas as pd\n",
    "import numpy as np\n",
    "\n",
    "df = pd.read_csv('./WakeCountyHousing.csv')\n",
    "df.head()"
   ]
  },
  {
   "cell_type": "markdown",
   "id": "ec8e8e91",
   "metadata": {},
   "source": [
    "## Drop Unnecessary Columns\n",
    "\n",
    "We decided to drop the unnecessary columns for model prediciton. Those dropped will not be used for prediction."
   ]
  },
  {
   "cell_type": "code",
   "execution_count": 2,
   "id": "b7eb72d7",
   "metadata": {},
   "outputs": [
    {
     "data": {
      "text/html": [
       "<div>\n",
       "<style scoped>\n",
       "    .dataframe tbody tr th:only-of-type {\n",
       "        vertical-align: middle;\n",
       "    }\n",
       "\n",
       "    .dataframe tbody tr th {\n",
       "        vertical-align: top;\n",
       "    }\n",
       "\n",
       "    .dataframe thead th {\n",
       "        text-align: right;\n",
       "    }\n",
       "</style>\n",
       "<table border=\"1\" class=\"dataframe\">\n",
       "  <thead>\n",
       "    <tr style=\"text-align: right;\">\n",
       "      <th></th>\n",
       "      <th>Real_Estate_Id</th>\n",
       "      <th>Total_Sale_Price</th>\n",
       "      <th>Year_of_Sale</th>\n",
       "      <th>Year_Built</th>\n",
       "      <th>Year_Remodeled</th>\n",
       "      <th>Heated_Area</th>\n",
       "      <th>Num_Stories</th>\n",
       "      <th>Design_Style</th>\n",
       "      <th>Bath</th>\n",
       "      <th>Utilities</th>\n",
       "      <th>Physical_City</th>\n",
       "      <th>Physical_Zip</th>\n",
       "    </tr>\n",
       "  </thead>\n",
       "  <tbody>\n",
       "    <tr>\n",
       "      <th>0</th>\n",
       "      <td>19</td>\n",
       "      <td>34500</td>\n",
       "      <td>1974</td>\n",
       "      <td>1964</td>\n",
       "      <td>1964</td>\n",
       "      <td>1828</td>\n",
       "      <td>One Story</td>\n",
       "      <td>Split level</td>\n",
       "      <td>2 Bath</td>\n",
       "      <td>ALL</td>\n",
       "      <td>Raleigh</td>\n",
       "      <td>27610.0</td>\n",
       "    </tr>\n",
       "    <tr>\n",
       "      <th>1</th>\n",
       "      <td>20</td>\n",
       "      <td>35500</td>\n",
       "      <td>1983</td>\n",
       "      <td>1970</td>\n",
       "      <td>1970</td>\n",
       "      <td>1240</td>\n",
       "      <td>One Story</td>\n",
       "      <td>Conventional</td>\n",
       "      <td>1 Bath</td>\n",
       "      <td>E</td>\n",
       "      <td>Raleigh</td>\n",
       "      <td>27610.0</td>\n",
       "    </tr>\n",
       "    <tr>\n",
       "      <th>2</th>\n",
       "      <td>22</td>\n",
       "      <td>37500</td>\n",
       "      <td>2004</td>\n",
       "      <td>1900</td>\n",
       "      <td>1900</td>\n",
       "      <td>2261</td>\n",
       "      <td>One Story</td>\n",
       "      <td>Conventional</td>\n",
       "      <td>2 Bath</td>\n",
       "      <td>WSE</td>\n",
       "      <td>Wendell</td>\n",
       "      <td>27591.0</td>\n",
       "    </tr>\n",
       "    <tr>\n",
       "      <th>3</th>\n",
       "      <td>25</td>\n",
       "      <td>70000</td>\n",
       "      <td>1971</td>\n",
       "      <td>1971</td>\n",
       "      <td>1971</td>\n",
       "      <td>3770</td>\n",
       "      <td>One Story</td>\n",
       "      <td>Conventional</td>\n",
       "      <td>Other</td>\n",
       "      <td>WGE</td>\n",
       "      <td>Raleigh</td>\n",
       "      <td>27613.0</td>\n",
       "    </tr>\n",
       "    <tr>\n",
       "      <th>4</th>\n",
       "      <td>30</td>\n",
       "      <td>380000</td>\n",
       "      <td>2015</td>\n",
       "      <td>1946</td>\n",
       "      <td>2017</td>\n",
       "      <td>1789</td>\n",
       "      <td>One Story</td>\n",
       "      <td>Conventional</td>\n",
       "      <td>2 Bath</td>\n",
       "      <td>ALL</td>\n",
       "      <td>Raleigh</td>\n",
       "      <td>27607.0</td>\n",
       "    </tr>\n",
       "  </tbody>\n",
       "</table>\n",
       "</div>"
      ],
      "text/plain": [
       "   Real_Estate_Id  Total_Sale_Price  Year_of_Sale  Year_Built  Year_Remodeled  \\\n",
       "0              19             34500          1974        1964            1964   \n",
       "1              20             35500          1983        1970            1970   \n",
       "2              22             37500          2004        1900            1900   \n",
       "3              25             70000          1971        1971            1971   \n",
       "4              30            380000          2015        1946            2017   \n",
       "\n",
       "   Heated_Area Num_Stories  Design_Style    Bath Utilities Physical_City  \\\n",
       "0         1828   One Story   Split level  2 Bath       ALL       Raleigh   \n",
       "1         1240   One Story  Conventional  1 Bath         E       Raleigh   \n",
       "2         2261   One Story  Conventional  2 Bath       WSE       Wendell   \n",
       "3         3770   One Story  Conventional   Other       WGE       Raleigh   \n",
       "4         1789   One Story  Conventional  2 Bath       ALL       Raleigh   \n",
       "\n",
       "   Physical_Zip  \n",
       "0       27610.0  \n",
       "1       27610.0  \n",
       "2       27591.0  \n",
       "3       27613.0  \n",
       "4       27607.0  "
      ]
     },
     "execution_count": 2,
     "metadata": {},
     "output_type": "execute_result"
    }
   ],
   "source": [
    "df.drop(columns=['Deeded_Acreage', 'Total_Sale_Date', 'Month_Year_of_Sale'], inplace=True)\n",
    "df.head()"
   ]
  },
  {
   "cell_type": "markdown",
   "id": "907d6707",
   "metadata": {},
   "source": [
    "## Check for null values\n",
    "\n",
    "It was important to see what rows had null values. Categorical data, instead of trying to replace drop columns because there is not too many. Will not make a difference for modelling."
   ]
  },
  {
   "cell_type": "code",
   "execution_count": 3,
   "id": "bed58c53",
   "metadata": {
    "scrolled": true
   },
   "outputs": [
    {
     "name": "stdout",
     "output_type": "stream",
     "text": [
      "<class 'pandas.core.frame.DataFrame'>\n",
      "RangeIndex: 308292 entries, 0 to 308291\n",
      "Data columns (total 12 columns):\n",
      " #   Column            Non-Null Count   Dtype  \n",
      "---  ------            --------------   -----  \n",
      " 0   Real_Estate_Id    308292 non-null  int64  \n",
      " 1   Total_Sale_Price  308292 non-null  int64  \n",
      " 2   Year_of_Sale      308292 non-null  int64  \n",
      " 3   Year_Built        308292 non-null  int64  \n",
      " 4   Year_Remodeled    308292 non-null  int64  \n",
      " 5   Heated_Area       308292 non-null  int64  \n",
      " 6   Num_Stories       308292 non-null  object \n",
      " 7   Design_Style      308292 non-null  object \n",
      " 8   Bath              308275 non-null  object \n",
      " 9   Utilities         306324 non-null  object \n",
      " 10  Physical_City     308183 non-null  object \n",
      " 11  Physical_Zip      308146 non-null  float64\n",
      "dtypes: float64(1), int64(6), object(5)\n",
      "memory usage: 28.2+ MB\n",
      "Real_Estate_Id         0\n",
      "Total_Sale_Price       0\n",
      "Year_of_Sale           0\n",
      "Year_Built             0\n",
      "Year_Remodeled         0\n",
      "Heated_Area            0\n",
      "Num_Stories            0\n",
      "Design_Style           0\n",
      "Bath                  17\n",
      "Utilities           1968\n",
      "Physical_City        109\n",
      "Physical_Zip         146\n",
      "dtype: int64\n"
     ]
    }
   ],
   "source": [
    "df.info()\n",
    "df.isnull()\n",
    "print(df.isnull().sum())"
   ]
  },
  {
   "cell_type": "markdown",
   "id": "746d1284",
   "metadata": {},
   "source": [
    "## Remove rows with missing values\n",
    "\n",
    "Fix the missing value by dropping."
   ]
  },
  {
   "cell_type": "code",
   "execution_count": 4,
   "id": "934d7a06",
   "metadata": {},
   "outputs": [
    {
     "name": "stdout",
     "output_type": "stream",
     "text": [
      "Real_Estate_Id      0\n",
      "Total_Sale_Price    0\n",
      "Year_of_Sale        0\n",
      "Year_Built          0\n",
      "Year_Remodeled      0\n",
      "Heated_Area         0\n",
      "Num_Stories         0\n",
      "Design_Style        0\n",
      "Bath                0\n",
      "Utilities           0\n",
      "Physical_City       0\n",
      "Physical_Zip        0\n",
      "dtype: int64\n"
     ]
    }
   ],
   "source": [
    "df = df.dropna(subset=[\"Bath\"])\n",
    "df = df.dropna(subset=[\"Utilities\"])\n",
    "df = df.dropna(subset=[\"Physical_City\"])\n",
    "df = df.dropna(subset=[\"Physical_Zip\"])\n",
    "print(df.isnull().sum())"
   ]
  },
  {
   "cell_type": "markdown",
   "id": "a0c1afa2",
   "metadata": {},
   "source": [
    "## One-Hot Encode\n",
    "\n",
    "Will first create data frame by one-hot-encoding the categorical data. Will later compare versus ordinal encoding."
   ]
  },
  {
   "cell_type": "code",
   "execution_count": 5,
   "id": "a7e5cfdd",
   "metadata": {
    "scrolled": false
   },
   "outputs": [
    {
     "data": {
      "text/html": [
       "<div>\n",
       "<style scoped>\n",
       "    .dataframe tbody tr th:only-of-type {\n",
       "        vertical-align: middle;\n",
       "    }\n",
       "\n",
       "    .dataframe tbody tr th {\n",
       "        vertical-align: top;\n",
       "    }\n",
       "\n",
       "    .dataframe thead th {\n",
       "        text-align: right;\n",
       "    }\n",
       "</style>\n",
       "<table border=\"1\" class=\"dataframe\">\n",
       "  <thead>\n",
       "    <tr style=\"text-align: right;\">\n",
       "      <th></th>\n",
       "      <th>Real_Estate_Id</th>\n",
       "      <th>Total_Sale_Price</th>\n",
       "      <th>Year_of_Sale</th>\n",
       "      <th>Year_Built</th>\n",
       "      <th>Year_Remodeled</th>\n",
       "      <th>Heated_Area</th>\n",
       "      <th>Physical_Zip</th>\n",
       "      <th>Num_Stories_Other</th>\n",
       "      <th>Num_Stories_Two Story</th>\n",
       "      <th>Design_Style_Colonial</th>\n",
       "      <th>...</th>\n",
       "      <th>Physical_City_Knightdale</th>\n",
       "      <th>Physical_City_Morrisville</th>\n",
       "      <th>Physical_City_New Hill</th>\n",
       "      <th>Physical_City_Raleigh</th>\n",
       "      <th>Physical_City_Rolesville</th>\n",
       "      <th>Physical_City_Wake Forest</th>\n",
       "      <th>Physical_City_Wendell</th>\n",
       "      <th>Physical_City_Willow Spring</th>\n",
       "      <th>Physical_City_Youngsville</th>\n",
       "      <th>Physical_City_Zebulon</th>\n",
       "    </tr>\n",
       "  </thead>\n",
       "  <tbody>\n",
       "    <tr>\n",
       "      <th>0</th>\n",
       "      <td>19</td>\n",
       "      <td>34500</td>\n",
       "      <td>1974</td>\n",
       "      <td>1964</td>\n",
       "      <td>1964</td>\n",
       "      <td>1828</td>\n",
       "      <td>27610.0</td>\n",
       "      <td>0</td>\n",
       "      <td>0</td>\n",
       "      <td>0</td>\n",
       "      <td>...</td>\n",
       "      <td>0</td>\n",
       "      <td>0</td>\n",
       "      <td>0</td>\n",
       "      <td>1</td>\n",
       "      <td>0</td>\n",
       "      <td>0</td>\n",
       "      <td>0</td>\n",
       "      <td>0</td>\n",
       "      <td>0</td>\n",
       "      <td>0</td>\n",
       "    </tr>\n",
       "    <tr>\n",
       "      <th>1</th>\n",
       "      <td>20</td>\n",
       "      <td>35500</td>\n",
       "      <td>1983</td>\n",
       "      <td>1970</td>\n",
       "      <td>1970</td>\n",
       "      <td>1240</td>\n",
       "      <td>27610.0</td>\n",
       "      <td>0</td>\n",
       "      <td>0</td>\n",
       "      <td>0</td>\n",
       "      <td>...</td>\n",
       "      <td>0</td>\n",
       "      <td>0</td>\n",
       "      <td>0</td>\n",
       "      <td>1</td>\n",
       "      <td>0</td>\n",
       "      <td>0</td>\n",
       "      <td>0</td>\n",
       "      <td>0</td>\n",
       "      <td>0</td>\n",
       "      <td>0</td>\n",
       "    </tr>\n",
       "    <tr>\n",
       "      <th>2</th>\n",
       "      <td>22</td>\n",
       "      <td>37500</td>\n",
       "      <td>2004</td>\n",
       "      <td>1900</td>\n",
       "      <td>1900</td>\n",
       "      <td>2261</td>\n",
       "      <td>27591.0</td>\n",
       "      <td>0</td>\n",
       "      <td>0</td>\n",
       "      <td>0</td>\n",
       "      <td>...</td>\n",
       "      <td>0</td>\n",
       "      <td>0</td>\n",
       "      <td>0</td>\n",
       "      <td>0</td>\n",
       "      <td>0</td>\n",
       "      <td>0</td>\n",
       "      <td>1</td>\n",
       "      <td>0</td>\n",
       "      <td>0</td>\n",
       "      <td>0</td>\n",
       "    </tr>\n",
       "    <tr>\n",
       "      <th>3</th>\n",
       "      <td>25</td>\n",
       "      <td>70000</td>\n",
       "      <td>1971</td>\n",
       "      <td>1971</td>\n",
       "      <td>1971</td>\n",
       "      <td>3770</td>\n",
       "      <td>27613.0</td>\n",
       "      <td>0</td>\n",
       "      <td>0</td>\n",
       "      <td>0</td>\n",
       "      <td>...</td>\n",
       "      <td>0</td>\n",
       "      <td>0</td>\n",
       "      <td>0</td>\n",
       "      <td>1</td>\n",
       "      <td>0</td>\n",
       "      <td>0</td>\n",
       "      <td>0</td>\n",
       "      <td>0</td>\n",
       "      <td>0</td>\n",
       "      <td>0</td>\n",
       "    </tr>\n",
       "    <tr>\n",
       "      <th>4</th>\n",
       "      <td>30</td>\n",
       "      <td>380000</td>\n",
       "      <td>2015</td>\n",
       "      <td>1946</td>\n",
       "      <td>2017</td>\n",
       "      <td>1789</td>\n",
       "      <td>27607.0</td>\n",
       "      <td>0</td>\n",
       "      <td>0</td>\n",
       "      <td>0</td>\n",
       "      <td>...</td>\n",
       "      <td>0</td>\n",
       "      <td>0</td>\n",
       "      <td>0</td>\n",
       "      <td>1</td>\n",
       "      <td>0</td>\n",
       "      <td>0</td>\n",
       "      <td>0</td>\n",
       "      <td>0</td>\n",
       "      <td>0</td>\n",
       "      <td>0</td>\n",
       "    </tr>\n",
       "  </tbody>\n",
       "</table>\n",
       "<p>5 rows × 60 columns</p>\n",
       "</div>"
      ],
      "text/plain": [
       "   Real_Estate_Id  Total_Sale_Price  Year_of_Sale  Year_Built  Year_Remodeled  \\\n",
       "0              19             34500          1974        1964            1964   \n",
       "1              20             35500          1983        1970            1970   \n",
       "2              22             37500          2004        1900            1900   \n",
       "3              25             70000          1971        1971            1971   \n",
       "4              30            380000          2015        1946            2017   \n",
       "\n",
       "   Heated_Area  Physical_Zip  Num_Stories_Other  Num_Stories_Two Story  \\\n",
       "0         1828       27610.0                  0                      0   \n",
       "1         1240       27610.0                  0                      0   \n",
       "2         2261       27591.0                  0                      0   \n",
       "3         3770       27613.0                  0                      0   \n",
       "4         1789       27607.0                  0                      0   \n",
       "\n",
       "   Design_Style_Colonial  ...  Physical_City_Knightdale  \\\n",
       "0                      0  ...                         0   \n",
       "1                      0  ...                         0   \n",
       "2                      0  ...                         0   \n",
       "3                      0  ...                         0   \n",
       "4                      0  ...                         0   \n",
       "\n",
       "   Physical_City_Morrisville  Physical_City_New Hill  Physical_City_Raleigh  \\\n",
       "0                          0                       0                      1   \n",
       "1                          0                       0                      1   \n",
       "2                          0                       0                      0   \n",
       "3                          0                       0                      1   \n",
       "4                          0                       0                      1   \n",
       "\n",
       "   Physical_City_Rolesville  Physical_City_Wake Forest  Physical_City_Wendell  \\\n",
       "0                         0                          0                      0   \n",
       "1                         0                          0                      0   \n",
       "2                         0                          0                      1   \n",
       "3                         0                          0                      0   \n",
       "4                         0                          0                      0   \n",
       "\n",
       "   Physical_City_Willow Spring  Physical_City_Youngsville  \\\n",
       "0                            0                          0   \n",
       "1                            0                          0   \n",
       "2                            0                          0   \n",
       "3                            0                          0   \n",
       "4                            0                          0   \n",
       "\n",
       "   Physical_City_Zebulon  \n",
       "0                      0  \n",
       "1                      0  \n",
       "2                      0  \n",
       "3                      0  \n",
       "4                      0  \n",
       "\n",
       "[5 rows x 60 columns]"
      ]
     },
     "execution_count": 5,
     "metadata": {},
     "output_type": "execute_result"
    }
   ],
   "source": [
    "#use get dummies\n",
    "df_hot_encoded = pd.get_dummies(df, drop_first=True)\n",
    "df_hot_encoded.head()"
   ]
  },
  {
   "cell_type": "markdown",
   "id": "9b19df9c",
   "metadata": {},
   "source": [
    "## Sale Price Range"
   ]
  },
  {
   "cell_type": "code",
   "execution_count": 6,
   "id": "12c6f091",
   "metadata": {
    "scrolled": true
   },
   "outputs": [
    {
     "name": "stdout",
     "output_type": "stream",
     "text": [
      "6100200\n"
     ]
    }
   ],
   "source": [
    "#check range for regression test\n",
    "min_value = df_hot_encoded[\"Total_Sale_Price\"].min()\n",
    "max_value = df_hot_encoded[\"Total_Sale_Price\"].max()\n",
    "print(max_value-min_value)"
   ]
  },
  {
   "cell_type": "markdown",
   "id": "f94c62a0",
   "metadata": {},
   "source": [
    "## Create prediciton of sale price\n",
    "\n",
    "The prediciton will be based off predicitng the total sale price of a house. Every column that has not been dropped will go into the model prediciton."
   ]
  },
  {
   "cell_type": "code",
   "execution_count": 7,
   "id": "0520d4ac",
   "metadata": {
    "scrolled": true
   },
   "outputs": [
    {
     "name": "stdout",
     "output_type": "stream",
     "text": [
      "(306161, 59)\n",
      "(306161,)\n",
      "244928.80000000002\n"
     ]
    }
   ],
   "source": [
    "df_hot_encoded_copy = df_hot_encoded\n",
    "y = df_hot_encoded_copy['Total_Sale_Price'] #make y the total sale price\n",
    "del df_hot_encoded_copy['Total_Sale_Price'] #remove from column\n",
    "y = np.array(y)\n",
    "\n",
    "X = df_hot_encoded_copy.to_numpy()\n",
    "\n",
    "print(X.shape)\n",
    "print(y.shape)\n",
    "\n",
    "print(306161*.8)"
   ]
  },
  {
   "cell_type": "markdown",
   "id": "7a388d02",
   "metadata": {},
   "source": [
    "## Train/Test Split\n",
    "\n",
    "Doing an 80/20 split will provide a good split for model prediction."
   ]
  },
  {
   "cell_type": "code",
   "execution_count": 8,
   "id": "e6d38038",
   "metadata": {},
   "outputs": [],
   "source": [
    "X_train, X_test, y_train, y_test = X[:244928], X[244928:], y[:244928], y[244928:]"
   ]
  },
  {
   "cell_type": "markdown",
   "id": "5c64ab75",
   "metadata": {},
   "source": [
    "## Linear Regression\n",
    "\n",
    "We use linear regression to predict our model and then test how accurate our regression is."
   ]
  },
  {
   "cell_type": "code",
   "execution_count": 9,
   "id": "343fce16",
   "metadata": {},
   "outputs": [
    {
     "data": {
      "text/plain": [
       "LinearRegression()"
      ]
     },
     "execution_count": 9,
     "metadata": {},
     "output_type": "execute_result"
    }
   ],
   "source": [
    "from sklearn.linear_model import LinearRegression\n",
    "\n",
    "#run regression\n",
    "lin_reg = LinearRegression()\n",
    "lin_reg.fit(X_train, y_train)"
   ]
  },
  {
   "cell_type": "code",
   "execution_count": 10,
   "id": "17ca1d40",
   "metadata": {},
   "outputs": [],
   "source": [
    "predictions = lin_reg.predict(X_test)"
   ]
  },
  {
   "cell_type": "markdown",
   "id": "08bb4de4",
   "metadata": {},
   "source": [
    "### Mean squared Error"
   ]
  },
  {
   "cell_type": "code",
   "execution_count": 11,
   "id": "decc8ebc",
   "metadata": {
    "scrolled": true
   },
   "outputs": [
    {
     "data": {
      "text/plain": [
       "107948.15122136101"
      ]
     },
     "execution_count": 11,
     "metadata": {},
     "output_type": "execute_result"
    }
   ],
   "source": [
    "from sklearn.metrics import mean_squared_error\n",
    "predictions = lin_reg.predict(X_test)\n",
    "lin_mse = mean_squared_error(y_test, predictions)\n",
    "lin_rmse = np.sqrt(lin_mse)\n",
    "lin_rmse"
   ]
  },
  {
   "cell_type": "markdown",
   "id": "a606996b",
   "metadata": {},
   "source": [
    "### R squared"
   ]
  },
  {
   "cell_type": "code",
   "execution_count": 12,
   "id": "a615ae54",
   "metadata": {},
   "outputs": [
    {
     "data": {
      "text/plain": [
       "0.6035088788123932"
      ]
     },
     "execution_count": 12,
     "metadata": {},
     "output_type": "execute_result"
    }
   ],
   "source": [
    "from sklearn.metrics import r2_score \n",
    "\n",
    "r2_score(y_test, predictions)"
   ]
  },
  {
   "cell_type": "markdown",
   "id": "1f544747",
   "metadata": {},
   "source": [
    "\n",
    "#### Model created a score of 0.60\n",
    "\n",
    "R2 score perfect = 1.00 <br>\n",
    "Our Model = 0.60"
   ]
  },
  {
   "cell_type": "markdown",
   "id": "6fff4e79",
   "metadata": {},
   "source": [
    "## Ordinal Encoding\n",
    "\n",
    "Now that one-hot-encoding has been done, we will test the data set using ordinal encoding for the categorical data."
   ]
  },
  {
   "cell_type": "code",
   "execution_count": 13,
   "id": "25d448a7",
   "metadata": {},
   "outputs": [],
   "source": [
    "from sklearn.preprocessing import OrdinalEncoder\n",
    "\n",
    "#ordinal encoding has to manually be done\n",
    "df_ordinal = df\n",
    "encode_1 = OrdinalEncoder()\n",
    "\n",
    "#num of stories\n",
    "stories_reshaped = np.array(df_ordinal['Num_Stories']).reshape(-1, 1)\n",
    "stories_values = encode_1.fit_transform(stories_reshaped)\n",
    "\n",
    "#design style\n",
    "design_reshaped = np.array(df_ordinal['Design_Style']).reshape(-1, 1)\n",
    "design_values = encode_1.fit_transform(design_reshaped)\n",
    "\n",
    "#bath\n",
    "bath_reshaped = np.array(df_ordinal['Bath']).reshape(-1, 1)\n",
    "bath_values = encode_1.fit_transform(bath_reshaped)\n",
    "\n",
    "#utilties\n",
    "util_reshaped = np.array(df_ordinal['Utilities']).reshape(-1, 1)\n",
    "util_values = encode_1.fit_transform(util_reshaped)"
   ]
  },
  {
   "cell_type": "code",
   "execution_count": 14,
   "id": "1348c289",
   "metadata": {
    "scrolled": true
   },
   "outputs": [
    {
     "name": "stdout",
     "output_type": "stream",
     "text": [
      "['One Story' 'Two Story' 'Other']\n",
      "['Split level' 'Conventional' 'Ranch' 'Townhouse' 'Split Foyer'\n",
      " 'Contemporary' 'Modular' 'Colonial' 'Conversion' 'Condo' 'Log' 'Duplex'\n",
      " 'Manuf Multi' 'Cape']\n",
      "['2 Bath' '1 Bath' 'Other' '3 Bath' '3½ Bath' '1 ½ Bath' '2½ Bath']\n",
      "['ALL' 'E' 'WSE' 'WGE' 'WE' 'GE' 'S' 'WSG' 'W' 'SGE' 'G' 'SE' 'SG' 'WG'\n",
      " 'WS']\n"
     ]
    }
   ],
   "source": [
    "#check uniqiue values for each to create column headers\n",
    "uniqueValuesN = df_ordinal['Num_Stories'].unique()\n",
    "print(uniqueValuesN)\n",
    "uniqueValuesD = df_ordinal['Design_Style'].unique()\n",
    "print(uniqueValuesD)\n",
    "uniqueValuesB = df_ordinal['Bath'].unique()\n",
    "print(uniqueValuesB)\n",
    "uniqueValuesU = df_ordinal['Utilities'].unique()\n",
    "print(uniqueValuesU)"
   ]
  },
  {
   "cell_type": "markdown",
   "id": "c08e4c11",
   "metadata": {},
   "source": [
    "## Create Headers"
   ]
  },
  {
   "cell_type": "code",
   "execution_count": 15,
   "id": "51c5e959",
   "metadata": {},
   "outputs": [
    {
     "data": {
      "text/html": [
       "<div>\n",
       "<style scoped>\n",
       "    .dataframe tbody tr th:only-of-type {\n",
       "        vertical-align: middle;\n",
       "    }\n",
       "\n",
       "    .dataframe tbody tr th {\n",
       "        vertical-align: top;\n",
       "    }\n",
       "\n",
       "    .dataframe thead th {\n",
       "        text-align: right;\n",
       "    }\n",
       "</style>\n",
       "<table border=\"1\" class=\"dataframe\">\n",
       "  <thead>\n",
       "    <tr style=\"text-align: right;\">\n",
       "      <th></th>\n",
       "      <th>Stories Value</th>\n",
       "      <th>Design Value</th>\n",
       "      <th>Bath Value</th>\n",
       "      <th>Utility Value</th>\n",
       "    </tr>\n",
       "  </thead>\n",
       "  <tbody>\n",
       "    <tr>\n",
       "      <th>0</th>\n",
       "      <td>0.0</td>\n",
       "      <td>12.0</td>\n",
       "      <td>2.0</td>\n",
       "      <td>0.0</td>\n",
       "    </tr>\n",
       "    <tr>\n",
       "      <th>1</th>\n",
       "      <td>0.0</td>\n",
       "      <td>4.0</td>\n",
       "      <td>0.0</td>\n",
       "      <td>1.0</td>\n",
       "    </tr>\n",
       "    <tr>\n",
       "      <th>2</th>\n",
       "      <td>0.0</td>\n",
       "      <td>4.0</td>\n",
       "      <td>2.0</td>\n",
       "      <td>13.0</td>\n",
       "    </tr>\n",
       "    <tr>\n",
       "      <th>3</th>\n",
       "      <td>0.0</td>\n",
       "      <td>4.0</td>\n",
       "      <td>6.0</td>\n",
       "      <td>11.0</td>\n",
       "    </tr>\n",
       "    <tr>\n",
       "      <th>4</th>\n",
       "      <td>0.0</td>\n",
       "      <td>4.0</td>\n",
       "      <td>2.0</td>\n",
       "      <td>0.0</td>\n",
       "    </tr>\n",
       "  </tbody>\n",
       "</table>\n",
       "</div>"
      ],
      "text/plain": [
       "   Stories Value  Design Value  Bath Value  Utility Value\n",
       "0            0.0          12.0         2.0            0.0\n",
       "1            0.0           4.0         0.0            1.0\n",
       "2            0.0           4.0         2.0           13.0\n",
       "3            0.0           4.0         6.0           11.0\n",
       "4            0.0           4.0         2.0            0.0"
      ]
     },
     "execution_count": 15,
     "metadata": {},
     "output_type": "execute_result"
    }
   ],
   "source": [
    "#num stories\n",
    "stories = pd.DataFrame(stories_values, columns=['Stories Value'])\n",
    "\n",
    "#design style\n",
    "design_style = pd.DataFrame(design_values, columns=['Design Value'])\n",
    "\n",
    "#baths\n",
    "baths = pd.DataFrame(bath_values, columns=['Bath Value'])\n",
    "\n",
    "#utilities\n",
    "utilities = pd.DataFrame(util_values, columns=['Utility Value'])\n",
    "\n",
    "df_ordinal_cats = pd.concat([stories,design_style,baths,utilities], axis=1)\n",
    "df_ordinal_cats.head()"
   ]
  },
  {
   "cell_type": "code",
   "execution_count": 16,
   "id": "b5f3491f",
   "metadata": {
    "scrolled": false
   },
   "outputs": [
    {
     "data": {
      "text/html": [
       "<div>\n",
       "<style scoped>\n",
       "    .dataframe tbody tr th:only-of-type {\n",
       "        vertical-align: middle;\n",
       "    }\n",
       "\n",
       "    .dataframe tbody tr th {\n",
       "        vertical-align: top;\n",
       "    }\n",
       "\n",
       "    .dataframe thead th {\n",
       "        text-align: right;\n",
       "    }\n",
       "</style>\n",
       "<table border=\"1\" class=\"dataframe\">\n",
       "  <thead>\n",
       "    <tr style=\"text-align: right;\">\n",
       "      <th></th>\n",
       "      <th>Real_Estate_Id</th>\n",
       "      <th>Total_Sale_Price</th>\n",
       "      <th>Year_of_Sale</th>\n",
       "      <th>Year_Built</th>\n",
       "      <th>Year_Remodeled</th>\n",
       "      <th>Heated_Area</th>\n",
       "      <th>Physical_Zip</th>\n",
       "      <th>Stories Value</th>\n",
       "      <th>Design Value</th>\n",
       "      <th>Bath Value</th>\n",
       "      <th>Utility Value</th>\n",
       "    </tr>\n",
       "  </thead>\n",
       "  <tbody>\n",
       "    <tr>\n",
       "      <th>0</th>\n",
       "      <td>19.0</td>\n",
       "      <td>34500.0</td>\n",
       "      <td>1974.0</td>\n",
       "      <td>1964.0</td>\n",
       "      <td>1964.0</td>\n",
       "      <td>1828.0</td>\n",
       "      <td>27610.0</td>\n",
       "      <td>0.0</td>\n",
       "      <td>12.0</td>\n",
       "      <td>2.0</td>\n",
       "      <td>0.0</td>\n",
       "    </tr>\n",
       "    <tr>\n",
       "      <th>1</th>\n",
       "      <td>20.0</td>\n",
       "      <td>35500.0</td>\n",
       "      <td>1983.0</td>\n",
       "      <td>1970.0</td>\n",
       "      <td>1970.0</td>\n",
       "      <td>1240.0</td>\n",
       "      <td>27610.0</td>\n",
       "      <td>0.0</td>\n",
       "      <td>4.0</td>\n",
       "      <td>0.0</td>\n",
       "      <td>1.0</td>\n",
       "    </tr>\n",
       "    <tr>\n",
       "      <th>2</th>\n",
       "      <td>22.0</td>\n",
       "      <td>37500.0</td>\n",
       "      <td>2004.0</td>\n",
       "      <td>1900.0</td>\n",
       "      <td>1900.0</td>\n",
       "      <td>2261.0</td>\n",
       "      <td>27591.0</td>\n",
       "      <td>0.0</td>\n",
       "      <td>4.0</td>\n",
       "      <td>2.0</td>\n",
       "      <td>13.0</td>\n",
       "    </tr>\n",
       "    <tr>\n",
       "      <th>3</th>\n",
       "      <td>25.0</td>\n",
       "      <td>70000.0</td>\n",
       "      <td>1971.0</td>\n",
       "      <td>1971.0</td>\n",
       "      <td>1971.0</td>\n",
       "      <td>3770.0</td>\n",
       "      <td>27613.0</td>\n",
       "      <td>0.0</td>\n",
       "      <td>4.0</td>\n",
       "      <td>6.0</td>\n",
       "      <td>11.0</td>\n",
       "    </tr>\n",
       "    <tr>\n",
       "      <th>4</th>\n",
       "      <td>30.0</td>\n",
       "      <td>380000.0</td>\n",
       "      <td>2015.0</td>\n",
       "      <td>1946.0</td>\n",
       "      <td>2017.0</td>\n",
       "      <td>1789.0</td>\n",
       "      <td>27607.0</td>\n",
       "      <td>0.0</td>\n",
       "      <td>4.0</td>\n",
       "      <td>2.0</td>\n",
       "      <td>0.0</td>\n",
       "    </tr>\n",
       "  </tbody>\n",
       "</table>\n",
       "</div>"
      ],
      "text/plain": [
       "   Real_Estate_Id  Total_Sale_Price  Year_of_Sale  Year_Built  Year_Remodeled  \\\n",
       "0            19.0           34500.0        1974.0      1964.0          1964.0   \n",
       "1            20.0           35500.0        1983.0      1970.0          1970.0   \n",
       "2            22.0           37500.0        2004.0      1900.0          1900.0   \n",
       "3            25.0           70000.0        1971.0      1971.0          1971.0   \n",
       "4            30.0          380000.0        2015.0      1946.0          2017.0   \n",
       "\n",
       "   Heated_Area  Physical_Zip  Stories Value  Design Value  Bath Value  \\\n",
       "0       1828.0       27610.0            0.0          12.0         2.0   \n",
       "1       1240.0       27610.0            0.0           4.0         0.0   \n",
       "2       2261.0       27591.0            0.0           4.0         2.0   \n",
       "3       3770.0       27613.0            0.0           4.0         6.0   \n",
       "4       1789.0       27607.0            0.0           4.0         2.0   \n",
       "\n",
       "   Utility Value  \n",
       "0            0.0  \n",
       "1            1.0  \n",
       "2           13.0  \n",
       "3           11.0  \n",
       "4            0.0  "
      ]
     },
     "execution_count": 16,
     "metadata": {},
     "output_type": "execute_result"
    }
   ],
   "source": [
    "#dataframe everything else but the ordinal categories\n",
    "df_others = df[['Real_Estate_Id', 'Total_Sale_Price', 'Year_of_Sale', 'Year_Built', 'Year_Remodeled', 'Heated_Area', 'Physical_Zip']]\n",
    "\n",
    "#combine data frames\n",
    "df_ordinal_final = pd.concat([df_others, df_ordinal_cats], axis=1)\n",
    "df_ordinal_final.head()\n"
   ]
  },
  {
   "cell_type": "code",
   "execution_count": 17,
   "id": "a9c926d9",
   "metadata": {
    "scrolled": true
   },
   "outputs": [
    {
     "name": "stdout",
     "output_type": "stream",
     "text": [
      "<class 'pandas.core.frame.DataFrame'>\n",
      "Int64Index: 308237 entries, 0 to 308291\n",
      "Data columns (total 11 columns):\n",
      " #   Column            Non-Null Count   Dtype  \n",
      "---  ------            --------------   -----  \n",
      " 0   Real_Estate_Id    306161 non-null  float64\n",
      " 1   Total_Sale_Price  306161 non-null  float64\n",
      " 2   Year_of_Sale      306161 non-null  float64\n",
      " 3   Year_Built        306161 non-null  float64\n",
      " 4   Year_Remodeled    306161 non-null  float64\n",
      " 5   Heated_Area       306161 non-null  float64\n",
      " 6   Physical_Zip      306161 non-null  float64\n",
      " 7   Stories Value     306161 non-null  float64\n",
      " 8   Design Value      306161 non-null  float64\n",
      " 9   Bath Value        306161 non-null  float64\n",
      " 10  Utility Value     306161 non-null  float64\n",
      "dtypes: float64(11)\n",
      "memory usage: 28.2 MB\n",
      "Real_Estate_Id      0\n",
      "Total_Sale_Price    0\n",
      "Year_of_Sale        0\n",
      "Year_Built          0\n",
      "Year_Remodeled      0\n",
      "Heated_Area         0\n",
      "Physical_Zip        0\n",
      "Stories Value       0\n",
      "Design Value        0\n",
      "Bath Value          0\n",
      "Utility Value       0\n",
      "dtype: int64\n"
     ]
    }
   ],
   "source": [
    "#check for nan\n",
    "df_ordinal_final.info()\n",
    "df_ordinal_final.isnull()\n",
    "# replace inf with NaN\n",
    "df_ordinal_final.replace([np.inf, -np.inf], np.nan, inplace=True)\n",
    "#drop NaN values\n",
    "df_ordinal_final = df_ordinal_final.dropna()\n",
    "print(df_ordinal_final.isnull().sum())"
   ]
  },
  {
   "cell_type": "markdown",
   "id": "caf977a8",
   "metadata": {},
   "source": [
    "## Training Data\n",
    "\n",
    "Will once again predicit the total sale price."
   ]
  },
  {
   "cell_type": "code",
   "execution_count": 18,
   "id": "7ec359e5",
   "metadata": {},
   "outputs": [
    {
     "name": "stdout",
     "output_type": "stream",
     "text": [
      "(304085, 10)\n",
      "(304085,)\n",
      "246589.6\n"
     ]
    }
   ],
   "source": [
    "y = df_ordinal_final['Total_Sale_Price'] \n",
    "del df_ordinal_final['Total_Sale_Price'] \n",
    "y = np.array(y)\n",
    "\n",
    "X = df_ordinal_final.to_numpy()\n",
    "\n",
    "print(X.shape)\n",
    "print(y.shape)\n",
    "\n",
    "print(308237*.8)"
   ]
  },
  {
   "cell_type": "code",
   "execution_count": 19,
   "id": "012212e0",
   "metadata": {},
   "outputs": [],
   "source": [
    "X_train, X_test, y_train, y_test = X[:246589], X[246589:], y[:246589], y[246589:]"
   ]
  },
  {
   "cell_type": "code",
   "execution_count": 20,
   "id": "77e929bf",
   "metadata": {},
   "outputs": [
    {
     "name": "stdout",
     "output_type": "stream",
     "text": [
      "False\n"
     ]
    },
    {
     "data": {
      "text/plain": [
       "True"
      ]
     },
     "execution_count": 20,
     "metadata": {},
     "output_type": "execute_result"
    }
   ],
   "source": [
    "#ensure there is no nan or inf data points. Problem with ordinal encoding\n",
    "print(np.any(np.isnan(X_train)))\n",
    "np.all(np.isfinite(X_train))"
   ]
  },
  {
   "cell_type": "markdown",
   "id": "da365efa",
   "metadata": {},
   "source": [
    "## Linear Regression\n",
    "\n",
    "Will do linear regression on ordinal encoding based data frame."
   ]
  },
  {
   "cell_type": "code",
   "execution_count": 21,
   "id": "db974658",
   "metadata": {
    "scrolled": true
   },
   "outputs": [
    {
     "data": {
      "text/plain": [
       "LinearRegression()"
      ]
     },
     "execution_count": 21,
     "metadata": {},
     "output_type": "execute_result"
    }
   ],
   "source": [
    "lin_reg = LinearRegression()\n",
    "lin_reg.fit(X_train, y_train)"
   ]
  },
  {
   "cell_type": "markdown",
   "id": "108ebdb2",
   "metadata": {},
   "source": [
    "### MSE and R2 score check"
   ]
  },
  {
   "cell_type": "code",
   "execution_count": 22,
   "id": "bd845139",
   "metadata": {},
   "outputs": [
    {
     "data": {
      "text/plain": [
       "110852.71342336213"
      ]
     },
     "execution_count": 22,
     "metadata": {},
     "output_type": "execute_result"
    }
   ],
   "source": [
    "#MSE on dataframe\n",
    "predictions = lin_reg.predict(X_test)\n",
    "predictions = lin_reg.predict(X_test)\n",
    "lin_mse = mean_squared_error(y_test, predictions)\n",
    "lin_rmse = np.sqrt(lin_mse)\n",
    "lin_rmse"
   ]
  },
  {
   "cell_type": "code",
   "execution_count": 23,
   "id": "23932459",
   "metadata": {
    "scrolled": true
   },
   "outputs": [
    {
     "data": {
      "text/plain": [
       "0.5835198226046148"
      ]
     },
     "execution_count": 23,
     "metadata": {},
     "output_type": "execute_result"
    }
   ],
   "source": [
    "#R2 score check\n",
    "r2_score(y_test, predictions)"
   ]
  },
  {
   "cell_type": "markdown",
   "id": "e9574b23",
   "metadata": {},
   "source": [
    "#### Model created a score of 0.58\n",
    "\n",
    "R2 score perfect = 1.00 <br>\n",
    "Our Model = 0.58"
   ]
  },
  {
   "cell_type": "markdown",
   "id": "1a661622",
   "metadata": {},
   "source": [
    "## Check on Different Encodings\n",
    "\n",
    "Based on our different models, we found one hot encoding the data provided slightly more accurate predicitons. The oridnal encoded data provided very well; however, the one hot gave a slightly less error and a better/closer to 1 value for R2. It is a very slight difference in output, but one hot encoding is slightly better to do in this case.\n",
    "\n"
   ]
  }
 ],
 "metadata": {
  "kernelspec": {
   "display_name": "Python 3 (ipykernel)",
   "language": "python",
   "name": "python3"
  },
  "language_info": {
   "codemirror_mode": {
    "name": "ipython",
    "version": 3
   },
   "file_extension": ".py",
   "mimetype": "text/x-python",
   "name": "python",
   "nbconvert_exporter": "python",
   "pygments_lexer": "ipython3",
   "version": "3.7.7"
  }
 },
 "nbformat": 4,
 "nbformat_minor": 5
}
