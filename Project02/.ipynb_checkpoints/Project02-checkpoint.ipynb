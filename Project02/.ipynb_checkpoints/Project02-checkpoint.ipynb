{
 "cells": [
  {
   "cell_type": "markdown",
   "metadata": {},
   "source": [
    "# Project 2\n",
    "### CS 5/7394 - Applied Machine Learning \n",
    "### Matt Bartos and Jarod Cox\n",
    "\n",
    "- **Due** - March 11 @ 11:59 pm pushed to Github repo\n",
    "- **Teams** - You can do this project solo or in pairs.  Not 3, not 4 not 5... Max of 2. If a 5394 student pairs with a 7394 student, the pair needs to do the 7394 work. "
   ]
  },
  {
   "cell_type": "markdown",
   "metadata": {},
   "source": [
    "Below are 6 Kaggle Datasets.  You will choose 1 to work with for this project. \n",
    "\n",
    "- [Airfare Prediction Dataset](https://www.kaggle.com/zwartfreak/airline-fare-prediction)\n",
    "- [Chinese Rest Holiday Dataset](https://www.kaggle.com/holoong9291/chinese-rest-holiday-dataset-2020-to-2022)\n",
    "- [Jigsaw Toxic Comment Classification Challenge](https://www.kaggle.com/julian3833/jigsaw-toxic-comment-classification-challenge?select=train.csv)\n",
    "- [Latest Covid 19 Dataset Worldwide](https://www.kaggle.com/sandhyakrishnan02/latest-covid-19-dataset-worldwide)\n",
    "- [Trains](https://www.kaggle.com/vahidehdashti/machinelearningdatabase-trains?select=trains-original.data)\n",
    "- [Football Data top 5 Leagues](https://www.kaggle.com/sanjeetsinghnaik/football-data-top-5-leagues)\n",
    "\n",
    "Merging disparate datasets is a staple of the data exploration process.  Therefore, for which ever data set above that you choose, you will need to independently find **an additional** dataset to merge with your selection.  The only requirement is that it add to the richness of the original dataset. Students in the 7000-level version of the class need to find two additional data sets to merge with the original selection. \n",
    "\n",
    "_Note_: If you want to start with a different data set, you need to get Fontenot's OK first.  "
   ]
  },
  {
   "cell_type": "markdown",
   "metadata": {},
   "source": [
    "### Your Tasks\n",
    "\n",
    "Below, there are cells that provide directions on what to do for the project.  \n",
    "\n",
    "You can insert as many cells between the ones below as you'd like, but please **Do NOT** change the cells already provided. "
   ]
  },
  {
   "cell_type": "markdown",
   "metadata": {},
   "source": [
    "### Part 1 - Getting Started\n",
    "\n",
    "- Import libraries\n",
    "- Load original Data (which ever one you chose from the provided list) into a data frame. \n",
    "- Load your additional data set(s) into a data frame. \n",
    "- In a markdown cell, provide a brief description of your the data sets you've chosen to work with.  \n",
    "- Develop a list of 3 - 4 questions that you hope to be able to answer after the exploration of the data and write them in this section. "
   ]
  },
  {
   "cell_type": "code",
   "execution_count": 1,
   "metadata": {},
   "outputs": [],
   "source": [
    "# Import libraries\n",
    "import pandas as pd\n",
    "import numpy as np"
   ]
  },
  {
   "cell_type": "code",
   "execution_count": 2,
   "metadata": {},
   "outputs": [
    {
     "data": {
      "text/html": [
       "<div>\n",
       "<style scoped>\n",
       "    .dataframe tbody tr th:only-of-type {\n",
       "        vertical-align: middle;\n",
       "    }\n",
       "\n",
       "    .dataframe tbody tr th {\n",
       "        vertical-align: top;\n",
       "    }\n",
       "\n",
       "    .dataframe thead th {\n",
       "        text-align: right;\n",
       "    }\n",
       "</style>\n",
       "<table border=\"1\" class=\"dataframe\">\n",
       "  <thead>\n",
       "    <tr style=\"text-align: right;\">\n",
       "      <th></th>\n",
       "      <th>Unnamed: 0</th>\n",
       "      <th>Home Team</th>\n",
       "      <th>Away Team</th>\n",
       "      <th>Score</th>\n",
       "      <th>Half Time Score</th>\n",
       "      <th>Match Excitement</th>\n",
       "      <th>Home Team Rating</th>\n",
       "      <th>Away Team Rating</th>\n",
       "      <th>Home Team Possession %</th>\n",
       "      <th>Away Team Possession %</th>\n",
       "      <th>...</th>\n",
       "      <th>Away Team Fouls</th>\n",
       "      <th>Away Team Yellow Cards</th>\n",
       "      <th>Away Team Second Yellow Cards</th>\n",
       "      <th>Away Team Red Cards</th>\n",
       "      <th>Home Team Goals Scored</th>\n",
       "      <th>Away Team Goals Scored</th>\n",
       "      <th>Home Team Goals Conceeded</th>\n",
       "      <th>Away Team Goals Conceeded</th>\n",
       "      <th>year</th>\n",
       "      <th>league</th>\n",
       "    </tr>\n",
       "  </thead>\n",
       "  <tbody>\n",
       "    <tr>\n",
       "      <th>0</th>\n",
       "      <td>0</td>\n",
       "      <td>MAN UTD</td>\n",
       "      <td>SWANSEA</td>\n",
       "      <td>1-2</td>\n",
       "      <td>0-1</td>\n",
       "      <td>5.9</td>\n",
       "      <td>5.6</td>\n",
       "      <td>7.6</td>\n",
       "      <td>60</td>\n",
       "      <td>40</td>\n",
       "      <td>...</td>\n",
       "      <td>20.0</td>\n",
       "      <td>4.0</td>\n",
       "      <td>0.0</td>\n",
       "      <td>0.0</td>\n",
       "      <td>1</td>\n",
       "      <td>2</td>\n",
       "      <td>2</td>\n",
       "      <td>1</td>\n",
       "      <td>2014</td>\n",
       "      <td>english</td>\n",
       "    </tr>\n",
       "    <tr>\n",
       "      <th>1</th>\n",
       "      <td>1</td>\n",
       "      <td>WEST BROM</td>\n",
       "      <td>SUNDERLAND</td>\n",
       "      <td>2-2</td>\n",
       "      <td>1-1</td>\n",
       "      <td>7.3</td>\n",
       "      <td>6.5</td>\n",
       "      <td>7.4</td>\n",
       "      <td>58</td>\n",
       "      <td>42</td>\n",
       "      <td>...</td>\n",
       "      <td>9.0</td>\n",
       "      <td>1.0</td>\n",
       "      <td>0.0</td>\n",
       "      <td>0.0</td>\n",
       "      <td>2</td>\n",
       "      <td>2</td>\n",
       "      <td>2</td>\n",
       "      <td>2</td>\n",
       "      <td>2014</td>\n",
       "      <td>english</td>\n",
       "    </tr>\n",
       "    <tr>\n",
       "      <th>2</th>\n",
       "      <td>2</td>\n",
       "      <td>LEICESTER CITY</td>\n",
       "      <td>EVERTON</td>\n",
       "      <td>2-2</td>\n",
       "      <td>1-2</td>\n",
       "      <td>7.0</td>\n",
       "      <td>6.5</td>\n",
       "      <td>6.3</td>\n",
       "      <td>37</td>\n",
       "      <td>63</td>\n",
       "      <td>...</td>\n",
       "      <td>10.0</td>\n",
       "      <td>1.0</td>\n",
       "      <td>0.0</td>\n",
       "      <td>0.0</td>\n",
       "      <td>2</td>\n",
       "      <td>2</td>\n",
       "      <td>2</td>\n",
       "      <td>2</td>\n",
       "      <td>2014</td>\n",
       "      <td>english</td>\n",
       "    </tr>\n",
       "    <tr>\n",
       "      <th>3</th>\n",
       "      <td>3</td>\n",
       "      <td>WEST HAM</td>\n",
       "      <td>TOTTENHAM</td>\n",
       "      <td>0-1</td>\n",
       "      <td>0-0</td>\n",
       "      <td>4.8</td>\n",
       "      <td>5.9</td>\n",
       "      <td>6.4</td>\n",
       "      <td>47</td>\n",
       "      <td>53</td>\n",
       "      <td>...</td>\n",
       "      <td>10.0</td>\n",
       "      <td>0.0</td>\n",
       "      <td>0.0</td>\n",
       "      <td>1.0</td>\n",
       "      <td>0</td>\n",
       "      <td>1</td>\n",
       "      <td>1</td>\n",
       "      <td>0</td>\n",
       "      <td>2014</td>\n",
       "      <td>english</td>\n",
       "    </tr>\n",
       "    <tr>\n",
       "      <th>4</th>\n",
       "      <td>4</td>\n",
       "      <td>QPR</td>\n",
       "      <td>HULL CITY</td>\n",
       "      <td>0-1</td>\n",
       "      <td>0-0</td>\n",
       "      <td>3.8</td>\n",
       "      <td>5.7</td>\n",
       "      <td>6.6</td>\n",
       "      <td>51</td>\n",
       "      <td>49</td>\n",
       "      <td>...</td>\n",
       "      <td>10.0</td>\n",
       "      <td>2.0</td>\n",
       "      <td>0.0</td>\n",
       "      <td>0.0</td>\n",
       "      <td>0</td>\n",
       "      <td>1</td>\n",
       "      <td>1</td>\n",
       "      <td>0</td>\n",
       "      <td>2014</td>\n",
       "      <td>english</td>\n",
       "    </tr>\n",
       "    <tr>\n",
       "      <th>5</th>\n",
       "      <td>5</td>\n",
       "      <td>STOKE</td>\n",
       "      <td>ASTON VILLA</td>\n",
       "      <td>0-1</td>\n",
       "      <td>0-0</td>\n",
       "      <td>2.8</td>\n",
       "      <td>6.5</td>\n",
       "      <td>7.0</td>\n",
       "      <td>63</td>\n",
       "      <td>37</td>\n",
       "      <td>...</td>\n",
       "      <td>9.0</td>\n",
       "      <td>3.0</td>\n",
       "      <td>0.0</td>\n",
       "      <td>0.0</td>\n",
       "      <td>0</td>\n",
       "      <td>1</td>\n",
       "      <td>1</td>\n",
       "      <td>0</td>\n",
       "      <td>2014</td>\n",
       "      <td>english</td>\n",
       "    </tr>\n",
       "    <tr>\n",
       "      <th>6</th>\n",
       "      <td>6</td>\n",
       "      <td>ARSENAL</td>\n",
       "      <td>CRYSTAL PALACE</td>\n",
       "      <td>2-1</td>\n",
       "      <td>1-1</td>\n",
       "      <td>5.8</td>\n",
       "      <td>7.7</td>\n",
       "      <td>5.6</td>\n",
       "      <td>76</td>\n",
       "      <td>24</td>\n",
       "      <td>...</td>\n",
       "      <td>19.0</td>\n",
       "      <td>3.0</td>\n",
       "      <td>1.0</td>\n",
       "      <td>0.0</td>\n",
       "      <td>2</td>\n",
       "      <td>1</td>\n",
       "      <td>1</td>\n",
       "      <td>2</td>\n",
       "      <td>2014</td>\n",
       "      <td>english</td>\n",
       "    </tr>\n",
       "    <tr>\n",
       "      <th>7</th>\n",
       "      <td>7</td>\n",
       "      <td>LIVERPOOL</td>\n",
       "      <td>SOUTHAMPTON</td>\n",
       "      <td>2-1</td>\n",
       "      <td>1-0</td>\n",
       "      <td>6.0</td>\n",
       "      <td>7.1</td>\n",
       "      <td>6.7</td>\n",
       "      <td>56</td>\n",
       "      <td>44</td>\n",
       "      <td>...</td>\n",
       "      <td>11.0</td>\n",
       "      <td>2.0</td>\n",
       "      <td>0.0</td>\n",
       "      <td>0.0</td>\n",
       "      <td>2</td>\n",
       "      <td>1</td>\n",
       "      <td>1</td>\n",
       "      <td>2</td>\n",
       "      <td>2014</td>\n",
       "      <td>english</td>\n",
       "    </tr>\n",
       "    <tr>\n",
       "      <th>8</th>\n",
       "      <td>8</td>\n",
       "      <td>NEWCASTLE</td>\n",
       "      <td>MAN CITY</td>\n",
       "      <td>0-2</td>\n",
       "      <td>0-1</td>\n",
       "      <td>4.6</td>\n",
       "      <td>5.5</td>\n",
       "      <td>8.1</td>\n",
       "      <td>44</td>\n",
       "      <td>56</td>\n",
       "      <td>...</td>\n",
       "      <td>11.0</td>\n",
       "      <td>5.0</td>\n",
       "      <td>0.0</td>\n",
       "      <td>0.0</td>\n",
       "      <td>0</td>\n",
       "      <td>2</td>\n",
       "      <td>2</td>\n",
       "      <td>0</td>\n",
       "      <td>2014</td>\n",
       "      <td>english</td>\n",
       "    </tr>\n",
       "    <tr>\n",
       "      <th>9</th>\n",
       "      <td>9</td>\n",
       "      <td>BURNLEY</td>\n",
       "      <td>CHELSEA</td>\n",
       "      <td>1-3</td>\n",
       "      <td>1-3</td>\n",
       "      <td>5.3</td>\n",
       "      <td>5.3</td>\n",
       "      <td>7.4</td>\n",
       "      <td>39</td>\n",
       "      <td>61</td>\n",
       "      <td>...</td>\n",
       "      <td>7.0</td>\n",
       "      <td>1.0</td>\n",
       "      <td>0.0</td>\n",
       "      <td>0.0</td>\n",
       "      <td>1</td>\n",
       "      <td>3</td>\n",
       "      <td>3</td>\n",
       "      <td>1</td>\n",
       "      <td>2014</td>\n",
       "      <td>english</td>\n",
       "    </tr>\n",
       "  </tbody>\n",
       "</table>\n",
       "<p>10 rows × 42 columns</p>\n",
       "</div>"
      ],
      "text/plain": [
       "   Unnamed: 0       Home Team       Away Team Score Half Time Score  \\\n",
       "0           0         MAN UTD         SWANSEA   1-2             0-1   \n",
       "1           1       WEST BROM      SUNDERLAND   2-2             1-1   \n",
       "2           2  LEICESTER CITY         EVERTON   2-2             1-2   \n",
       "3           3        WEST HAM       TOTTENHAM   0-1             0-0   \n",
       "4           4             QPR       HULL CITY   0-1             0-0   \n",
       "5           5           STOKE     ASTON VILLA   0-1             0-0   \n",
       "6           6         ARSENAL  CRYSTAL PALACE   2-1             1-1   \n",
       "7           7       LIVERPOOL     SOUTHAMPTON   2-1             1-0   \n",
       "8           8       NEWCASTLE        MAN CITY   0-2             0-1   \n",
       "9           9         BURNLEY         CHELSEA   1-3             1-3   \n",
       "\n",
       "   Match Excitement  Home Team Rating  Away Team Rating  \\\n",
       "0               5.9               5.6               7.6   \n",
       "1               7.3               6.5               7.4   \n",
       "2               7.0               6.5               6.3   \n",
       "3               4.8               5.9               6.4   \n",
       "4               3.8               5.7               6.6   \n",
       "5               2.8               6.5               7.0   \n",
       "6               5.8               7.7               5.6   \n",
       "7               6.0               7.1               6.7   \n",
       "8               4.6               5.5               8.1   \n",
       "9               5.3               5.3               7.4   \n",
       "\n",
       "   Home Team Possession %  Away Team Possession %  ...  Away Team Fouls  \\\n",
       "0                      60                      40  ...             20.0   \n",
       "1                      58                      42  ...              9.0   \n",
       "2                      37                      63  ...             10.0   \n",
       "3                      47                      53  ...             10.0   \n",
       "4                      51                      49  ...             10.0   \n",
       "5                      63                      37  ...              9.0   \n",
       "6                      76                      24  ...             19.0   \n",
       "7                      56                      44  ...             11.0   \n",
       "8                      44                      56  ...             11.0   \n",
       "9                      39                      61  ...              7.0   \n",
       "\n",
       "   Away Team Yellow Cards  Away Team Second Yellow Cards  Away Team Red Cards  \\\n",
       "0                     4.0                            0.0                  0.0   \n",
       "1                     1.0                            0.0                  0.0   \n",
       "2                     1.0                            0.0                  0.0   \n",
       "3                     0.0                            0.0                  1.0   \n",
       "4                     2.0                            0.0                  0.0   \n",
       "5                     3.0                            0.0                  0.0   \n",
       "6                     3.0                            1.0                  0.0   \n",
       "7                     2.0                            0.0                  0.0   \n",
       "8                     5.0                            0.0                  0.0   \n",
       "9                     1.0                            0.0                  0.0   \n",
       "\n",
       "   Home Team Goals Scored  Away Team Goals Scored  Home Team Goals Conceeded  \\\n",
       "0                       1                       2                          2   \n",
       "1                       2                       2                          2   \n",
       "2                       2                       2                          2   \n",
       "3                       0                       1                          1   \n",
       "4                       0                       1                          1   \n",
       "5                       0                       1                          1   \n",
       "6                       2                       1                          1   \n",
       "7                       2                       1                          1   \n",
       "8                       0                       2                          2   \n",
       "9                       1                       3                          3   \n",
       "\n",
       "   Away Team Goals Conceeded  year   league  \n",
       "0                          1  2014  english  \n",
       "1                          2  2014  english  \n",
       "2                          2  2014  english  \n",
       "3                          0  2014  english  \n",
       "4                          0  2014  english  \n",
       "5                          0  2014  english  \n",
       "6                          2  2014  english  \n",
       "7                          2  2014  english  \n",
       "8                          0  2014  english  \n",
       "9                          1  2014  english  \n",
       "\n",
       "[10 rows x 42 columns]"
      ]
     },
     "execution_count": 2,
     "metadata": {},
     "output_type": "execute_result"
    }
   ],
   "source": [
    "# Load original Data\n",
    "df = pd.read_csv('./datasets/combined_data.csv')\n",
    "df.head(10)"
   ]
  },
  {
   "cell_type": "code",
   "execution_count": 3,
   "metadata": {},
   "outputs": [
    {
     "data": {
      "text/html": [
       "<div>\n",
       "<style scoped>\n",
       "    .dataframe tbody tr th:only-of-type {\n",
       "        vertical-align: middle;\n",
       "    }\n",
       "\n",
       "    .dataframe tbody tr th {\n",
       "        vertical-align: top;\n",
       "    }\n",
       "\n",
       "    .dataframe thead th {\n",
       "        text-align: right;\n",
       "    }\n",
       "</style>\n",
       "<table border=\"1\" class=\"dataframe\">\n",
       "  <thead>\n",
       "    <tr style=\"text-align: right;\">\n",
       "      <th></th>\n",
       "      <th>ID</th>\n",
       "      <th>Name</th>\n",
       "      <th>Age</th>\n",
       "      <th>Nationality</th>\n",
       "      <th>Overall</th>\n",
       "      <th>Potential</th>\n",
       "      <th>Club</th>\n",
       "      <th>Value</th>\n",
       "      <th>Wage</th>\n",
       "      <th>Special</th>\n",
       "      <th>...</th>\n",
       "      <th>Composure</th>\n",
       "      <th>Marking</th>\n",
       "      <th>StandingTackle</th>\n",
       "      <th>SlidingTackle</th>\n",
       "      <th>GKDiving</th>\n",
       "      <th>GKHandling</th>\n",
       "      <th>GKKicking</th>\n",
       "      <th>GKPositioning</th>\n",
       "      <th>GKReflexes</th>\n",
       "      <th>Release Clause</th>\n",
       "    </tr>\n",
       "  </thead>\n",
       "  <tbody>\n",
       "    <tr>\n",
       "      <th>0</th>\n",
       "      <td>158023</td>\n",
       "      <td>L. Messi</td>\n",
       "      <td>31</td>\n",
       "      <td>Argentina</td>\n",
       "      <td>94</td>\n",
       "      <td>94</td>\n",
       "      <td>FC Barcelona</td>\n",
       "      <td>€110.5M</td>\n",
       "      <td>€565K</td>\n",
       "      <td>2202</td>\n",
       "      <td>...</td>\n",
       "      <td>96.0</td>\n",
       "      <td>33.0</td>\n",
       "      <td>28.0</td>\n",
       "      <td>26.0</td>\n",
       "      <td>6.0</td>\n",
       "      <td>11.0</td>\n",
       "      <td>15.0</td>\n",
       "      <td>14.0</td>\n",
       "      <td>8.0</td>\n",
       "      <td>€226.5M</td>\n",
       "    </tr>\n",
       "    <tr>\n",
       "      <th>1</th>\n",
       "      <td>20801</td>\n",
       "      <td>Cristiano Ronaldo</td>\n",
       "      <td>33</td>\n",
       "      <td>Portugal</td>\n",
       "      <td>94</td>\n",
       "      <td>94</td>\n",
       "      <td>Juventus</td>\n",
       "      <td>€77M</td>\n",
       "      <td>€405K</td>\n",
       "      <td>2228</td>\n",
       "      <td>...</td>\n",
       "      <td>95.0</td>\n",
       "      <td>28.0</td>\n",
       "      <td>31.0</td>\n",
       "      <td>23.0</td>\n",
       "      <td>7.0</td>\n",
       "      <td>11.0</td>\n",
       "      <td>15.0</td>\n",
       "      <td>14.0</td>\n",
       "      <td>11.0</td>\n",
       "      <td>€127.1M</td>\n",
       "    </tr>\n",
       "    <tr>\n",
       "      <th>2</th>\n",
       "      <td>190871</td>\n",
       "      <td>Neymar Jr</td>\n",
       "      <td>26</td>\n",
       "      <td>Brazil</td>\n",
       "      <td>92</td>\n",
       "      <td>93</td>\n",
       "      <td>Paris Saint-Germain</td>\n",
       "      <td>€118.5M</td>\n",
       "      <td>€290K</td>\n",
       "      <td>2143</td>\n",
       "      <td>...</td>\n",
       "      <td>94.0</td>\n",
       "      <td>27.0</td>\n",
       "      <td>24.0</td>\n",
       "      <td>33.0</td>\n",
       "      <td>9.0</td>\n",
       "      <td>9.0</td>\n",
       "      <td>15.0</td>\n",
       "      <td>15.0</td>\n",
       "      <td>11.0</td>\n",
       "      <td>€228.1M</td>\n",
       "    </tr>\n",
       "    <tr>\n",
       "      <th>3</th>\n",
       "      <td>193080</td>\n",
       "      <td>De Gea</td>\n",
       "      <td>27</td>\n",
       "      <td>Spain</td>\n",
       "      <td>91</td>\n",
       "      <td>93</td>\n",
       "      <td>Manchester United</td>\n",
       "      <td>€72M</td>\n",
       "      <td>€260K</td>\n",
       "      <td>1471</td>\n",
       "      <td>...</td>\n",
       "      <td>68.0</td>\n",
       "      <td>15.0</td>\n",
       "      <td>21.0</td>\n",
       "      <td>13.0</td>\n",
       "      <td>90.0</td>\n",
       "      <td>85.0</td>\n",
       "      <td>87.0</td>\n",
       "      <td>88.0</td>\n",
       "      <td>94.0</td>\n",
       "      <td>€138.6M</td>\n",
       "    </tr>\n",
       "    <tr>\n",
       "      <th>4</th>\n",
       "      <td>192985</td>\n",
       "      <td>K. De Bruyne</td>\n",
       "      <td>27</td>\n",
       "      <td>Belgium</td>\n",
       "      <td>91</td>\n",
       "      <td>92</td>\n",
       "      <td>Manchester City</td>\n",
       "      <td>€102M</td>\n",
       "      <td>€355K</td>\n",
       "      <td>2281</td>\n",
       "      <td>...</td>\n",
       "      <td>88.0</td>\n",
       "      <td>68.0</td>\n",
       "      <td>58.0</td>\n",
       "      <td>51.0</td>\n",
       "      <td>15.0</td>\n",
       "      <td>13.0</td>\n",
       "      <td>5.0</td>\n",
       "      <td>10.0</td>\n",
       "      <td>13.0</td>\n",
       "      <td>€196.4M</td>\n",
       "    </tr>\n",
       "    <tr>\n",
       "      <th>5</th>\n",
       "      <td>183277</td>\n",
       "      <td>E. Hazard</td>\n",
       "      <td>27</td>\n",
       "      <td>Belgium</td>\n",
       "      <td>91</td>\n",
       "      <td>91</td>\n",
       "      <td>Chelsea</td>\n",
       "      <td>€93M</td>\n",
       "      <td>€340K</td>\n",
       "      <td>2142</td>\n",
       "      <td>...</td>\n",
       "      <td>91.0</td>\n",
       "      <td>34.0</td>\n",
       "      <td>27.0</td>\n",
       "      <td>22.0</td>\n",
       "      <td>11.0</td>\n",
       "      <td>12.0</td>\n",
       "      <td>6.0</td>\n",
       "      <td>8.0</td>\n",
       "      <td>8.0</td>\n",
       "      <td>€172.1M</td>\n",
       "    </tr>\n",
       "    <tr>\n",
       "      <th>6</th>\n",
       "      <td>177003</td>\n",
       "      <td>L. Modrić</td>\n",
       "      <td>32</td>\n",
       "      <td>Croatia</td>\n",
       "      <td>91</td>\n",
       "      <td>91</td>\n",
       "      <td>Real Madrid</td>\n",
       "      <td>€67M</td>\n",
       "      <td>€420K</td>\n",
       "      <td>2280</td>\n",
       "      <td>...</td>\n",
       "      <td>84.0</td>\n",
       "      <td>60.0</td>\n",
       "      <td>76.0</td>\n",
       "      <td>73.0</td>\n",
       "      <td>13.0</td>\n",
       "      <td>9.0</td>\n",
       "      <td>7.0</td>\n",
       "      <td>14.0</td>\n",
       "      <td>9.0</td>\n",
       "      <td>€137.4M</td>\n",
       "    </tr>\n",
       "    <tr>\n",
       "      <th>7</th>\n",
       "      <td>176580</td>\n",
       "      <td>L. Suárez</td>\n",
       "      <td>31</td>\n",
       "      <td>Uruguay</td>\n",
       "      <td>91</td>\n",
       "      <td>91</td>\n",
       "      <td>FC Barcelona</td>\n",
       "      <td>€80M</td>\n",
       "      <td>€455K</td>\n",
       "      <td>2346</td>\n",
       "      <td>...</td>\n",
       "      <td>85.0</td>\n",
       "      <td>62.0</td>\n",
       "      <td>45.0</td>\n",
       "      <td>38.0</td>\n",
       "      <td>27.0</td>\n",
       "      <td>25.0</td>\n",
       "      <td>31.0</td>\n",
       "      <td>33.0</td>\n",
       "      <td>37.0</td>\n",
       "      <td>€164M</td>\n",
       "    </tr>\n",
       "    <tr>\n",
       "      <th>8</th>\n",
       "      <td>155862</td>\n",
       "      <td>Sergio Ramos</td>\n",
       "      <td>32</td>\n",
       "      <td>Spain</td>\n",
       "      <td>91</td>\n",
       "      <td>91</td>\n",
       "      <td>Real Madrid</td>\n",
       "      <td>€51M</td>\n",
       "      <td>€380K</td>\n",
       "      <td>2201</td>\n",
       "      <td>...</td>\n",
       "      <td>82.0</td>\n",
       "      <td>87.0</td>\n",
       "      <td>92.0</td>\n",
       "      <td>91.0</td>\n",
       "      <td>11.0</td>\n",
       "      <td>8.0</td>\n",
       "      <td>9.0</td>\n",
       "      <td>7.0</td>\n",
       "      <td>11.0</td>\n",
       "      <td>€104.6M</td>\n",
       "    </tr>\n",
       "    <tr>\n",
       "      <th>9</th>\n",
       "      <td>200389</td>\n",
       "      <td>J. Oblak</td>\n",
       "      <td>25</td>\n",
       "      <td>Slovenia</td>\n",
       "      <td>90</td>\n",
       "      <td>93</td>\n",
       "      <td>Atlético Madrid</td>\n",
       "      <td>€68M</td>\n",
       "      <td>€94K</td>\n",
       "      <td>1331</td>\n",
       "      <td>...</td>\n",
       "      <td>70.0</td>\n",
       "      <td>27.0</td>\n",
       "      <td>12.0</td>\n",
       "      <td>18.0</td>\n",
       "      <td>86.0</td>\n",
       "      <td>92.0</td>\n",
       "      <td>78.0</td>\n",
       "      <td>88.0</td>\n",
       "      <td>89.0</td>\n",
       "      <td>€144.5M</td>\n",
       "    </tr>\n",
       "  </tbody>\n",
       "</table>\n",
       "<p>10 rows × 85 columns</p>\n",
       "</div>"
      ],
      "text/plain": [
       "       ID               Name  Age Nationality  Overall  Potential  \\\n",
       "0  158023           L. Messi   31   Argentina       94         94   \n",
       "1   20801  Cristiano Ronaldo   33    Portugal       94         94   \n",
       "2  190871          Neymar Jr   26      Brazil       92         93   \n",
       "3  193080             De Gea   27       Spain       91         93   \n",
       "4  192985       K. De Bruyne   27     Belgium       91         92   \n",
       "5  183277          E. Hazard   27     Belgium       91         91   \n",
       "6  177003          L. Modrić   32     Croatia       91         91   \n",
       "7  176580          L. Suárez   31     Uruguay       91         91   \n",
       "8  155862       Sergio Ramos   32       Spain       91         91   \n",
       "9  200389           J. Oblak   25    Slovenia       90         93   \n",
       "\n",
       "                  Club    Value   Wage  Special  ... Composure  Marking  \\\n",
       "0         FC Barcelona  €110.5M  €565K     2202  ...      96.0     33.0   \n",
       "1             Juventus     €77M  €405K     2228  ...      95.0     28.0   \n",
       "2  Paris Saint-Germain  €118.5M  €290K     2143  ...      94.0     27.0   \n",
       "3    Manchester United     €72M  €260K     1471  ...      68.0     15.0   \n",
       "4      Manchester City    €102M  €355K     2281  ...      88.0     68.0   \n",
       "5              Chelsea     €93M  €340K     2142  ...      91.0     34.0   \n",
       "6          Real Madrid     €67M  €420K     2280  ...      84.0     60.0   \n",
       "7         FC Barcelona     €80M  €455K     2346  ...      85.0     62.0   \n",
       "8          Real Madrid     €51M  €380K     2201  ...      82.0     87.0   \n",
       "9      Atlético Madrid     €68M   €94K     1331  ...      70.0     27.0   \n",
       "\n",
       "   StandingTackle  SlidingTackle GKDiving GKHandling GKKicking GKPositioning  \\\n",
       "0            28.0           26.0      6.0       11.0      15.0          14.0   \n",
       "1            31.0           23.0      7.0       11.0      15.0          14.0   \n",
       "2            24.0           33.0      9.0        9.0      15.0          15.0   \n",
       "3            21.0           13.0     90.0       85.0      87.0          88.0   \n",
       "4            58.0           51.0     15.0       13.0       5.0          10.0   \n",
       "5            27.0           22.0     11.0       12.0       6.0           8.0   \n",
       "6            76.0           73.0     13.0        9.0       7.0          14.0   \n",
       "7            45.0           38.0     27.0       25.0      31.0          33.0   \n",
       "8            92.0           91.0     11.0        8.0       9.0           7.0   \n",
       "9            12.0           18.0     86.0       92.0      78.0          88.0   \n",
       "\n",
       "   GKReflexes Release Clause  \n",
       "0         8.0        €226.5M  \n",
       "1        11.0        €127.1M  \n",
       "2        11.0        €228.1M  \n",
       "3        94.0        €138.6M  \n",
       "4        13.0        €196.4M  \n",
       "5         8.0        €172.1M  \n",
       "6         9.0        €137.4M  \n",
       "7        37.0          €164M  \n",
       "8        11.0        €104.6M  \n",
       "9        89.0        €144.5M  \n",
       "\n",
       "[10 rows x 85 columns]"
      ]
     },
     "execution_count": 3,
     "metadata": {},
     "output_type": "execute_result"
    }
   ],
   "source": [
    "# Load additional data\n",
    "# 1) Complete Player Database from 2019 (https://www.kaggle.com/karangadiya/fifa19)\n",
    "df_player = pd.read_csv('./datasets/complete_player_dataset.csv')\n",
    "df_player.drop(columns=['Photo', 'Flag', 'Club Logo', 'Unnamed: 0'], inplace=True)\n",
    "df_player.head(10)"
   ]
  },
  {
   "cell_type": "code",
   "execution_count": 4,
   "metadata": {},
   "outputs": [
    {
     "data": {
      "text/html": [
       "<div>\n",
       "<style scoped>\n",
       "    .dataframe tbody tr th:only-of-type {\n",
       "        vertical-align: middle;\n",
       "    }\n",
       "\n",
       "    .dataframe tbody tr th {\n",
       "        vertical-align: top;\n",
       "    }\n",
       "\n",
       "    .dataframe thead th {\n",
       "        text-align: right;\n",
       "    }\n",
       "</style>\n",
       "<table border=\"1\" class=\"dataframe\">\n",
       "  <thead>\n",
       "    <tr style=\"text-align: right;\">\n",
       "      <th></th>\n",
       "      <th>date</th>\n",
       "      <th>home_team</th>\n",
       "      <th>away_team</th>\n",
       "      <th>home_score</th>\n",
       "      <th>away_score</th>\n",
       "      <th>tournament</th>\n",
       "      <th>city</th>\n",
       "      <th>country</th>\n",
       "      <th>neutral</th>\n",
       "    </tr>\n",
       "  </thead>\n",
       "  <tbody>\n",
       "    <tr>\n",
       "      <th>43178</th>\n",
       "      <td>2022-01-30</td>\n",
       "      <td>Senegal</td>\n",
       "      <td>Equatorial Guinea</td>\n",
       "      <td>3</td>\n",
       "      <td>1</td>\n",
       "      <td>African Cup of Nations</td>\n",
       "      <td>Yaoundé</td>\n",
       "      <td>Cameroon</td>\n",
       "      <td>True</td>\n",
       "    </tr>\n",
       "    <tr>\n",
       "      <th>43179</th>\n",
       "      <td>2022-02-01</td>\n",
       "      <td>Bahrain</td>\n",
       "      <td>DR Congo</td>\n",
       "      <td>1</td>\n",
       "      <td>0</td>\n",
       "      <td>Friendly</td>\n",
       "      <td>Riffa</td>\n",
       "      <td>Bahrain</td>\n",
       "      <td>False</td>\n",
       "    </tr>\n",
       "    <tr>\n",
       "      <th>43180</th>\n",
       "      <td>2022-02-01</td>\n",
       "      <td>Kuwait</td>\n",
       "      <td>Libya</td>\n",
       "      <td>0</td>\n",
       "      <td>2</td>\n",
       "      <td>Friendly</td>\n",
       "      <td>Kuwait City</td>\n",
       "      <td>Kuwait</td>\n",
       "      <td>False</td>\n",
       "    </tr>\n",
       "    <tr>\n",
       "      <th>43181</th>\n",
       "      <td>2022-02-01</td>\n",
       "      <td>Nepal</td>\n",
       "      <td>Mauritius</td>\n",
       "      <td>1</td>\n",
       "      <td>0</td>\n",
       "      <td>Friendly</td>\n",
       "      <td>Kathmandu</td>\n",
       "      <td>Nepal</td>\n",
       "      <td>False</td>\n",
       "    </tr>\n",
       "    <tr>\n",
       "      <th>43182</th>\n",
       "      <td>2022-02-01</td>\n",
       "      <td>Nicaragua</td>\n",
       "      <td>Belize</td>\n",
       "      <td>1</td>\n",
       "      <td>1</td>\n",
       "      <td>Friendly</td>\n",
       "      <td>Managua</td>\n",
       "      <td>Nicaragua</td>\n",
       "      <td>False</td>\n",
       "    </tr>\n",
       "    <tr>\n",
       "      <th>43183</th>\n",
       "      <td>2022-02-01</td>\n",
       "      <td>Suriname</td>\n",
       "      <td>Guyana</td>\n",
       "      <td>2</td>\n",
       "      <td>1</td>\n",
       "      <td>Friendly</td>\n",
       "      <td>Paramaribo</td>\n",
       "      <td>Suriname</td>\n",
       "      <td>False</td>\n",
       "    </tr>\n",
       "    <tr>\n",
       "      <th>43184</th>\n",
       "      <td>2022-02-02</td>\n",
       "      <td>Burkina Faso</td>\n",
       "      <td>Senegal</td>\n",
       "      <td>1</td>\n",
       "      <td>3</td>\n",
       "      <td>African Cup of Nations</td>\n",
       "      <td>Yaoundé</td>\n",
       "      <td>Cameroon</td>\n",
       "      <td>True</td>\n",
       "    </tr>\n",
       "    <tr>\n",
       "      <th>43185</th>\n",
       "      <td>2022-02-03</td>\n",
       "      <td>Cameroon</td>\n",
       "      <td>Egypt</td>\n",
       "      <td>0</td>\n",
       "      <td>0</td>\n",
       "      <td>African Cup of Nations</td>\n",
       "      <td>Yaoundé</td>\n",
       "      <td>Cameroon</td>\n",
       "      <td>False</td>\n",
       "    </tr>\n",
       "    <tr>\n",
       "      <th>43186</th>\n",
       "      <td>2022-02-05</td>\n",
       "      <td>Cameroon</td>\n",
       "      <td>Burkina Faso</td>\n",
       "      <td>3</td>\n",
       "      <td>3</td>\n",
       "      <td>African Cup of Nations</td>\n",
       "      <td>Yaoundé</td>\n",
       "      <td>Cameroon</td>\n",
       "      <td>False</td>\n",
       "    </tr>\n",
       "    <tr>\n",
       "      <th>43187</th>\n",
       "      <td>2022-02-06</td>\n",
       "      <td>Senegal</td>\n",
       "      <td>Egypt</td>\n",
       "      <td>0</td>\n",
       "      <td>0</td>\n",
       "      <td>African Cup of Nations</td>\n",
       "      <td>Yaoundé</td>\n",
       "      <td>Cameroon</td>\n",
       "      <td>True</td>\n",
       "    </tr>\n",
       "  </tbody>\n",
       "</table>\n",
       "</div>"
      ],
      "text/plain": [
       "             date     home_team          away_team  home_score  away_score  \\\n",
       "43178  2022-01-30       Senegal  Equatorial Guinea           3           1   \n",
       "43179  2022-02-01       Bahrain           DR Congo           1           0   \n",
       "43180  2022-02-01        Kuwait              Libya           0           2   \n",
       "43181  2022-02-01         Nepal          Mauritius           1           0   \n",
       "43182  2022-02-01     Nicaragua             Belize           1           1   \n",
       "43183  2022-02-01      Suriname             Guyana           2           1   \n",
       "43184  2022-02-02  Burkina Faso            Senegal           1           3   \n",
       "43185  2022-02-03      Cameroon              Egypt           0           0   \n",
       "43186  2022-02-05      Cameroon       Burkina Faso           3           3   \n",
       "43187  2022-02-06       Senegal              Egypt           0           0   \n",
       "\n",
       "                   tournament         city    country  neutral  \n",
       "43178  African Cup of Nations      Yaoundé   Cameroon     True  \n",
       "43179                Friendly        Riffa    Bahrain    False  \n",
       "43180                Friendly  Kuwait City     Kuwait    False  \n",
       "43181                Friendly    Kathmandu      Nepal    False  \n",
       "43182                Friendly      Managua  Nicaragua    False  \n",
       "43183                Friendly   Paramaribo   Suriname    False  \n",
       "43184  African Cup of Nations      Yaoundé   Cameroon     True  \n",
       "43185  African Cup of Nations      Yaoundé   Cameroon    False  \n",
       "43186  African Cup of Nations      Yaoundé   Cameroon    False  \n",
       "43187  African Cup of Nations      Yaoundé   Cameroon     True  "
      ]
     },
     "execution_count": 4,
     "metadata": {},
     "output_type": "execute_result"
    }
   ],
   "source": [
    "# Load additional data\n",
    "# 2) International Match Datasets (https://www.kaggle.com/martj42/international-football-results-from-1872-to-2017)\n",
    "df_international = pd.read_csv('./datasets/international_data.csv')\n",
    "df_international.tail(10)"
   ]
  },
  {
   "cell_type": "markdown",
   "metadata": {},
   "source": [
    "Dataset Descriptions:\n",
    "\n",
    "<b>Football Dataset</b>: The dataset contains all information about club soccer matches from the top 5 football leagues ranging from 2014 to 2020. The dataset contains 42 columns each with information about the home team, away team, and the outcome of the match. \n",
    "\n",
    "<b>Player Dataset</b>: The dataset contains information on all professional football players in the year 2019 sourced from FIFA. FIFA is the international governing body of football and EA sports' FIFA game ranks players based upon real life player performance and talent. The player dataset contains an overall rating for each player, the player's club, and the player's salary. \n",
    "\n",
    "<b>International Dataset</b>: The dataset contains information about International football matches from the year 1872 to 2022. The football dataset focuses on the top 5 club leagues in the world. The international dataset focuses on a broader scope from international friendlies, regional tournaments, and the world cup."
   ]
  },
  {
   "cell_type": "markdown",
   "metadata": {},
   "source": [
    "List of questions to explore the data:\n",
    "<ol>\n",
    "    <li>Which leagues are highest scoring? most fouls?</li>\n",
    "    <li>Does the home team win more games?</li>\n",
    "    <li>How does ball possesion relate to win ratio?</li>\n",
    "    <li>How do club games compare to international? (after mergining)</li>\n",
    "</ol>"
   ]
  },
  {
   "cell_type": "markdown",
   "metadata": {},
   "source": [
    "### Part 2 - Data Inspection\n",
    "\n",
    "Write some code to summarize the datasets.  Think about the following questions:\n",
    "- What type of data is each variable? (think like a data scientist here, not a computer scientist)\n",
    "- What is the total size of the data sets?\n",
    "- What time boundaries are there in the dataset?  IOW, what time frame do they span?\n",
    "- Are there any missing values in any of the variables? \n",
    "\n",
    "Do this with Intentionality.  Don't skimp. "
   ]
  },
  {
   "cell_type": "markdown",
   "metadata": {},
   "source": [
    "### Football Data Set Inspection"
   ]
  },
  {
   "cell_type": "markdown",
   "metadata": {},
   "source": [
    "#### Type of each Variable"
   ]
  },
  {
   "cell_type": "code",
   "execution_count": 5,
   "metadata": {
    "scrolled": true
   },
   "outputs": [
    {
     "name": "stdout",
     "output_type": "stream",
     "text": [
      "<class 'pandas.core.frame.DataFrame'>\n",
      "RangeIndex: 12062 entries, 0 to 12061\n",
      "Data columns (total 42 columns):\n",
      " #   Column                         Non-Null Count  Dtype  \n",
      "---  ------                         --------------  -----  \n",
      " 0   Unnamed: 0                     12062 non-null  int64  \n",
      " 1   Home Team                      12062 non-null  object \n",
      " 2   Away Team                      12062 non-null  object \n",
      " 3   Score                          12062 non-null  object \n",
      " 4   Half Time Score                12062 non-null  object \n",
      " 5   Match Excitement               12062 non-null  float64\n",
      " 6   Home Team Rating               12062 non-null  float64\n",
      " 7   Away Team Rating               12062 non-null  float64\n",
      " 8   Home Team Possession %         12062 non-null  int64  \n",
      " 9   Away Team Possession %         12062 non-null  int64  \n",
      " 10  Home Team Off Target Shots     12062 non-null  float64\n",
      " 11  Home Team On Target Shots      12062 non-null  float64\n",
      " 12  Home Team Total Shots          12062 non-null  float64\n",
      " 13  Home Team Blocked Shots        12062 non-null  float64\n",
      " 14  Home Team Corners              12062 non-null  float64\n",
      " 15  Home Team Throw Ins            12062 non-null  float64\n",
      " 16  Home Team Pass Success %       12062 non-null  float64\n",
      " 17  Home Team Aerials Won          12062 non-null  float64\n",
      " 18  Home Team Clearances           12062 non-null  float64\n",
      " 19  Home Team Fouls                12062 non-null  float64\n",
      " 20  Home Team Yellow Cards         12062 non-null  float64\n",
      " 21  Home Team Second Yellow Cards  12062 non-null  float64\n",
      " 22  Home Team Red Cards            12062 non-null  float64\n",
      " 23  Away Team Off Target Shots     12062 non-null  float64\n",
      " 24  Away Team On Target Shots      12062 non-null  float64\n",
      " 25  Away Team Total Shots          12062 non-null  float64\n",
      " 26  Away Team Blocked Shots        12062 non-null  float64\n",
      " 27  Away Team Corners              12062 non-null  float64\n",
      " 28  Away Team Throw Ins            12062 non-null  float64\n",
      " 29  Away Team Pass Success %       12062 non-null  float64\n",
      " 30  Away Team Aerials Won          12062 non-null  float64\n",
      " 31  Away Team Clearances           12062 non-null  float64\n",
      " 32  Away Team Fouls                12062 non-null  float64\n",
      " 33  Away Team Yellow Cards         12062 non-null  float64\n",
      " 34  Away Team Second Yellow Cards  12062 non-null  float64\n",
      " 35  Away Team Red Cards            12062 non-null  float64\n",
      " 36  Home Team Goals Scored         12062 non-null  int64  \n",
      " 37  Away Team Goals Scored         12062 non-null  int64  \n",
      " 38  Home Team Goals Conceeded      12062 non-null  int64  \n",
      " 39  Away Team Goals Conceeded      12062 non-null  int64  \n",
      " 40  year                           12062 non-null  int64  \n",
      " 41  league                         12062 non-null  object \n",
      "dtypes: float64(29), int64(8), object(5)\n",
      "memory usage: 3.9+ MB\n"
     ]
    }
   ],
   "source": [
    "df.info()"
   ]
  },
  {
   "cell_type": "markdown",
   "metadata": {},
   "source": [
    "All of the variables in the dataset and their types can be seen above. The teams, final score, half time score, and league are categorical variables and the only non numerical data. The rest of the columns are numerical data points."
   ]
  },
  {
   "cell_type": "markdown",
   "metadata": {},
   "source": [
    "#### Total Size of Data Set"
   ]
  },
  {
   "cell_type": "code",
   "execution_count": 6,
   "metadata": {},
   "outputs": [
    {
     "name": "stdout",
     "output_type": "stream",
     "text": [
      "(12062, 42)\n"
     ]
    }
   ],
   "source": [
    "print(df.shape)"
   ]
  },
  {
   "cell_type": "markdown",
   "metadata": {},
   "source": [
    "There are 42 columns and 12062 rows in the dataset which leads to a total of 506,604 data points because there is no missing data."
   ]
  },
  {
   "cell_type": "code",
   "execution_count": 7,
   "metadata": {
    "scrolled": false
   },
   "outputs": [
    {
     "data": {
      "text/html": [
       "<div>\n",
       "<style scoped>\n",
       "    .dataframe tbody tr th:only-of-type {\n",
       "        vertical-align: middle;\n",
       "    }\n",
       "\n",
       "    .dataframe tbody tr th {\n",
       "        vertical-align: top;\n",
       "    }\n",
       "\n",
       "    .dataframe thead th {\n",
       "        text-align: right;\n",
       "    }\n",
       "</style>\n",
       "<table border=\"1\" class=\"dataframe\">\n",
       "  <thead>\n",
       "    <tr style=\"text-align: right;\">\n",
       "      <th></th>\n",
       "      <th>Unnamed: 0</th>\n",
       "      <th>Match Excitement</th>\n",
       "      <th>Home Team Rating</th>\n",
       "      <th>Away Team Rating</th>\n",
       "      <th>Home Team Possession %</th>\n",
       "      <th>Away Team Possession %</th>\n",
       "      <th>Home Team Off Target Shots</th>\n",
       "      <th>Home Team On Target Shots</th>\n",
       "      <th>Home Team Total Shots</th>\n",
       "      <th>Home Team Blocked Shots</th>\n",
       "      <th>...</th>\n",
       "      <th>Away Team Clearances</th>\n",
       "      <th>Away Team Fouls</th>\n",
       "      <th>Away Team Yellow Cards</th>\n",
       "      <th>Away Team Second Yellow Cards</th>\n",
       "      <th>Away Team Red Cards</th>\n",
       "      <th>Home Team Goals Scored</th>\n",
       "      <th>Away Team Goals Scored</th>\n",
       "      <th>Home Team Goals Conceeded</th>\n",
       "      <th>Away Team Goals Conceeded</th>\n",
       "      <th>year</th>\n",
       "    </tr>\n",
       "  </thead>\n",
       "  <tbody>\n",
       "    <tr>\n",
       "      <th>count</th>\n",
       "      <td>12062.000000</td>\n",
       "      <td>12062.000000</td>\n",
       "      <td>12062.000000</td>\n",
       "      <td>12062.000000</td>\n",
       "      <td>12062.000000</td>\n",
       "      <td>12062.000000</td>\n",
       "      <td>12062.000000</td>\n",
       "      <td>12062.000000</td>\n",
       "      <td>12062.000000</td>\n",
       "      <td>12062.000000</td>\n",
       "      <td>...</td>\n",
       "      <td>12062.000000</td>\n",
       "      <td>12062.000000</td>\n",
       "      <td>12062.000000</td>\n",
       "      <td>12062.000000</td>\n",
       "      <td>12062.000000</td>\n",
       "      <td>12062.000000</td>\n",
       "      <td>12062.000000</td>\n",
       "      <td>12062.000000</td>\n",
       "      <td>12062.000000</td>\n",
       "      <td>12062.000000</td>\n",
       "    </tr>\n",
       "    <tr>\n",
       "      <th>mean</th>\n",
       "      <td>6030.500000</td>\n",
       "      <td>5.391494</td>\n",
       "      <td>6.399702</td>\n",
       "      <td>6.142539</td>\n",
       "      <td>51.199469</td>\n",
       "      <td>48.800531</td>\n",
       "      <td>5.644338</td>\n",
       "      <td>4.723180</td>\n",
       "      <td>13.690764</td>\n",
       "      <td>3.338501</td>\n",
       "      <td>...</td>\n",
       "      <td>22.792323</td>\n",
       "      <td>13.083154</td>\n",
       "      <td>2.162245</td>\n",
       "      <td>0.060852</td>\n",
       "      <td>0.057785</td>\n",
       "      <td>1.531172</td>\n",
       "      <td>1.206351</td>\n",
       "      <td>1.206351</td>\n",
       "      <td>1.531172</td>\n",
       "      <td>2017.109352</td>\n",
       "    </tr>\n",
       "    <tr>\n",
       "      <th>std</th>\n",
       "      <td>3482.143808</td>\n",
       "      <td>1.719655</td>\n",
       "      <td>0.988037</td>\n",
       "      <td>0.992074</td>\n",
       "      <td>11.275257</td>\n",
       "      <td>11.275257</td>\n",
       "      <td>2.781520</td>\n",
       "      <td>2.559607</td>\n",
       "      <td>5.244448</td>\n",
       "      <td>2.246498</td>\n",
       "      <td>...</td>\n",
       "      <td>10.141781</td>\n",
       "      <td>4.205046</td>\n",
       "      <td>1.365581</td>\n",
       "      <td>0.244216</td>\n",
       "      <td>0.243772</td>\n",
       "      <td>1.305178</td>\n",
       "      <td>1.168266</td>\n",
       "      <td>1.168266</td>\n",
       "      <td>1.305178</td>\n",
       "      <td>1.965096</td>\n",
       "    </tr>\n",
       "    <tr>\n",
       "      <th>min</th>\n",
       "      <td>0.000000</td>\n",
       "      <td>1.400000</td>\n",
       "      <td>2.100000</td>\n",
       "      <td>1.300000</td>\n",
       "      <td>17.000000</td>\n",
       "      <td>16.000000</td>\n",
       "      <td>0.000000</td>\n",
       "      <td>0.000000</td>\n",
       "      <td>0.000000</td>\n",
       "      <td>0.000000</td>\n",
       "      <td>...</td>\n",
       "      <td>1.000000</td>\n",
       "      <td>0.000000</td>\n",
       "      <td>0.000000</td>\n",
       "      <td>0.000000</td>\n",
       "      <td>0.000000</td>\n",
       "      <td>0.000000</td>\n",
       "      <td>0.000000</td>\n",
       "      <td>0.000000</td>\n",
       "      <td>0.000000</td>\n",
       "      <td>2014.000000</td>\n",
       "    </tr>\n",
       "    <tr>\n",
       "      <th>25%</th>\n",
       "      <td>3015.250000</td>\n",
       "      <td>4.100000</td>\n",
       "      <td>5.700000</td>\n",
       "      <td>5.500000</td>\n",
       "      <td>43.000000</td>\n",
       "      <td>41.000000</td>\n",
       "      <td>4.000000</td>\n",
       "      <td>3.000000</td>\n",
       "      <td>10.000000</td>\n",
       "      <td>2.000000</td>\n",
       "      <td>...</td>\n",
       "      <td>15.000000</td>\n",
       "      <td>10.000000</td>\n",
       "      <td>1.000000</td>\n",
       "      <td>0.000000</td>\n",
       "      <td>0.000000</td>\n",
       "      <td>1.000000</td>\n",
       "      <td>0.000000</td>\n",
       "      <td>0.000000</td>\n",
       "      <td>1.000000</td>\n",
       "      <td>2015.000000</td>\n",
       "    </tr>\n",
       "    <tr>\n",
       "      <th>50%</th>\n",
       "      <td>6030.500000</td>\n",
       "      <td>5.300000</td>\n",
       "      <td>6.400000</td>\n",
       "      <td>6.100000</td>\n",
       "      <td>51.000000</td>\n",
       "      <td>49.000000</td>\n",
       "      <td>5.000000</td>\n",
       "      <td>4.000000</td>\n",
       "      <td>13.000000</td>\n",
       "      <td>3.000000</td>\n",
       "      <td>...</td>\n",
       "      <td>22.000000</td>\n",
       "      <td>13.000000</td>\n",
       "      <td>2.000000</td>\n",
       "      <td>0.000000</td>\n",
       "      <td>0.000000</td>\n",
       "      <td>1.000000</td>\n",
       "      <td>1.000000</td>\n",
       "      <td>1.000000</td>\n",
       "      <td>1.000000</td>\n",
       "      <td>2017.000000</td>\n",
       "    </tr>\n",
       "    <tr>\n",
       "      <th>75%</th>\n",
       "      <td>9045.750000</td>\n",
       "      <td>6.400000</td>\n",
       "      <td>7.000000</td>\n",
       "      <td>6.800000</td>\n",
       "      <td>59.000000</td>\n",
       "      <td>57.000000</td>\n",
       "      <td>7.000000</td>\n",
       "      <td>6.000000</td>\n",
       "      <td>17.000000</td>\n",
       "      <td>5.000000</td>\n",
       "      <td>...</td>\n",
       "      <td>29.000000</td>\n",
       "      <td>16.000000</td>\n",
       "      <td>3.000000</td>\n",
       "      <td>0.000000</td>\n",
       "      <td>0.000000</td>\n",
       "      <td>2.000000</td>\n",
       "      <td>2.000000</td>\n",
       "      <td>2.000000</td>\n",
       "      <td>2.000000</td>\n",
       "      <td>2019.000000</td>\n",
       "    </tr>\n",
       "    <tr>\n",
       "      <th>max</th>\n",
       "      <td>12061.000000</td>\n",
       "      <td>10.000000</td>\n",
       "      <td>10.000000</td>\n",
       "      <td>10.000000</td>\n",
       "      <td>84.000000</td>\n",
       "      <td>83.000000</td>\n",
       "      <td>20.000000</td>\n",
       "      <td>18.000000</td>\n",
       "      <td>47.000000</td>\n",
       "      <td>19.000000</td>\n",
       "      <td>...</td>\n",
       "      <td>79.000000</td>\n",
       "      <td>32.000000</td>\n",
       "      <td>9.000000</td>\n",
       "      <td>2.000000</td>\n",
       "      <td>2.000000</td>\n",
       "      <td>10.000000</td>\n",
       "      <td>9.000000</td>\n",
       "      <td>9.000000</td>\n",
       "      <td>10.000000</td>\n",
       "      <td>2020.000000</td>\n",
       "    </tr>\n",
       "  </tbody>\n",
       "</table>\n",
       "<p>8 rows × 37 columns</p>\n",
       "</div>"
      ],
      "text/plain": [
       "         Unnamed: 0  Match Excitement  Home Team Rating  Away Team Rating  \\\n",
       "count  12062.000000      12062.000000      12062.000000      12062.000000   \n",
       "mean    6030.500000          5.391494          6.399702          6.142539   \n",
       "std     3482.143808          1.719655          0.988037          0.992074   \n",
       "min        0.000000          1.400000          2.100000          1.300000   \n",
       "25%     3015.250000          4.100000          5.700000          5.500000   \n",
       "50%     6030.500000          5.300000          6.400000          6.100000   \n",
       "75%     9045.750000          6.400000          7.000000          6.800000   \n",
       "max    12061.000000         10.000000         10.000000         10.000000   \n",
       "\n",
       "       Home Team Possession %  Away Team Possession %  \\\n",
       "count            12062.000000            12062.000000   \n",
       "mean                51.199469               48.800531   \n",
       "std                 11.275257               11.275257   \n",
       "min                 17.000000               16.000000   \n",
       "25%                 43.000000               41.000000   \n",
       "50%                 51.000000               49.000000   \n",
       "75%                 59.000000               57.000000   \n",
       "max                 84.000000               83.000000   \n",
       "\n",
       "       Home Team Off Target Shots  Home Team On Target Shots  \\\n",
       "count                12062.000000               12062.000000   \n",
       "mean                     5.644338                   4.723180   \n",
       "std                      2.781520                   2.559607   \n",
       "min                      0.000000                   0.000000   \n",
       "25%                      4.000000                   3.000000   \n",
       "50%                      5.000000                   4.000000   \n",
       "75%                      7.000000                   6.000000   \n",
       "max                     20.000000                  18.000000   \n",
       "\n",
       "       Home Team Total Shots  Home Team Blocked Shots  ...  \\\n",
       "count           12062.000000             12062.000000  ...   \n",
       "mean               13.690764                 3.338501  ...   \n",
       "std                 5.244448                 2.246498  ...   \n",
       "min                 0.000000                 0.000000  ...   \n",
       "25%                10.000000                 2.000000  ...   \n",
       "50%                13.000000                 3.000000  ...   \n",
       "75%                17.000000                 5.000000  ...   \n",
       "max                47.000000                19.000000  ...   \n",
       "\n",
       "       Away Team Clearances  Away Team Fouls  Away Team Yellow Cards  \\\n",
       "count          12062.000000     12062.000000            12062.000000   \n",
       "mean              22.792323        13.083154                2.162245   \n",
       "std               10.141781         4.205046                1.365581   \n",
       "min                1.000000         0.000000                0.000000   \n",
       "25%               15.000000        10.000000                1.000000   \n",
       "50%               22.000000        13.000000                2.000000   \n",
       "75%               29.000000        16.000000                3.000000   \n",
       "max               79.000000        32.000000                9.000000   \n",
       "\n",
       "       Away Team Second Yellow Cards  Away Team Red Cards  \\\n",
       "count                   12062.000000         12062.000000   \n",
       "mean                        0.060852             0.057785   \n",
       "std                         0.244216             0.243772   \n",
       "min                         0.000000             0.000000   \n",
       "25%                         0.000000             0.000000   \n",
       "50%                         0.000000             0.000000   \n",
       "75%                         0.000000             0.000000   \n",
       "max                         2.000000             2.000000   \n",
       "\n",
       "       Home Team Goals Scored  Away Team Goals Scored  \\\n",
       "count            12062.000000            12062.000000   \n",
       "mean                 1.531172                1.206351   \n",
       "std                  1.305178                1.168266   \n",
       "min                  0.000000                0.000000   \n",
       "25%                  1.000000                0.000000   \n",
       "50%                  1.000000                1.000000   \n",
       "75%                  2.000000                2.000000   \n",
       "max                 10.000000                9.000000   \n",
       "\n",
       "       Home Team Goals Conceeded  Away Team Goals Conceeded          year  \n",
       "count               12062.000000               12062.000000  12062.000000  \n",
       "mean                    1.206351                   1.531172   2017.109352  \n",
       "std                     1.168266                   1.305178      1.965096  \n",
       "min                     0.000000                   0.000000   2014.000000  \n",
       "25%                     0.000000                   1.000000   2015.000000  \n",
       "50%                     1.000000                   1.000000   2017.000000  \n",
       "75%                     2.000000                   2.000000   2019.000000  \n",
       "max                     9.000000                  10.000000   2020.000000  \n",
       "\n",
       "[8 rows x 37 columns]"
      ]
     },
     "execution_count": 7,
     "metadata": {},
     "output_type": "execute_result"
    }
   ],
   "source": [
    "df.describe()"
   ]
  },
  {
   "cell_type": "code",
   "execution_count": 8,
   "metadata": {
    "scrolled": false
   },
   "outputs": [
    {
     "data": {
      "text/html": [
       "<div>\n",
       "<style scoped>\n",
       "    .dataframe tbody tr th:only-of-type {\n",
       "        vertical-align: middle;\n",
       "    }\n",
       "\n",
       "    .dataframe tbody tr th {\n",
       "        vertical-align: top;\n",
       "    }\n",
       "\n",
       "    .dataframe thead th {\n",
       "        text-align: right;\n",
       "    }\n",
       "</style>\n",
       "<table border=\"1\" class=\"dataframe\">\n",
       "  <thead>\n",
       "    <tr style=\"text-align: right;\">\n",
       "      <th></th>\n",
       "      <th>Home Team</th>\n",
       "      <th>Away Team</th>\n",
       "      <th>Score</th>\n",
       "      <th>Half Time Score</th>\n",
       "      <th>league</th>\n",
       "    </tr>\n",
       "  </thead>\n",
       "  <tbody>\n",
       "    <tr>\n",
       "      <th>count</th>\n",
       "      <td>12062</td>\n",
       "      <td>12062</td>\n",
       "      <td>12062</td>\n",
       "      <td>12062</td>\n",
       "      <td>12062</td>\n",
       "    </tr>\n",
       "    <tr>\n",
       "      <th>unique</th>\n",
       "      <td>146</td>\n",
       "      <td>146</td>\n",
       "      <td>91</td>\n",
       "      <td>38</td>\n",
       "      <td>5</td>\n",
       "    </tr>\n",
       "    <tr>\n",
       "      <th>top</th>\n",
       "      <td>EIBAR</td>\n",
       "      <td>EIBAR</td>\n",
       "      <td>1-0</td>\n",
       "      <td>0-0</td>\n",
       "      <td>spanish</td>\n",
       "    </tr>\n",
       "    <tr>\n",
       "      <th>freq</th>\n",
       "      <td>133</td>\n",
       "      <td>133</td>\n",
       "      <td>1129</td>\n",
       "      <td>3637</td>\n",
       "      <td>2660</td>\n",
       "    </tr>\n",
       "  </tbody>\n",
       "</table>\n",
       "</div>"
      ],
      "text/plain": [
       "       Home Team Away Team  Score Half Time Score   league\n",
       "count      12062     12062  12062           12062    12062\n",
       "unique       146       146     91              38        5\n",
       "top        EIBAR     EIBAR    1-0             0-0  spanish\n",
       "freq         133       133   1129            3637     2660"
      ]
     },
     "execution_count": 8,
     "metadata": {},
     "output_type": "execute_result"
    }
   ],
   "source": [
    "df.describe(include=object)"
   ]
  },
  {
   "cell_type": "markdown",
   "metadata": {},
   "source": [
    "The above two tables give an idea of the totals, unique values, and other details of the dataset."
   ]
  },
  {
   "cell_type": "markdown",
   "metadata": {},
   "source": [
    "#### TimeFrame"
   ]
  },
  {
   "cell_type": "code",
   "execution_count": 9,
   "metadata": {
    "scrolled": true
   },
   "outputs": [
    {
     "name": "stdout",
     "output_type": "stream",
     "text": [
      "Data set begins at year: 2014\n",
      "Data set ends at year: 2020\n"
     ]
    }
   ],
   "source": [
    "print('Data set begins at year: ' + str(df['year'].min()))\n",
    "print('Data set ends at year: ' + str(df['year'].max()))"
   ]
  },
  {
   "cell_type": "markdown",
   "metadata": {},
   "source": [
    "The year column is used to determine the time frame of the dataset. The first entries are in 2014 and the last entries are in 2020, showing a span of 7 years."
   ]
  },
  {
   "cell_type": "markdown",
   "metadata": {},
   "source": [
    "#### Missing Data\n",
    "\n",
    "Looking at the info output, it can be confirmed that each column has 12062 data points and confirms that there is no missing data."
   ]
  },
  {
   "cell_type": "code",
   "execution_count": 10,
   "metadata": {},
   "outputs": [
    {
     "data": {
      "text/plain": [
       "Unnamed: 0                       0\n",
       "Home Team                        0\n",
       "Away Team                        0\n",
       "Score                            0\n",
       "Half Time Score                  0\n",
       "Match Excitement                 0\n",
       "Home Team Rating                 0\n",
       "Away Team Rating                 0\n",
       "Home Team Possession %           0\n",
       "Away Team Possession %           0\n",
       "Home Team Off Target Shots       0\n",
       "Home Team On Target Shots        0\n",
       "Home Team Total Shots            0\n",
       "Home Team Blocked Shots          0\n",
       "Home Team Corners                0\n",
       "Home Team Throw Ins              0\n",
       "Home Team Pass Success %         0\n",
       "Home Team Aerials Won            0\n",
       "Home Team Clearances             0\n",
       "Home Team Fouls                  0\n",
       "Home Team Yellow Cards           0\n",
       "Home Team Second Yellow Cards    0\n",
       "Home Team Red Cards              0\n",
       "Away Team Off Target Shots       0\n",
       "Away Team On Target Shots        0\n",
       "Away Team Total Shots            0\n",
       "Away Team Blocked Shots          0\n",
       "Away Team Corners                0\n",
       "Away Team Throw Ins              0\n",
       "Away Team Pass Success %         0\n",
       "Away Team Aerials Won            0\n",
       "Away Team Clearances             0\n",
       "Away Team Fouls                  0\n",
       "Away Team Yellow Cards           0\n",
       "Away Team Second Yellow Cards    0\n",
       "Away Team Red Cards              0\n",
       "Home Team Goals Scored           0\n",
       "Away Team Goals Scored           0\n",
       "Home Team Goals Conceeded        0\n",
       "Away Team Goals Conceeded        0\n",
       "year                             0\n",
       "league                           0\n",
       "dtype: int64"
      ]
     },
     "execution_count": 10,
     "metadata": {},
     "output_type": "execute_result"
    }
   ],
   "source": [
    "df.isnull().sum()"
   ]
  },
  {
   "cell_type": "markdown",
   "metadata": {},
   "source": [
    "### Player Data Set Inspection"
   ]
  },
  {
   "cell_type": "markdown",
   "metadata": {},
   "source": [
    "#### Type of each Variable"
   ]
  },
  {
   "cell_type": "code",
   "execution_count": 11,
   "metadata": {
    "scrolled": true
   },
   "outputs": [
    {
     "name": "stdout",
     "output_type": "stream",
     "text": [
      "<class 'pandas.core.frame.DataFrame'>\n",
      "RangeIndex: 18207 entries, 0 to 18206\n",
      "Data columns (total 85 columns):\n",
      " #   Column                    Non-Null Count  Dtype  \n",
      "---  ------                    --------------  -----  \n",
      " 0   ID                        18207 non-null  int64  \n",
      " 1   Name                      18207 non-null  object \n",
      " 2   Age                       18207 non-null  int64  \n",
      " 3   Nationality               18207 non-null  object \n",
      " 4   Overall                   18207 non-null  int64  \n",
      " 5   Potential                 18207 non-null  int64  \n",
      " 6   Club                      17966 non-null  object \n",
      " 7   Value                     18207 non-null  object \n",
      " 8   Wage                      18207 non-null  object \n",
      " 9   Special                   18207 non-null  int64  \n",
      " 10  Preferred Foot            18159 non-null  object \n",
      " 11  International Reputation  18159 non-null  float64\n",
      " 12  Weak Foot                 18159 non-null  float64\n",
      " 13  Skill Moves               18159 non-null  float64\n",
      " 14  Work Rate                 18159 non-null  object \n",
      " 15  Body Type                 18159 non-null  object \n",
      " 16  Real Face                 18159 non-null  object \n",
      " 17  Position                  18147 non-null  object \n",
      " 18  Jersey Number             18147 non-null  float64\n",
      " 19  Joined                    16654 non-null  object \n",
      " 20  Loaned From               1264 non-null   object \n",
      " 21  Contract Valid Until      17918 non-null  object \n",
      " 22  Height                    18159 non-null  object \n",
      " 23  Weight                    18159 non-null  object \n",
      " 24  LS                        16122 non-null  object \n",
      " 25  ST                        16122 non-null  object \n",
      " 26  RS                        16122 non-null  object \n",
      " 27  LW                        16122 non-null  object \n",
      " 28  LF                        16122 non-null  object \n",
      " 29  CF                        16122 non-null  object \n",
      " 30  RF                        16122 non-null  object \n",
      " 31  RW                        16122 non-null  object \n",
      " 32  LAM                       16122 non-null  object \n",
      " 33  CAM                       16122 non-null  object \n",
      " 34  RAM                       16122 non-null  object \n",
      " 35  LM                        16122 non-null  object \n",
      " 36  LCM                       16122 non-null  object \n",
      " 37  CM                        16122 non-null  object \n",
      " 38  RCM                       16122 non-null  object \n",
      " 39  RM                        16122 non-null  object \n",
      " 40  LWB                       16122 non-null  object \n",
      " 41  LDM                       16122 non-null  object \n",
      " 42  CDM                       16122 non-null  object \n",
      " 43  RDM                       16122 non-null  object \n",
      " 44  RWB                       16122 non-null  object \n",
      " 45  LB                        16122 non-null  object \n",
      " 46  LCB                       16122 non-null  object \n",
      " 47  CB                        16122 non-null  object \n",
      " 48  RCB                       16122 non-null  object \n",
      " 49  RB                        16122 non-null  object \n",
      " 50  Crossing                  18159 non-null  float64\n",
      " 51  Finishing                 18159 non-null  float64\n",
      " 52  HeadingAccuracy           18159 non-null  float64\n",
      " 53  ShortPassing              18159 non-null  float64\n",
      " 54  Volleys                   18159 non-null  float64\n",
      " 55  Dribbling                 18159 non-null  float64\n",
      " 56  Curve                     18159 non-null  float64\n",
      " 57  FKAccuracy                18159 non-null  float64\n",
      " 58  LongPassing               18159 non-null  float64\n",
      " 59  BallControl               18159 non-null  float64\n",
      " 60  Acceleration              18159 non-null  float64\n",
      " 61  SprintSpeed               18159 non-null  float64\n",
      " 62  Agility                   18159 non-null  float64\n",
      " 63  Reactions                 18159 non-null  float64\n",
      " 64  Balance                   18159 non-null  float64\n",
      " 65  ShotPower                 18159 non-null  float64\n",
      " 66  Jumping                   18159 non-null  float64\n",
      " 67  Stamina                   18159 non-null  float64\n",
      " 68  Strength                  18159 non-null  float64\n",
      " 69  LongShots                 18159 non-null  float64\n",
      " 70  Aggression                18159 non-null  float64\n",
      " 71  Interceptions             18159 non-null  float64\n",
      " 72  Positioning               18159 non-null  float64\n",
      " 73  Vision                    18159 non-null  float64\n",
      " 74  Penalties                 18159 non-null  float64\n",
      " 75  Composure                 18159 non-null  float64\n",
      " 76  Marking                   18159 non-null  float64\n",
      " 77  StandingTackle            18159 non-null  float64\n",
      " 78  SlidingTackle             18159 non-null  float64\n",
      " 79  GKDiving                  18159 non-null  float64\n",
      " 80  GKHandling                18159 non-null  float64\n",
      " 81  GKKicking                 18159 non-null  float64\n",
      " 82  GKPositioning             18159 non-null  float64\n",
      " 83  GKReflexes                18159 non-null  float64\n",
      " 84  Release Clause            16643 non-null  object \n",
      "dtypes: float64(38), int64(5), object(42)\n",
      "memory usage: 11.8+ MB\n"
     ]
    }
   ],
   "source": [
    "df_player.info()"
   ]
  },
  {
   "cell_type": "markdown",
   "metadata": {},
   "source": [
    "This data set has a good mix of categorical and numerical data. Many of the positions and naming variables are categorial while the stats and skill variables are numerical."
   ]
  },
  {
   "cell_type": "markdown",
   "metadata": {},
   "source": [
    "#### Total Size of Data Set"
   ]
  },
  {
   "cell_type": "code",
   "execution_count": 12,
   "metadata": {},
   "outputs": [
    {
     "data": {
      "text/plain": [
       "(18207, 85)"
      ]
     },
     "execution_count": 12,
     "metadata": {},
     "output_type": "execute_result"
    }
   ],
   "source": [
    "df_player.shape"
   ]
  },
  {
   "cell_type": "markdown",
   "metadata": {},
   "source": [
    "The data set has 85 columns and 18207 rows."
   ]
  },
  {
   "cell_type": "code",
   "execution_count": 13,
   "metadata": {
    "scrolled": true
   },
   "outputs": [
    {
     "data": {
      "text/html": [
       "<div>\n",
       "<style scoped>\n",
       "    .dataframe tbody tr th:only-of-type {\n",
       "        vertical-align: middle;\n",
       "    }\n",
       "\n",
       "    .dataframe tbody tr th {\n",
       "        vertical-align: top;\n",
       "    }\n",
       "\n",
       "    .dataframe thead th {\n",
       "        text-align: right;\n",
       "    }\n",
       "</style>\n",
       "<table border=\"1\" class=\"dataframe\">\n",
       "  <thead>\n",
       "    <tr style=\"text-align: right;\">\n",
       "      <th></th>\n",
       "      <th>ID</th>\n",
       "      <th>Age</th>\n",
       "      <th>Overall</th>\n",
       "      <th>Potential</th>\n",
       "      <th>Special</th>\n",
       "      <th>International Reputation</th>\n",
       "      <th>Weak Foot</th>\n",
       "      <th>Skill Moves</th>\n",
       "      <th>Jersey Number</th>\n",
       "      <th>Crossing</th>\n",
       "      <th>...</th>\n",
       "      <th>Penalties</th>\n",
       "      <th>Composure</th>\n",
       "      <th>Marking</th>\n",
       "      <th>StandingTackle</th>\n",
       "      <th>SlidingTackle</th>\n",
       "      <th>GKDiving</th>\n",
       "      <th>GKHandling</th>\n",
       "      <th>GKKicking</th>\n",
       "      <th>GKPositioning</th>\n",
       "      <th>GKReflexes</th>\n",
       "    </tr>\n",
       "  </thead>\n",
       "  <tbody>\n",
       "    <tr>\n",
       "      <th>count</th>\n",
       "      <td>18207.000000</td>\n",
       "      <td>18207.000000</td>\n",
       "      <td>18207.000000</td>\n",
       "      <td>18207.000000</td>\n",
       "      <td>18207.000000</td>\n",
       "      <td>18159.000000</td>\n",
       "      <td>18159.000000</td>\n",
       "      <td>18159.000000</td>\n",
       "      <td>18147.000000</td>\n",
       "      <td>18159.000000</td>\n",
       "      <td>...</td>\n",
       "      <td>18159.000000</td>\n",
       "      <td>18159.000000</td>\n",
       "      <td>18159.000000</td>\n",
       "      <td>18159.000000</td>\n",
       "      <td>18159.000000</td>\n",
       "      <td>18159.000000</td>\n",
       "      <td>18159.000000</td>\n",
       "      <td>18159.000000</td>\n",
       "      <td>18159.000000</td>\n",
       "      <td>18159.000000</td>\n",
       "    </tr>\n",
       "    <tr>\n",
       "      <th>mean</th>\n",
       "      <td>214298.338606</td>\n",
       "      <td>25.122206</td>\n",
       "      <td>66.238699</td>\n",
       "      <td>71.307299</td>\n",
       "      <td>1597.809908</td>\n",
       "      <td>1.113222</td>\n",
       "      <td>2.947299</td>\n",
       "      <td>2.361308</td>\n",
       "      <td>19.546096</td>\n",
       "      <td>49.734181</td>\n",
       "      <td>...</td>\n",
       "      <td>48.548598</td>\n",
       "      <td>58.648274</td>\n",
       "      <td>47.281623</td>\n",
       "      <td>47.697836</td>\n",
       "      <td>45.661435</td>\n",
       "      <td>16.616223</td>\n",
       "      <td>16.391596</td>\n",
       "      <td>16.232061</td>\n",
       "      <td>16.388898</td>\n",
       "      <td>16.710887</td>\n",
       "    </tr>\n",
       "    <tr>\n",
       "      <th>std</th>\n",
       "      <td>29965.244204</td>\n",
       "      <td>4.669943</td>\n",
       "      <td>6.908930</td>\n",
       "      <td>6.136496</td>\n",
       "      <td>272.586016</td>\n",
       "      <td>0.394031</td>\n",
       "      <td>0.660456</td>\n",
       "      <td>0.756164</td>\n",
       "      <td>15.947765</td>\n",
       "      <td>18.364524</td>\n",
       "      <td>...</td>\n",
       "      <td>15.704053</td>\n",
       "      <td>11.436133</td>\n",
       "      <td>19.904397</td>\n",
       "      <td>21.664004</td>\n",
       "      <td>21.289135</td>\n",
       "      <td>17.695349</td>\n",
       "      <td>16.906900</td>\n",
       "      <td>16.502864</td>\n",
       "      <td>17.034669</td>\n",
       "      <td>17.955119</td>\n",
       "    </tr>\n",
       "    <tr>\n",
       "      <th>min</th>\n",
       "      <td>16.000000</td>\n",
       "      <td>16.000000</td>\n",
       "      <td>46.000000</td>\n",
       "      <td>48.000000</td>\n",
       "      <td>731.000000</td>\n",
       "      <td>1.000000</td>\n",
       "      <td>1.000000</td>\n",
       "      <td>1.000000</td>\n",
       "      <td>1.000000</td>\n",
       "      <td>5.000000</td>\n",
       "      <td>...</td>\n",
       "      <td>5.000000</td>\n",
       "      <td>3.000000</td>\n",
       "      <td>3.000000</td>\n",
       "      <td>2.000000</td>\n",
       "      <td>3.000000</td>\n",
       "      <td>1.000000</td>\n",
       "      <td>1.000000</td>\n",
       "      <td>1.000000</td>\n",
       "      <td>1.000000</td>\n",
       "      <td>1.000000</td>\n",
       "    </tr>\n",
       "    <tr>\n",
       "      <th>25%</th>\n",
       "      <td>200315.500000</td>\n",
       "      <td>21.000000</td>\n",
       "      <td>62.000000</td>\n",
       "      <td>67.000000</td>\n",
       "      <td>1457.000000</td>\n",
       "      <td>1.000000</td>\n",
       "      <td>3.000000</td>\n",
       "      <td>2.000000</td>\n",
       "      <td>8.000000</td>\n",
       "      <td>38.000000</td>\n",
       "      <td>...</td>\n",
       "      <td>39.000000</td>\n",
       "      <td>51.000000</td>\n",
       "      <td>30.000000</td>\n",
       "      <td>27.000000</td>\n",
       "      <td>24.000000</td>\n",
       "      <td>8.000000</td>\n",
       "      <td>8.000000</td>\n",
       "      <td>8.000000</td>\n",
       "      <td>8.000000</td>\n",
       "      <td>8.000000</td>\n",
       "    </tr>\n",
       "    <tr>\n",
       "      <th>50%</th>\n",
       "      <td>221759.000000</td>\n",
       "      <td>25.000000</td>\n",
       "      <td>66.000000</td>\n",
       "      <td>71.000000</td>\n",
       "      <td>1635.000000</td>\n",
       "      <td>1.000000</td>\n",
       "      <td>3.000000</td>\n",
       "      <td>2.000000</td>\n",
       "      <td>17.000000</td>\n",
       "      <td>54.000000</td>\n",
       "      <td>...</td>\n",
       "      <td>49.000000</td>\n",
       "      <td>60.000000</td>\n",
       "      <td>53.000000</td>\n",
       "      <td>55.000000</td>\n",
       "      <td>52.000000</td>\n",
       "      <td>11.000000</td>\n",
       "      <td>11.000000</td>\n",
       "      <td>11.000000</td>\n",
       "      <td>11.000000</td>\n",
       "      <td>11.000000</td>\n",
       "    </tr>\n",
       "    <tr>\n",
       "      <th>75%</th>\n",
       "      <td>236529.500000</td>\n",
       "      <td>28.000000</td>\n",
       "      <td>71.000000</td>\n",
       "      <td>75.000000</td>\n",
       "      <td>1787.000000</td>\n",
       "      <td>1.000000</td>\n",
       "      <td>3.000000</td>\n",
       "      <td>3.000000</td>\n",
       "      <td>26.000000</td>\n",
       "      <td>64.000000</td>\n",
       "      <td>...</td>\n",
       "      <td>60.000000</td>\n",
       "      <td>67.000000</td>\n",
       "      <td>64.000000</td>\n",
       "      <td>66.000000</td>\n",
       "      <td>64.000000</td>\n",
       "      <td>14.000000</td>\n",
       "      <td>14.000000</td>\n",
       "      <td>14.000000</td>\n",
       "      <td>14.000000</td>\n",
       "      <td>14.000000</td>\n",
       "    </tr>\n",
       "    <tr>\n",
       "      <th>max</th>\n",
       "      <td>246620.000000</td>\n",
       "      <td>45.000000</td>\n",
       "      <td>94.000000</td>\n",
       "      <td>95.000000</td>\n",
       "      <td>2346.000000</td>\n",
       "      <td>5.000000</td>\n",
       "      <td>5.000000</td>\n",
       "      <td>5.000000</td>\n",
       "      <td>99.000000</td>\n",
       "      <td>93.000000</td>\n",
       "      <td>...</td>\n",
       "      <td>92.000000</td>\n",
       "      <td>96.000000</td>\n",
       "      <td>94.000000</td>\n",
       "      <td>93.000000</td>\n",
       "      <td>91.000000</td>\n",
       "      <td>90.000000</td>\n",
       "      <td>92.000000</td>\n",
       "      <td>91.000000</td>\n",
       "      <td>90.000000</td>\n",
       "      <td>94.000000</td>\n",
       "    </tr>\n",
       "  </tbody>\n",
       "</table>\n",
       "<p>8 rows × 43 columns</p>\n",
       "</div>"
      ],
      "text/plain": [
       "                  ID           Age       Overall     Potential       Special  \\\n",
       "count   18207.000000  18207.000000  18207.000000  18207.000000  18207.000000   \n",
       "mean   214298.338606     25.122206     66.238699     71.307299   1597.809908   \n",
       "std     29965.244204      4.669943      6.908930      6.136496    272.586016   \n",
       "min        16.000000     16.000000     46.000000     48.000000    731.000000   \n",
       "25%    200315.500000     21.000000     62.000000     67.000000   1457.000000   \n",
       "50%    221759.000000     25.000000     66.000000     71.000000   1635.000000   \n",
       "75%    236529.500000     28.000000     71.000000     75.000000   1787.000000   \n",
       "max    246620.000000     45.000000     94.000000     95.000000   2346.000000   \n",
       "\n",
       "       International Reputation     Weak Foot   Skill Moves  Jersey Number  \\\n",
       "count              18159.000000  18159.000000  18159.000000   18147.000000   \n",
       "mean                   1.113222      2.947299      2.361308      19.546096   \n",
       "std                    0.394031      0.660456      0.756164      15.947765   \n",
       "min                    1.000000      1.000000      1.000000       1.000000   \n",
       "25%                    1.000000      3.000000      2.000000       8.000000   \n",
       "50%                    1.000000      3.000000      2.000000      17.000000   \n",
       "75%                    1.000000      3.000000      3.000000      26.000000   \n",
       "max                    5.000000      5.000000      5.000000      99.000000   \n",
       "\n",
       "           Crossing  ...     Penalties     Composure       Marking  \\\n",
       "count  18159.000000  ...  18159.000000  18159.000000  18159.000000   \n",
       "mean      49.734181  ...     48.548598     58.648274     47.281623   \n",
       "std       18.364524  ...     15.704053     11.436133     19.904397   \n",
       "min        5.000000  ...      5.000000      3.000000      3.000000   \n",
       "25%       38.000000  ...     39.000000     51.000000     30.000000   \n",
       "50%       54.000000  ...     49.000000     60.000000     53.000000   \n",
       "75%       64.000000  ...     60.000000     67.000000     64.000000   \n",
       "max       93.000000  ...     92.000000     96.000000     94.000000   \n",
       "\n",
       "       StandingTackle  SlidingTackle      GKDiving    GKHandling  \\\n",
       "count    18159.000000   18159.000000  18159.000000  18159.000000   \n",
       "mean        47.697836      45.661435     16.616223     16.391596   \n",
       "std         21.664004      21.289135     17.695349     16.906900   \n",
       "min          2.000000       3.000000      1.000000      1.000000   \n",
       "25%         27.000000      24.000000      8.000000      8.000000   \n",
       "50%         55.000000      52.000000     11.000000     11.000000   \n",
       "75%         66.000000      64.000000     14.000000     14.000000   \n",
       "max         93.000000      91.000000     90.000000     92.000000   \n",
       "\n",
       "          GKKicking  GKPositioning    GKReflexes  \n",
       "count  18159.000000   18159.000000  18159.000000  \n",
       "mean      16.232061      16.388898     16.710887  \n",
       "std       16.502864      17.034669     17.955119  \n",
       "min        1.000000       1.000000      1.000000  \n",
       "25%        8.000000       8.000000      8.000000  \n",
       "50%       11.000000      11.000000     11.000000  \n",
       "75%       14.000000      14.000000     14.000000  \n",
       "max       91.000000      90.000000     94.000000  \n",
       "\n",
       "[8 rows x 43 columns]"
      ]
     },
     "execution_count": 13,
     "metadata": {},
     "output_type": "execute_result"
    }
   ],
   "source": [
    "df_player.describe() "
   ]
  },
  {
   "cell_type": "code",
   "execution_count": 14,
   "metadata": {
    "scrolled": true
   },
   "outputs": [
    {
     "data": {
      "text/html": [
       "<div>\n",
       "<style scoped>\n",
       "    .dataframe tbody tr th:only-of-type {\n",
       "        vertical-align: middle;\n",
       "    }\n",
       "\n",
       "    .dataframe tbody tr th {\n",
       "        vertical-align: top;\n",
       "    }\n",
       "\n",
       "    .dataframe thead th {\n",
       "        text-align: right;\n",
       "    }\n",
       "</style>\n",
       "<table border=\"1\" class=\"dataframe\">\n",
       "  <thead>\n",
       "    <tr style=\"text-align: right;\">\n",
       "      <th></th>\n",
       "      <th>Name</th>\n",
       "      <th>Nationality</th>\n",
       "      <th>Club</th>\n",
       "      <th>Value</th>\n",
       "      <th>Wage</th>\n",
       "      <th>Preferred Foot</th>\n",
       "      <th>Work Rate</th>\n",
       "      <th>Body Type</th>\n",
       "      <th>Real Face</th>\n",
       "      <th>Position</th>\n",
       "      <th>...</th>\n",
       "      <th>LDM</th>\n",
       "      <th>CDM</th>\n",
       "      <th>RDM</th>\n",
       "      <th>RWB</th>\n",
       "      <th>LB</th>\n",
       "      <th>LCB</th>\n",
       "      <th>CB</th>\n",
       "      <th>RCB</th>\n",
       "      <th>RB</th>\n",
       "      <th>Release Clause</th>\n",
       "    </tr>\n",
       "  </thead>\n",
       "  <tbody>\n",
       "    <tr>\n",
       "      <th>count</th>\n",
       "      <td>18207</td>\n",
       "      <td>18207</td>\n",
       "      <td>17966</td>\n",
       "      <td>18207</td>\n",
       "      <td>18207</td>\n",
       "      <td>18159</td>\n",
       "      <td>18159</td>\n",
       "      <td>18159</td>\n",
       "      <td>18159</td>\n",
       "      <td>18147</td>\n",
       "      <td>...</td>\n",
       "      <td>16122</td>\n",
       "      <td>16122</td>\n",
       "      <td>16122</td>\n",
       "      <td>16122</td>\n",
       "      <td>16122</td>\n",
       "      <td>16122</td>\n",
       "      <td>16122</td>\n",
       "      <td>16122</td>\n",
       "      <td>16122</td>\n",
       "      <td>16643</td>\n",
       "    </tr>\n",
       "    <tr>\n",
       "      <th>unique</th>\n",
       "      <td>17194</td>\n",
       "      <td>164</td>\n",
       "      <td>651</td>\n",
       "      <td>217</td>\n",
       "      <td>144</td>\n",
       "      <td>2</td>\n",
       "      <td>9</td>\n",
       "      <td>10</td>\n",
       "      <td>2</td>\n",
       "      <td>27</td>\n",
       "      <td>...</td>\n",
       "      <td>99</td>\n",
       "      <td>99</td>\n",
       "      <td>99</td>\n",
       "      <td>95</td>\n",
       "      <td>98</td>\n",
       "      <td>108</td>\n",
       "      <td>108</td>\n",
       "      <td>108</td>\n",
       "      <td>98</td>\n",
       "      <td>1244</td>\n",
       "    </tr>\n",
       "    <tr>\n",
       "      <th>top</th>\n",
       "      <td>J. Rodríguez</td>\n",
       "      <td>England</td>\n",
       "      <td>Frosinone</td>\n",
       "      <td>€1.1M</td>\n",
       "      <td>€1K</td>\n",
       "      <td>Right</td>\n",
       "      <td>Medium/ Medium</td>\n",
       "      <td>Normal</td>\n",
       "      <td>No</td>\n",
       "      <td>ST</td>\n",
       "      <td>...</td>\n",
       "      <td>62+2</td>\n",
       "      <td>62+2</td>\n",
       "      <td>62+2</td>\n",
       "      <td>61+2</td>\n",
       "      <td>61+2</td>\n",
       "      <td>63+2</td>\n",
       "      <td>63+2</td>\n",
       "      <td>63+2</td>\n",
       "      <td>61+2</td>\n",
       "      <td>€1.1M</td>\n",
       "    </tr>\n",
       "    <tr>\n",
       "      <th>freq</th>\n",
       "      <td>11</td>\n",
       "      <td>1662</td>\n",
       "      <td>33</td>\n",
       "      <td>431</td>\n",
       "      <td>4900</td>\n",
       "      <td>13948</td>\n",
       "      <td>9810</td>\n",
       "      <td>10595</td>\n",
       "      <td>16505</td>\n",
       "      <td>2152</td>\n",
       "      <td>...</td>\n",
       "      <td>660</td>\n",
       "      <td>660</td>\n",
       "      <td>660</td>\n",
       "      <td>713</td>\n",
       "      <td>669</td>\n",
       "      <td>634</td>\n",
       "      <td>634</td>\n",
       "      <td>634</td>\n",
       "      <td>669</td>\n",
       "      <td>557</td>\n",
       "    </tr>\n",
       "  </tbody>\n",
       "</table>\n",
       "<p>4 rows × 42 columns</p>\n",
       "</div>"
      ],
      "text/plain": [
       "                Name Nationality       Club  Value   Wage Preferred Foot  \\\n",
       "count          18207       18207      17966  18207  18207          18159   \n",
       "unique         17194         164        651    217    144              2   \n",
       "top     J. Rodríguez     England  Frosinone  €1.1M    €1K          Right   \n",
       "freq              11        1662         33    431   4900          13948   \n",
       "\n",
       "             Work Rate Body Type Real Face Position  ...    LDM    CDM    RDM  \\\n",
       "count            18159     18159     18159    18147  ...  16122  16122  16122   \n",
       "unique               9        10         2       27  ...     99     99     99   \n",
       "top     Medium/ Medium    Normal        No       ST  ...   62+2   62+2   62+2   \n",
       "freq              9810     10595     16505     2152  ...    660    660    660   \n",
       "\n",
       "          RWB     LB    LCB     CB    RCB     RB Release Clause  \n",
       "count   16122  16122  16122  16122  16122  16122          16643  \n",
       "unique     95     98    108    108    108     98           1244  \n",
       "top      61+2   61+2   63+2   63+2   63+2   61+2          €1.1M  \n",
       "freq      713    669    634    634    634    669            557  \n",
       "\n",
       "[4 rows x 42 columns]"
      ]
     },
     "execution_count": 14,
     "metadata": {},
     "output_type": "execute_result"
    }
   ],
   "source": [
    "df_player.describe(include=object) "
   ]
  },
  {
   "cell_type": "markdown",
   "metadata": {},
   "source": [
    "The above two tables give an idea of the totals, unique values, and other details of the dataset."
   ]
  },
  {
   "cell_type": "markdown",
   "metadata": {},
   "source": [
    "#### TimeFrame"
   ]
  },
  {
   "cell_type": "markdown",
   "metadata": {},
   "source": [
    "Entire data set was from 2019, single year of data."
   ]
  },
  {
   "cell_type": "markdown",
   "metadata": {},
   "source": [
    "#### Missing Data"
   ]
  },
  {
   "cell_type": "code",
   "execution_count": 15,
   "metadata": {},
   "outputs": [
    {
     "name": "stdout",
     "output_type": "stream",
     "text": [
      "ID                   0\n",
      "Name                 0\n",
      "Age                  0\n",
      "Nationality          0\n",
      "Overall              0\n",
      "                  ... \n",
      "GKHandling          48\n",
      "GKKicking           48\n",
      "GKPositioning       48\n",
      "GKReflexes          48\n",
      "Release Clause    1564\n",
      "Length: 85, dtype: int64\n"
     ]
    }
   ],
   "source": [
    "print(df_player.isnull().sum())"
   ]
  },
  {
   "cell_type": "code",
   "execution_count": 16,
   "metadata": {
    "scrolled": true
   },
   "outputs": [
    {
     "name": "stdout",
     "output_type": "stream",
     "text": [
      "<class 'pandas.core.frame.DataFrame'>\n",
      "RangeIndex: 18207 entries, 0 to 18206\n",
      "Data columns (total 85 columns):\n",
      " #   Column                    Non-Null Count  Dtype  \n",
      "---  ------                    --------------  -----  \n",
      " 0   ID                        18207 non-null  int64  \n",
      " 1   Name                      18207 non-null  object \n",
      " 2   Age                       18207 non-null  int64  \n",
      " 3   Nationality               18207 non-null  object \n",
      " 4   Overall                   18207 non-null  int64  \n",
      " 5   Potential                 18207 non-null  int64  \n",
      " 6   Club                      17966 non-null  object \n",
      " 7   Value                     18207 non-null  object \n",
      " 8   Wage                      18207 non-null  object \n",
      " 9   Special                   18207 non-null  int64  \n",
      " 10  Preferred Foot            18159 non-null  object \n",
      " 11  International Reputation  18159 non-null  float64\n",
      " 12  Weak Foot                 18159 non-null  float64\n",
      " 13  Skill Moves               18159 non-null  float64\n",
      " 14  Work Rate                 18159 non-null  object \n",
      " 15  Body Type                 18159 non-null  object \n",
      " 16  Real Face                 18159 non-null  object \n",
      " 17  Position                  18147 non-null  object \n",
      " 18  Jersey Number             18147 non-null  float64\n",
      " 19  Joined                    16654 non-null  object \n",
      " 20  Loaned From               1264 non-null   object \n",
      " 21  Contract Valid Until      17918 non-null  object \n",
      " 22  Height                    18159 non-null  object \n",
      " 23  Weight                    18159 non-null  object \n",
      " 24  LS                        16122 non-null  object \n",
      " 25  ST                        16122 non-null  object \n",
      " 26  RS                        16122 non-null  object \n",
      " 27  LW                        16122 non-null  object \n",
      " 28  LF                        16122 non-null  object \n",
      " 29  CF                        16122 non-null  object \n",
      " 30  RF                        16122 non-null  object \n",
      " 31  RW                        16122 non-null  object \n",
      " 32  LAM                       16122 non-null  object \n",
      " 33  CAM                       16122 non-null  object \n",
      " 34  RAM                       16122 non-null  object \n",
      " 35  LM                        16122 non-null  object \n",
      " 36  LCM                       16122 non-null  object \n",
      " 37  CM                        16122 non-null  object \n",
      " 38  RCM                       16122 non-null  object \n",
      " 39  RM                        16122 non-null  object \n",
      " 40  LWB                       16122 non-null  object \n",
      " 41  LDM                       16122 non-null  object \n",
      " 42  CDM                       16122 non-null  object \n",
      " 43  RDM                       16122 non-null  object \n",
      " 44  RWB                       16122 non-null  object \n",
      " 45  LB                        16122 non-null  object \n",
      " 46  LCB                       16122 non-null  object \n",
      " 47  CB                        16122 non-null  object \n",
      " 48  RCB                       16122 non-null  object \n",
      " 49  RB                        16122 non-null  object \n",
      " 50  Crossing                  18159 non-null  float64\n",
      " 51  Finishing                 18159 non-null  float64\n",
      " 52  HeadingAccuracy           18159 non-null  float64\n",
      " 53  ShortPassing              18159 non-null  float64\n",
      " 54  Volleys                   18159 non-null  float64\n",
      " 55  Dribbling                 18159 non-null  float64\n",
      " 56  Curve                     18159 non-null  float64\n",
      " 57  FKAccuracy                18159 non-null  float64\n",
      " 58  LongPassing               18159 non-null  float64\n",
      " 59  BallControl               18159 non-null  float64\n",
      " 60  Acceleration              18159 non-null  float64\n",
      " 61  SprintSpeed               18159 non-null  float64\n",
      " 62  Agility                   18159 non-null  float64\n",
      " 63  Reactions                 18159 non-null  float64\n",
      " 64  Balance                   18159 non-null  float64\n",
      " 65  ShotPower                 18159 non-null  float64\n",
      " 66  Jumping                   18159 non-null  float64\n",
      " 67  Stamina                   18159 non-null  float64\n",
      " 68  Strength                  18159 non-null  float64\n",
      " 69  LongShots                 18159 non-null  float64\n",
      " 70  Aggression                18159 non-null  float64\n",
      " 71  Interceptions             18159 non-null  float64\n",
      " 72  Positioning               18159 non-null  float64\n",
      " 73  Vision                    18159 non-null  float64\n",
      " 74  Penalties                 18159 non-null  float64\n",
      " 75  Composure                 18159 non-null  float64\n",
      " 76  Marking                   18159 non-null  float64\n",
      " 77  StandingTackle            18159 non-null  float64\n",
      " 78  SlidingTackle             18159 non-null  float64\n",
      " 79  GKDiving                  18159 non-null  float64\n",
      " 80  GKHandling                18159 non-null  float64\n",
      " 81  GKKicking                 18159 non-null  float64\n",
      " 82  GKPositioning             18159 non-null  float64\n",
      " 83  GKReflexes                18159 non-null  float64\n",
      " 84  Release Clause            16643 non-null  object \n",
      "dtypes: float64(38), int64(5), object(42)\n",
      "memory usage: 11.8+ MB\n"
     ]
    }
   ],
   "source": [
    "df_player.info()"
   ]
  },
  {
   "cell_type": "markdown",
   "metadata": {},
   "source": [
    "Using the .info() table, looking at the count of each column there are many with missing data. Many of the positions are missing over 2000 data points. Lots of the other columns have about 50 missing data points."
   ]
  },
  {
   "cell_type": "markdown",
   "metadata": {},
   "source": [
    "### International Data Set Inspection"
   ]
  },
  {
   "cell_type": "markdown",
   "metadata": {},
   "source": [
    "#### Type of each Variable"
   ]
  },
  {
   "cell_type": "code",
   "execution_count": 17,
   "metadata": {
    "scrolled": true
   },
   "outputs": [
    {
     "name": "stdout",
     "output_type": "stream",
     "text": [
      "<class 'pandas.core.frame.DataFrame'>\n",
      "RangeIndex: 43188 entries, 0 to 43187\n",
      "Data columns (total 9 columns):\n",
      " #   Column      Non-Null Count  Dtype \n",
      "---  ------      --------------  ----- \n",
      " 0   date        43188 non-null  object\n",
      " 1   home_team   43188 non-null  object\n",
      " 2   away_team   43188 non-null  object\n",
      " 3   home_score  43188 non-null  int64 \n",
      " 4   away_score  43188 non-null  int64 \n",
      " 5   tournament  43188 non-null  object\n",
      " 6   city        43188 non-null  object\n",
      " 7   country     43188 non-null  object\n",
      " 8   neutral     43188 non-null  bool  \n",
      "dtypes: bool(1), int64(2), object(6)\n",
      "memory usage: 2.7+ MB\n"
     ]
    }
   ],
   "source": [
    "df_international.info()"
   ]
  },
  {
   "cell_type": "markdown",
   "metadata": {},
   "source": [
    "The data set has two numerical variables, the home and away scores of a game, with the rest of the variables being categorical."
   ]
  },
  {
   "cell_type": "markdown",
   "metadata": {},
   "source": [
    "#### Total Size of Data Set"
   ]
  },
  {
   "cell_type": "code",
   "execution_count": 18,
   "metadata": {},
   "outputs": [
    {
     "data": {
      "text/plain": [
       "(43188, 9)"
      ]
     },
     "execution_count": 18,
     "metadata": {},
     "output_type": "execute_result"
    }
   ],
   "source": [
    "df_international.shape"
   ]
  },
  {
   "cell_type": "markdown",
   "metadata": {},
   "source": [
    "The data set has 9 columns and 43188 rows. There is no missing data so there is a total of 388,692 data points."
   ]
  },
  {
   "cell_type": "code",
   "execution_count": 19,
   "metadata": {
    "scrolled": true
   },
   "outputs": [
    {
     "data": {
      "text/html": [
       "<div>\n",
       "<style scoped>\n",
       "    .dataframe tbody tr th:only-of-type {\n",
       "        vertical-align: middle;\n",
       "    }\n",
       "\n",
       "    .dataframe tbody tr th {\n",
       "        vertical-align: top;\n",
       "    }\n",
       "\n",
       "    .dataframe thead th {\n",
       "        text-align: right;\n",
       "    }\n",
       "</style>\n",
       "<table border=\"1\" class=\"dataframe\">\n",
       "  <thead>\n",
       "    <tr style=\"text-align: right;\">\n",
       "      <th></th>\n",
       "      <th>home_score</th>\n",
       "      <th>away_score</th>\n",
       "    </tr>\n",
       "  </thead>\n",
       "  <tbody>\n",
       "    <tr>\n",
       "      <th>count</th>\n",
       "      <td>43188.000000</td>\n",
       "      <td>43188.000000</td>\n",
       "    </tr>\n",
       "    <tr>\n",
       "      <th>mean</th>\n",
       "      <td>1.742544</td>\n",
       "      <td>1.182666</td>\n",
       "    </tr>\n",
       "    <tr>\n",
       "      <th>std</th>\n",
       "      <td>1.753055</td>\n",
       "      <td>1.399664</td>\n",
       "    </tr>\n",
       "    <tr>\n",
       "      <th>min</th>\n",
       "      <td>0.000000</td>\n",
       "      <td>0.000000</td>\n",
       "    </tr>\n",
       "    <tr>\n",
       "      <th>25%</th>\n",
       "      <td>1.000000</td>\n",
       "      <td>0.000000</td>\n",
       "    </tr>\n",
       "    <tr>\n",
       "      <th>50%</th>\n",
       "      <td>1.000000</td>\n",
       "      <td>1.000000</td>\n",
       "    </tr>\n",
       "    <tr>\n",
       "      <th>75%</th>\n",
       "      <td>2.000000</td>\n",
       "      <td>2.000000</td>\n",
       "    </tr>\n",
       "    <tr>\n",
       "      <th>max</th>\n",
       "      <td>31.000000</td>\n",
       "      <td>21.000000</td>\n",
       "    </tr>\n",
       "  </tbody>\n",
       "</table>\n",
       "</div>"
      ],
      "text/plain": [
       "         home_score    away_score\n",
       "count  43188.000000  43188.000000\n",
       "mean       1.742544      1.182666\n",
       "std        1.753055      1.399664\n",
       "min        0.000000      0.000000\n",
       "25%        1.000000      0.000000\n",
       "50%        1.000000      1.000000\n",
       "75%        2.000000      2.000000\n",
       "max       31.000000     21.000000"
      ]
     },
     "execution_count": 19,
     "metadata": {},
     "output_type": "execute_result"
    }
   ],
   "source": [
    "df_international.describe() "
   ]
  },
  {
   "cell_type": "code",
   "execution_count": 20,
   "metadata": {
    "scrolled": true
   },
   "outputs": [
    {
     "data": {
      "text/html": [
       "<div>\n",
       "<style scoped>\n",
       "    .dataframe tbody tr th:only-of-type {\n",
       "        vertical-align: middle;\n",
       "    }\n",
       "\n",
       "    .dataframe tbody tr th {\n",
       "        vertical-align: top;\n",
       "    }\n",
       "\n",
       "    .dataframe thead th {\n",
       "        text-align: right;\n",
       "    }\n",
       "</style>\n",
       "<table border=\"1\" class=\"dataframe\">\n",
       "  <thead>\n",
       "    <tr style=\"text-align: right;\">\n",
       "      <th></th>\n",
       "      <th>date</th>\n",
       "      <th>home_team</th>\n",
       "      <th>away_team</th>\n",
       "      <th>tournament</th>\n",
       "      <th>city</th>\n",
       "      <th>country</th>\n",
       "    </tr>\n",
       "  </thead>\n",
       "  <tbody>\n",
       "    <tr>\n",
       "      <th>count</th>\n",
       "      <td>43188</td>\n",
       "      <td>43188</td>\n",
       "      <td>43188</td>\n",
       "      <td>43188</td>\n",
       "      <td>43188</td>\n",
       "      <td>43188</td>\n",
       "    </tr>\n",
       "    <tr>\n",
       "      <th>unique</th>\n",
       "      <td>15421</td>\n",
       "      <td>306</td>\n",
       "      <td>303</td>\n",
       "      <td>126</td>\n",
       "      <td>1976</td>\n",
       "      <td>267</td>\n",
       "    </tr>\n",
       "    <tr>\n",
       "      <th>top</th>\n",
       "      <td>2012-02-29</td>\n",
       "      <td>Brazil</td>\n",
       "      <td>Uruguay</td>\n",
       "      <td>Friendly</td>\n",
       "      <td>Kuala Lumpur</td>\n",
       "      <td>United States</td>\n",
       "    </tr>\n",
       "    <tr>\n",
       "      <th>freq</th>\n",
       "      <td>66</td>\n",
       "      <td>586</td>\n",
       "      <td>551</td>\n",
       "      <td>17276</td>\n",
       "      <td>667</td>\n",
       "      <td>1237</td>\n",
       "    </tr>\n",
       "  </tbody>\n",
       "</table>\n",
       "</div>"
      ],
      "text/plain": [
       "              date home_team away_team tournament          city        country\n",
       "count        43188     43188     43188      43188         43188          43188\n",
       "unique       15421       306       303        126          1976            267\n",
       "top     2012-02-29    Brazil   Uruguay   Friendly  Kuala Lumpur  United States\n",
       "freq            66       586       551      17276           667           1237"
      ]
     },
     "execution_count": 20,
     "metadata": {},
     "output_type": "execute_result"
    }
   ],
   "source": [
    "df_international.describe(include=object) "
   ]
  },
  {
   "cell_type": "markdown",
   "metadata": {},
   "source": [
    "The above two tables give an idea of the totals, unique values, and other details of the dataset."
   ]
  },
  {
   "cell_type": "markdown",
   "metadata": {},
   "source": [
    "#### TimeFrame"
   ]
  },
  {
   "cell_type": "code",
   "execution_count": 21,
   "metadata": {
    "scrolled": true
   },
   "outputs": [
    {
     "name": "stdout",
     "output_type": "stream",
     "text": [
      "Data set begins at year: 1872-11-30\n",
      "Data set ends at year: 2022-02-06\n"
     ]
    }
   ],
   "source": [
    "print('Data set begins at year: ' + str(df_international['date'].min()))\n",
    "print('Data set ends at year: ' + str(df_international['date'].max()))"
   ]
  },
  {
   "cell_type": "markdown",
   "metadata": {},
   "source": [
    "This data set spans from November 30, 1872 to February 2, 2022, a span of 150 years."
   ]
  },
  {
   "cell_type": "markdown",
   "metadata": {},
   "source": [
    "#### Missing Data"
   ]
  },
  {
   "cell_type": "markdown",
   "metadata": {},
   "source": [
    "Looking at the info output, it can be confirmed that each column has 43188 data points and confirms that there is no missing data."
   ]
  },
  {
   "cell_type": "code",
   "execution_count": 22,
   "metadata": {},
   "outputs": [
    {
     "name": "stdout",
     "output_type": "stream",
     "text": [
      "date          0\n",
      "home_team     0\n",
      "away_team     0\n",
      "home_score    0\n",
      "away_score    0\n",
      "tournament    0\n",
      "city          0\n",
      "country       0\n",
      "neutral       0\n",
      "dtype: int64\n"
     ]
    }
   ],
   "source": [
    "print(df_international.isnull().sum())"
   ]
  },
  {
   "cell_type": "markdown",
   "metadata": {
    "tags": []
   },
   "source": [
    "### Part 3 - Data Description\n",
    "\n",
    "- Create a data description (data dictionary) for your data sets.\n",
    "    - Describe each variable (4,5,6 word explanation)\n",
    "    - If categorical, what levels are present? If the levels are encoded, what do the codes mean? (ex: 0 = male, 1 = female)\n",
    "    - If numeric, provide min, max, median and any other univariate stats you'd like to add in. \n",
    "- Where appropriate, provide histograms or other visualizations to characterize each variable. "
   ]
  },
  {
   "cell_type": "markdown",
   "metadata": {},
   "source": [
    "### Football Data Set Dictionary"
   ]
  },
  {
   "cell_type": "markdown",
   "metadata": {},
   "source": [
    "#### Home Team\n",
    "-name of the home team in the match<br>\n",
    "-nominal categorical variable, no encoding"
   ]
  },
  {
   "cell_type": "markdown",
   "metadata": {},
   "source": [
    "#### Away Team\n",
    "-name of the away team in the match<br>\n",
    "-nominal categorical variable, no encoding"
   ]
  },
  {
   "cell_type": "markdown",
   "metadata": {},
   "source": [
    "#### Score\n",
    "-score of the match<br>\n",
    "-nominal categorical variable, no encoding"
   ]
  },
  {
   "cell_type": "markdown",
   "metadata": {},
   "source": [
    "#### Half Time Score\n",
    "-half time score of the match<br>\n",
    "-nominal categorical variable, no encoding"
   ]
  },
  {
   "cell_type": "markdown",
   "metadata": {},
   "source": [
    "#### Match Excitement\n",
    "-a score of how exciting the match was on 0 to 10 scale"
   ]
  },
  {
   "cell_type": "code",
   "execution_count": 23,
   "metadata": {
    "scrolled": false
   },
   "outputs": [
    {
     "name": "stdout",
     "output_type": "stream",
     "text": [
      "Min: 1.4\n",
      "Max: 10.0\n",
      "Median: 5.3\n"
     ]
    }
   ],
   "source": [
    "print(\"Min:\",df['Match Excitement'].min())\n",
    "print(\"Max:\",df['Match Excitement'].max())\n",
    "print(\"Median:\",df['Match Excitement'].median())"
   ]
  },
  {
   "cell_type": "markdown",
   "metadata": {},
   "source": [
    "#### Home Team Rating\n",
    "-a score of how well the home team performed on 0 to 10 scale"
   ]
  },
  {
   "cell_type": "code",
   "execution_count": 24,
   "metadata": {
    "scrolled": true
   },
   "outputs": [
    {
     "name": "stdout",
     "output_type": "stream",
     "text": [
      "Min: 2.1\n",
      "Max: 10.0\n",
      "Median: 6.4\n"
     ]
    }
   ],
   "source": [
    "print(\"Min:\",df['Home Team Rating'].min())\n",
    "print(\"Max:\",df['Home Team Rating'].max())\n",
    "print(\"Median:\",df['Home Team Rating'].median())"
   ]
  },
  {
   "cell_type": "markdown",
   "metadata": {},
   "source": [
    "#### Away Team Rating \n",
    "-a score of well the away team performed on a 0 to 10 scale"
   ]
  },
  {
   "cell_type": "code",
   "execution_count": 25,
   "metadata": {
    "scrolled": true
   },
   "outputs": [
    {
     "name": "stdout",
     "output_type": "stream",
     "text": [
      "Min: 1.3\n",
      "Max: 10.0\n",
      "Median: 6.1\n"
     ]
    }
   ],
   "source": [
    "print(\"Min:\",df['Away Team Rating'].min())\n",
    "print(\"Max:\",df['Away Team Rating'].max())\n",
    "print(\"Median:\",df['Away Team Rating'].median())"
   ]
  },
  {
   "cell_type": "markdown",
   "metadata": {},
   "source": [
    "#### Home Team Possession %\n",
    "-% of how much home team had the ball"
   ]
  },
  {
   "cell_type": "code",
   "execution_count": 26,
   "metadata": {
    "scrolled": false
   },
   "outputs": [
    {
     "name": "stdout",
     "output_type": "stream",
     "text": [
      "Min: 17\n",
      "Max: 84\n",
      "Median: 51.0\n"
     ]
    }
   ],
   "source": [
    "print(\"Min:\",df['Home Team Possession %'].min())\n",
    "print(\"Max:\",df['Home Team Possession %'].max())\n",
    "print(\"Median:\",df['Home Team Possession %'].median())"
   ]
  },
  {
   "cell_type": "markdown",
   "metadata": {},
   "source": [
    "#### Away Team Possession %\n",
    "-% of how much away team had the ball"
   ]
  },
  {
   "cell_type": "code",
   "execution_count": 27,
   "metadata": {
    "scrolled": true
   },
   "outputs": [
    {
     "name": "stdout",
     "output_type": "stream",
     "text": [
      "Min: 16\n",
      "Max: 83\n",
      "Median: 49.0\n"
     ]
    }
   ],
   "source": [
    "print(\"Min:\",df['Away Team Possession %'].min())\n",
    "print(\"Max:\",df['Away Team Possession %'].max())\n",
    "print(\"Median:\",df['Away Team Possession %'].median())"
   ]
  },
  {
   "cell_type": "markdown",
   "metadata": {},
   "source": [
    "#### Home Team Off Target Shots\n",
    "-how many shots were off target by home team"
   ]
  },
  {
   "cell_type": "code",
   "execution_count": 28,
   "metadata": {
    "scrolled": true
   },
   "outputs": [
    {
     "name": "stdout",
     "output_type": "stream",
     "text": [
      "Min: 0.0\n",
      "Max: 20.0\n",
      "Median: 5.0\n"
     ]
    }
   ],
   "source": [
    "print(\"Min:\",df['Home Team Off Target Shots'].min())\n",
    "print(\"Max:\",df['Home Team Off Target Shots'].max())\n",
    "print(\"Median:\",df['Home Team Off Target Shots'].median())"
   ]
  },
  {
   "cell_type": "markdown",
   "metadata": {},
   "source": [
    "#### Home Team On Target Shots\n",
    "-how many shots were on target by home team"
   ]
  },
  {
   "cell_type": "code",
   "execution_count": 29,
   "metadata": {
    "scrolled": true
   },
   "outputs": [
    {
     "name": "stdout",
     "output_type": "stream",
     "text": [
      "Min: 0.0\n",
      "Max: 18.0\n",
      "Median: 4.0\n"
     ]
    }
   ],
   "source": [
    "print(\"Min:\",df['Home Team On Target Shots'].min())\n",
    "print(\"Max:\",df['Home Team On Target Shots'].max())\n",
    "print(\"Median:\",df['Home Team On Target Shots'].median())"
   ]
  },
  {
   "cell_type": "markdown",
   "metadata": {},
   "source": [
    "#### Home Team Total Shots\n",
    "-total number of shots by home team"
   ]
  },
  {
   "cell_type": "code",
   "execution_count": 30,
   "metadata": {
    "scrolled": true
   },
   "outputs": [
    {
     "name": "stdout",
     "output_type": "stream",
     "text": [
      "Min: 0.0\n",
      "Max: 47.0\n",
      "Median: 13.0\n"
     ]
    }
   ],
   "source": [
    "print(\"Min:\",df['Home Team Total Shots'].min())\n",
    "print(\"Max:\",df['Home Team Total Shots'].max())\n",
    "print(\"Median:\",df['Home Team Total Shots'].median())"
   ]
  },
  {
   "cell_type": "markdown",
   "metadata": {},
   "source": [
    "#### Away Team Off Target Shots\n",
    "-how many shots were off target by away team"
   ]
  },
  {
   "cell_type": "code",
   "execution_count": 31,
   "metadata": {
    "scrolled": false
   },
   "outputs": [
    {
     "name": "stdout",
     "output_type": "stream",
     "text": [
      "Min: 0.0\n",
      "Max: 17.0\n",
      "Median: 4.0\n"
     ]
    }
   ],
   "source": [
    "print(\"Min:\",df['Away Team Off Target Shots'].min())\n",
    "print(\"Max:\",df['Away Team Off Target Shots'].max())\n",
    "print(\"Median:\",df['Away Team Off Target Shots'].median())"
   ]
  },
  {
   "cell_type": "markdown",
   "metadata": {},
   "source": [
    "#### Away Team On Target Shots\n",
    "-how many shots were on target by away team"
   ]
  },
  {
   "cell_type": "code",
   "execution_count": 32,
   "metadata": {
    "scrolled": false
   },
   "outputs": [
    {
     "name": "stdout",
     "output_type": "stream",
     "text": [
      "Min: 0.0\n",
      "Max: 15.0\n",
      "Median: 4.0\n"
     ]
    }
   ],
   "source": [
    "print(\"Min:\",df['Away Team On Target Shots'].min())\n",
    "print(\"Max:\",df['Away Team On Target Shots'].max())\n",
    "print(\"Median:\",df['Away Team On Target Shots'].median())"
   ]
  },
  {
   "cell_type": "markdown",
   "metadata": {},
   "source": [
    "#### Away Team Total Shots\n",
    "-total number of shots by away team"
   ]
  },
  {
   "cell_type": "code",
   "execution_count": 33,
   "metadata": {
    "scrolled": true
   },
   "outputs": [
    {
     "name": "stdout",
     "output_type": "stream",
     "text": [
      "Min: 0.0\n",
      "Max: 39.0\n",
      "Median: 11.0\n"
     ]
    }
   ],
   "source": [
    "print(\"Min:\",df['Away Team Total Shots'].min())\n",
    "print(\"Max:\",df['Away Team Total Shots'].max())\n",
    "print(\"Median:\",df['Away Team Total Shots'].median())"
   ]
  },
  {
   "cell_type": "markdown",
   "metadata": {},
   "source": [
    "#### Home Team Goals Scored\n",
    "-goals scored by home team"
   ]
  },
  {
   "cell_type": "code",
   "execution_count": 34,
   "metadata": {
    "scrolled": false
   },
   "outputs": [
    {
     "name": "stdout",
     "output_type": "stream",
     "text": [
      "Min: 0\n",
      "Max: 10\n",
      "Median: 1.0\n"
     ]
    }
   ],
   "source": [
    "print(\"Min:\",df['Home Team Goals Scored'].min())\n",
    "print(\"Max:\",df['Home Team Goals Scored'].max())\n",
    "print(\"Median:\",df['Home Team Goals Scored'].median())"
   ]
  },
  {
   "cell_type": "markdown",
   "metadata": {},
   "source": [
    "#### Away Team Goals Scored\n",
    "-goals scored by away team"
   ]
  },
  {
   "cell_type": "code",
   "execution_count": 35,
   "metadata": {
    "scrolled": true
   },
   "outputs": [
    {
     "name": "stdout",
     "output_type": "stream",
     "text": [
      "Min: 0\n",
      "Max: 9\n",
      "Median: 1.0\n"
     ]
    }
   ],
   "source": [
    "print(\"Min:\",df['Away Team Goals Scored'].min())\n",
    "print(\"Max:\",df['Away Team Goals Scored'].max())\n",
    "print(\"Median:\",df['Away Team Goals Scored'].median())"
   ]
  },
  {
   "cell_type": "markdown",
   "metadata": {},
   "source": [
    "#### Home Team Goals Conceeded\n",
    "-goals conceeded by home team"
   ]
  },
  {
   "cell_type": "code",
   "execution_count": 36,
   "metadata": {
    "scrolled": true
   },
   "outputs": [
    {
     "name": "stdout",
     "output_type": "stream",
     "text": [
      "Min: 0\n",
      "Max: 9\n",
      "Median: 1.0\n"
     ]
    }
   ],
   "source": [
    "print(\"Min:\",df['Home Team Goals Conceeded'].min())\n",
    "print(\"Max:\",df['Home Team Goals Conceeded'].max())\n",
    "print(\"Median:\",df['Home Team Goals Conceeded'].median())"
   ]
  },
  {
   "cell_type": "markdown",
   "metadata": {},
   "source": [
    "#### Year\n",
    "-year of match"
   ]
  },
  {
   "cell_type": "code",
   "execution_count": 37,
   "metadata": {
    "scrolled": true
   },
   "outputs": [
    {
     "name": "stdout",
     "output_type": "stream",
     "text": [
      "Min: 2014\n",
      "Max: 2020\n",
      "Median: 2017.0\n"
     ]
    }
   ],
   "source": [
    "print(\"Min:\",df['year'].min())\n",
    "print(\"Max:\",df['year'].max())\n",
    "print(\"Median:\",df['year'].median())"
   ]
  },
  {
   "cell_type": "markdown",
   "metadata": {},
   "source": [
    "#### League\n",
    "-name of the league match takes place in<br>\n",
    "-nominal categorical variable, no encoding"
   ]
  },
  {
   "cell_type": "markdown",
   "metadata": {},
   "source": [
    "### Player Data Set Dictionary"
   ]
  },
  {
   "cell_type": "markdown",
   "metadata": {},
   "source": [
    "#### ID\n",
    "-player ID"
   ]
  },
  {
   "cell_type": "code",
   "execution_count": 38,
   "metadata": {
    "scrolled": true
   },
   "outputs": [
    {
     "name": "stdout",
     "output_type": "stream",
     "text": [
      "Min: 16\n",
      "Max: 246620\n",
      "Median: 221759.0\n"
     ]
    }
   ],
   "source": [
    "print(\"Min:\",df_player['ID'].min())\n",
    "print(\"Max:\",df_player['ID'].max())\n",
    "print(\"Median:\",df_player['ID'].median())"
   ]
  },
  {
   "cell_type": "markdown",
   "metadata": {},
   "source": [
    "#### Name\n",
    "-name of the player<br>\n",
    "-nominal categorical variable, no encoding"
   ]
  },
  {
   "cell_type": "markdown",
   "metadata": {},
   "source": [
    "#### Age\n",
    "-age of player"
   ]
  },
  {
   "cell_type": "code",
   "execution_count": 39,
   "metadata": {
    "scrolled": false
   },
   "outputs": [
    {
     "name": "stdout",
     "output_type": "stream",
     "text": [
      "Min: 16\n",
      "Max: 45\n",
      "Median: 25.0\n"
     ]
    }
   ],
   "source": [
    "print(\"Min:\",df_player['Age'].min())\n",
    "print(\"Max:\",df_player['Age'].max())\n",
    "print(\"Median:\",df_player['Age'].median())"
   ]
  },
  {
   "cell_type": "markdown",
   "metadata": {},
   "source": [
    "#### Nationality\n",
    "-nationality of the player<br>\n",
    "-nominal categorical variable, no encoding"
   ]
  },
  {
   "cell_type": "markdown",
   "metadata": {},
   "source": [
    "#### Overall\n",
    "-skill rating of the player"
   ]
  },
  {
   "cell_type": "code",
   "execution_count": 40,
   "metadata": {
    "scrolled": true
   },
   "outputs": [
    {
     "name": "stdout",
     "output_type": "stream",
     "text": [
      "Min: 46\n",
      "Max: 94\n",
      "Median: 66.0\n"
     ]
    }
   ],
   "source": [
    "print(\"Min:\",df_player['Overall'].min())\n",
    "print(\"Max:\",df_player['Overall'].max())\n",
    "print(\"Median:\",df_player['Overall'].median())"
   ]
  },
  {
   "cell_type": "markdown",
   "metadata": {},
   "source": [
    "#### Potential\n",
    "-potential rating of the player"
   ]
  },
  {
   "cell_type": "code",
   "execution_count": 41,
   "metadata": {
    "scrolled": false
   },
   "outputs": [
    {
     "name": "stdout",
     "output_type": "stream",
     "text": [
      "Min: 48\n",
      "Max: 95\n",
      "Median: 71.0\n"
     ]
    }
   ],
   "source": [
    "print(\"Min:\",df_player['Potential'].min())\n",
    "print(\"Max:\",df_player['Potential'].max())\n",
    "print(\"Median:\",df_player['Potential'].median())"
   ]
  },
  {
   "cell_type": "markdown",
   "metadata": {},
   "source": [
    "#### Club\n",
    "-the club the player is on<br>\n",
    "-nominal categorical variable, no encoding"
   ]
  },
  {
   "cell_type": "markdown",
   "metadata": {},
   "source": [
    "#### Value\n",
    "-the money value of a player<br>\n",
    "-nominal categorical variable, no encoding"
   ]
  },
  {
   "cell_type": "markdown",
   "metadata": {},
   "source": [
    "#### Wage\n",
    "-salary of the player<br>\n",
    "-nominal categorical variable, no encoding"
   ]
  },
  {
   "cell_type": "markdown",
   "metadata": {},
   "source": [
    "#### Preferred Foot\n",
    "-which foot the player uses more<br>\n",
    "-nominal categorical variable, no encoding"
   ]
  },
  {
   "cell_type": "markdown",
   "metadata": {},
   "source": [
    "#### International Reputation\n",
    "-how well known the player is"
   ]
  },
  {
   "cell_type": "code",
   "execution_count": 42,
   "metadata": {
    "scrolled": false
   },
   "outputs": [
    {
     "name": "stdout",
     "output_type": "stream",
     "text": [
      "Min: 1.0\n",
      "Max: 5.0\n",
      "Median: 1.0\n"
     ]
    }
   ],
   "source": [
    "print(\"Min:\",df_player['International Reputation'].min())\n",
    "print(\"Max:\",df_player['International Reputation'].max())\n",
    "print(\"Median:\",df_player['International Reputation'].median())"
   ]
  },
  {
   "cell_type": "markdown",
   "metadata": {},
   "source": [
    "#### Weak Foot\n",
    "-skill of player's weak foot"
   ]
  },
  {
   "cell_type": "code",
   "execution_count": 43,
   "metadata": {
    "scrolled": false
   },
   "outputs": [
    {
     "name": "stdout",
     "output_type": "stream",
     "text": [
      "Min: 1.0\n",
      "Max: 5.0\n",
      "Median: 3.0\n"
     ]
    }
   ],
   "source": [
    "print(\"Min:\",df_player['Weak Foot'].min())\n",
    "print(\"Max:\",df_player['Weak Foot'].max())\n",
    "print(\"Median:\",df_player['Weak Foot'].median())"
   ]
  },
  {
   "cell_type": "markdown",
   "metadata": {},
   "source": [
    "#### Skill Moves\n",
    "-rating of a player's skill moves"
   ]
  },
  {
   "cell_type": "code",
   "execution_count": 44,
   "metadata": {
    "scrolled": true
   },
   "outputs": [
    {
     "name": "stdout",
     "output_type": "stream",
     "text": [
      "Min: 1.0\n",
      "Max: 5.0\n",
      "Median: 2.0\n"
     ]
    }
   ],
   "source": [
    "print(\"Min:\",df_player['Skill Moves'].min())\n",
    "print(\"Max:\",df_player['Skill Moves'].max())\n",
    "print(\"Median:\",df_player['Skill Moves'].median())"
   ]
  },
  {
   "cell_type": "markdown",
   "metadata": {},
   "source": [
    "#### Work Rate\n",
    "-how hard the player works<br>\n",
    "-nominal categorical variable, no encoding"
   ]
  },
  {
   "cell_type": "markdown",
   "metadata": {},
   "source": [
    "#### Body Type\n",
    "-what type of body the player has<br>\n",
    "-nominal categorical variable, no encoding"
   ]
  },
  {
   "cell_type": "markdown",
   "metadata": {},
   "source": [
    "#### Real Face\n",
    "-if the player's face scan is contained in the fifa database<br>\n",
    "-nominal categorical variable, dichotomous variable, no encoding, yes or no"
   ]
  },
  {
   "cell_type": "markdown",
   "metadata": {},
   "source": [
    "#### Jersey Number\n",
    "-jersey number of player"
   ]
  },
  {
   "cell_type": "code",
   "execution_count": 45,
   "metadata": {
    "scrolled": true
   },
   "outputs": [
    {
     "name": "stdout",
     "output_type": "stream",
     "text": [
      "Min: 1.0\n",
      "Max: 99.0\n",
      "Median: 17.0\n"
     ]
    }
   ],
   "source": [
    "print(\"Min:\",df_player['Jersey Number'].min())\n",
    "print(\"Max:\",df_player['Jersey Number'].max())\n",
    "print(\"Median:\",df_player['Jersey Number'].median())"
   ]
  },
  {
   "cell_type": "markdown",
   "metadata": {},
   "source": [
    "#### Joined\n",
    "-when the player joined his club<br>\n",
    "-nominal categorical variable, no encoding"
   ]
  },
  {
   "cell_type": "markdown",
   "metadata": {},
   "source": [
    "### International Data Set Dictionary"
   ]
  },
  {
   "cell_type": "code",
   "execution_count": 46,
   "metadata": {
    "scrolled": true
   },
   "outputs": [
    {
     "name": "stdout",
     "output_type": "stream",
     "text": [
      "<class 'pandas.core.frame.DataFrame'>\n",
      "RangeIndex: 43188 entries, 0 to 43187\n",
      "Data columns (total 9 columns):\n",
      " #   Column      Non-Null Count  Dtype \n",
      "---  ------      --------------  ----- \n",
      " 0   date        43188 non-null  object\n",
      " 1   home_team   43188 non-null  object\n",
      " 2   away_team   43188 non-null  object\n",
      " 3   home_score  43188 non-null  int64 \n",
      " 4   away_score  43188 non-null  int64 \n",
      " 5   tournament  43188 non-null  object\n",
      " 6   city        43188 non-null  object\n",
      " 7   country     43188 non-null  object\n",
      " 8   neutral     43188 non-null  bool  \n",
      "dtypes: bool(1), int64(2), object(6)\n",
      "memory usage: 2.7+ MB\n"
     ]
    }
   ],
   "source": [
    "df_international.info()"
   ]
  },
  {
   "cell_type": "markdown",
   "metadata": {},
   "source": [
    "#### date\n",
    "-when the game took place<br>\n",
    "-nominal categorical variable, no encoding"
   ]
  },
  {
   "cell_type": "markdown",
   "metadata": {},
   "source": [
    "#### home_team\n",
    "-name of country playing labeled as home team<br>\n",
    "-nominal categorical variable, no encoding"
   ]
  },
  {
   "cell_type": "markdown",
   "metadata": {},
   "source": [
    "#### away_team\n",
    "-name of country playing labeled as away team<br>\n",
    "-nominal categorical variable, no encoding"
   ]
  },
  {
   "cell_type": "markdown",
   "metadata": {},
   "source": [
    "#### home_score\n",
    "-score of the home team"
   ]
  },
  {
   "cell_type": "code",
   "execution_count": 47,
   "metadata": {
    "scrolled": false
   },
   "outputs": [
    {
     "name": "stdout",
     "output_type": "stream",
     "text": [
      "Min: 0\n",
      "Max: 31\n",
      "Median: 1.0\n"
     ]
    }
   ],
   "source": [
    "print(\"Min:\",df_international['home_score'].min())\n",
    "print(\"Max:\",df_international['home_score'].max())\n",
    "print(\"Median:\",df_international['home_score'].median())"
   ]
  },
  {
   "cell_type": "markdown",
   "metadata": {},
   "source": [
    "#### away_score\n",
    "-score of the away team"
   ]
  },
  {
   "cell_type": "code",
   "execution_count": 48,
   "metadata": {
    "scrolled": false
   },
   "outputs": [
    {
     "name": "stdout",
     "output_type": "stream",
     "text": [
      "Min: 0\n",
      "Max: 21\n",
      "Median: 1.0\n"
     ]
    }
   ],
   "source": [
    "print(\"Min:\",df_international['away_score'].min())\n",
    "print(\"Max:\",df_international['away_score'].max())\n",
    "print(\"Median:\",df_international['away_score'].median())"
   ]
  },
  {
   "cell_type": "markdown",
   "metadata": {},
   "source": [
    "#### tournament\n",
    "-what tournament was being played<br>\n",
    "-nominal categorical variable, no encoding"
   ]
  },
  {
   "cell_type": "markdown",
   "metadata": {},
   "source": [
    "#### city\n",
    "-what city tournmanet was in<br>\n",
    "-nominal categorical variable, no encoding"
   ]
  },
  {
   "cell_type": "markdown",
   "metadata": {},
   "source": [
    "#### country\n",
    "-what country tournmanet was in<br>\n",
    "-nominal categorical variable, no encoding"
   ]
  },
  {
   "cell_type": "markdown",
   "metadata": {},
   "source": [
    "#### neutral\n",
    "-if match was a neutral site or not<br>\n",
    "-nominal categorical variable, no encoding, true or false"
   ]
  },
  {
   "cell_type": "markdown",
   "metadata": {},
   "source": [
    "* No encoding was present in the datasets. Any one hot encoding necessary will be done when merging the data (see merge#2). Upon merging a dichotomous \"victor\" variable will be created."
   ]
  },
  {
   "cell_type": "markdown",
   "metadata": {},
   "source": [
    "### Part 4 - Merge the data\n",
    "\n",
    "Now that you have a better feel for each of your two (or three, for the 7394 students) data sets, it is time to merge them. Describe your strategy for merging the data sets and then actually perform the merge.  \n",
    "\n",
    "Develop a strategy for verifying that the data is properly merged (hoping and finger-crossing are not valid strategies). "
   ]
  },
  {
   "cell_type": "markdown",
   "metadata": {},
   "source": [
    "<b>Strategy for Merging Dataset #1:</b><br>\n",
    "The complete playerbase dataset has all the top players, their rating, their salary, and the club they play for. Using the playerbase dataset, each club's average player rating and average salary cap will be calculated. Using the calculated values from the player database, the club's respective ratinbg values will be merged into the dataframe \"on\" the \"Home Team\" feature creating home rating/salary features. The merge then  will be performed again on the \"Away Team\" creating the away rating/salary features. Since the club names are different between datasets, we will manually need to create a dictionary to translate between the two club name styles."
   ]
  },
  {
   "cell_type": "code",
   "execution_count": 49,
   "metadata": {},
   "outputs": [
    {
     "data": {
      "text/html": [
       "<div>\n",
       "<style scoped>\n",
       "    .dataframe tbody tr th:only-of-type {\n",
       "        vertical-align: middle;\n",
       "    }\n",
       "\n",
       "    .dataframe tbody tr th {\n",
       "        vertical-align: top;\n",
       "    }\n",
       "\n",
       "    .dataframe thead th {\n",
       "        text-align: right;\n",
       "    }\n",
       "</style>\n",
       "<table border=\"1\" class=\"dataframe\">\n",
       "  <thead>\n",
       "    <tr style=\"text-align: right;\">\n",
       "      <th></th>\n",
       "      <th>Home Team</th>\n",
       "      <th>Away Team</th>\n",
       "      <th>Score</th>\n",
       "      <th>Half Time Score</th>\n",
       "      <th>Match Excitement</th>\n",
       "      <th>Home Team Rating</th>\n",
       "      <th>Away Team Rating</th>\n",
       "      <th>Home Team Possession %</th>\n",
       "      <th>Away Team Possession %</th>\n",
       "      <th>Home Team Off Target Shots</th>\n",
       "      <th>...</th>\n",
       "      <th>Away Team Fouls</th>\n",
       "      <th>Away Team Yellow Cards</th>\n",
       "      <th>Away Team Second Yellow Cards</th>\n",
       "      <th>Away Team Red Cards</th>\n",
       "      <th>Home Team Goals Scored</th>\n",
       "      <th>Away Team Goals Scored</th>\n",
       "      <th>Home Team Goals Conceeded</th>\n",
       "      <th>Away Team Goals Conceeded</th>\n",
       "      <th>year</th>\n",
       "      <th>league</th>\n",
       "    </tr>\n",
       "  </thead>\n",
       "  <tbody>\n",
       "    <tr>\n",
       "      <th>11302</th>\n",
       "      <td>ATHLETIC</td>\n",
       "      <td>BARCELONA</td>\n",
       "      <td>1-0</td>\n",
       "      <td>0-0</td>\n",
       "      <td>4.7</td>\n",
       "      <td>7.0</td>\n",
       "      <td>5.7</td>\n",
       "      <td>28</td>\n",
       "      <td>72</td>\n",
       "      <td>6.0</td>\n",
       "      <td>...</td>\n",
       "      <td>9.0</td>\n",
       "      <td>1.0</td>\n",
       "      <td>0.0</td>\n",
       "      <td>0.0</td>\n",
       "      <td>1</td>\n",
       "      <td>0</td>\n",
       "      <td>0</td>\n",
       "      <td>1</td>\n",
       "      <td>2019</td>\n",
       "      <td>spanish</td>\n",
       "    </tr>\n",
       "    <tr>\n",
       "      <th>11303</th>\n",
       "      <td>CELTA</td>\n",
       "      <td>REAL MADRID</td>\n",
       "      <td>1-3</td>\n",
       "      <td>0-1</td>\n",
       "      <td>7.5</td>\n",
       "      <td>4.9</td>\n",
       "      <td>7.3</td>\n",
       "      <td>56</td>\n",
       "      <td>44</td>\n",
       "      <td>2.0</td>\n",
       "      <td>...</td>\n",
       "      <td>12.0</td>\n",
       "      <td>2.0</td>\n",
       "      <td>0.0</td>\n",
       "      <td>1.0</td>\n",
       "      <td>1</td>\n",
       "      <td>3</td>\n",
       "      <td>3</td>\n",
       "      <td>1</td>\n",
       "      <td>2019</td>\n",
       "      <td>spanish</td>\n",
       "    </tr>\n",
       "    <tr>\n",
       "      <th>11304</th>\n",
       "      <td>VALENCIA</td>\n",
       "      <td>REAL SOCIEDAD</td>\n",
       "      <td>1-1</td>\n",
       "      <td>0-0</td>\n",
       "      <td>5.6</td>\n",
       "      <td>5.6</td>\n",
       "      <td>6.0</td>\n",
       "      <td>37</td>\n",
       "      <td>63</td>\n",
       "      <td>4.0</td>\n",
       "      <td>...</td>\n",
       "      <td>14.0</td>\n",
       "      <td>4.0</td>\n",
       "      <td>0.0</td>\n",
       "      <td>0.0</td>\n",
       "      <td>1</td>\n",
       "      <td>1</td>\n",
       "      <td>1</td>\n",
       "      <td>1</td>\n",
       "      <td>2019</td>\n",
       "      <td>spanish</td>\n",
       "    </tr>\n",
       "    <tr>\n",
       "      <th>11305</th>\n",
       "      <td>MALLORCA</td>\n",
       "      <td>EIBAR</td>\n",
       "      <td>2-1</td>\n",
       "      <td>1-0</td>\n",
       "      <td>5.8</td>\n",
       "      <td>6.2</td>\n",
       "      <td>5.4</td>\n",
       "      <td>36</td>\n",
       "      <td>64</td>\n",
       "      <td>10.0</td>\n",
       "      <td>...</td>\n",
       "      <td>14.0</td>\n",
       "      <td>3.0</td>\n",
       "      <td>0.0</td>\n",
       "      <td>0.0</td>\n",
       "      <td>2</td>\n",
       "      <td>1</td>\n",
       "      <td>1</td>\n",
       "      <td>2</td>\n",
       "      <td>2019</td>\n",
       "      <td>spanish</td>\n",
       "    </tr>\n",
       "    <tr>\n",
       "      <th>11306</th>\n",
       "      <td>LEGANÉS</td>\n",
       "      <td>OSASUNA</td>\n",
       "      <td>0-1</td>\n",
       "      <td>0-0</td>\n",
       "      <td>3.3</td>\n",
       "      <td>5.6</td>\n",
       "      <td>6.3</td>\n",
       "      <td>51</td>\n",
       "      <td>49</td>\n",
       "      <td>6.0</td>\n",
       "      <td>...</td>\n",
       "      <td>11.0</td>\n",
       "      <td>4.0</td>\n",
       "      <td>0.0</td>\n",
       "      <td>0.0</td>\n",
       "      <td>0</td>\n",
       "      <td>1</td>\n",
       "      <td>1</td>\n",
       "      <td>0</td>\n",
       "      <td>2019</td>\n",
       "      <td>spanish</td>\n",
       "    </tr>\n",
       "    <tr>\n",
       "      <th>...</th>\n",
       "      <td>...</td>\n",
       "      <td>...</td>\n",
       "      <td>...</td>\n",
       "      <td>...</td>\n",
       "      <td>...</td>\n",
       "      <td>...</td>\n",
       "      <td>...</td>\n",
       "      <td>...</td>\n",
       "      <td>...</td>\n",
       "      <td>...</td>\n",
       "      <td>...</td>\n",
       "      <td>...</td>\n",
       "      <td>...</td>\n",
       "      <td>...</td>\n",
       "      <td>...</td>\n",
       "      <td>...</td>\n",
       "      <td>...</td>\n",
       "      <td>...</td>\n",
       "      <td>...</td>\n",
       "      <td>...</td>\n",
       "      <td>...</td>\n",
       "    </tr>\n",
       "    <tr>\n",
       "      <th>11677</th>\n",
       "      <td>OSASUNA</td>\n",
       "      <td>MALLORCA</td>\n",
       "      <td>2-2</td>\n",
       "      <td>1-1</td>\n",
       "      <td>6.9</td>\n",
       "      <td>6.4</td>\n",
       "      <td>6.5</td>\n",
       "      <td>44</td>\n",
       "      <td>56</td>\n",
       "      <td>6.0</td>\n",
       "      <td>...</td>\n",
       "      <td>10.0</td>\n",
       "      <td>0.0</td>\n",
       "      <td>0.0</td>\n",
       "      <td>0.0</td>\n",
       "      <td>2</td>\n",
       "      <td>2</td>\n",
       "      <td>2</td>\n",
       "      <td>2</td>\n",
       "      <td>2019</td>\n",
       "      <td>spanish</td>\n",
       "    </tr>\n",
       "    <tr>\n",
       "      <th>11678</th>\n",
       "      <td>SEVILLA FC</td>\n",
       "      <td>VALENCIA</td>\n",
       "      <td>1-0</td>\n",
       "      <td>0-0</td>\n",
       "      <td>3.7</td>\n",
       "      <td>6.8</td>\n",
       "      <td>5.7</td>\n",
       "      <td>62</td>\n",
       "      <td>38</td>\n",
       "      <td>10.0</td>\n",
       "      <td>...</td>\n",
       "      <td>6.0</td>\n",
       "      <td>1.0</td>\n",
       "      <td>0.0</td>\n",
       "      <td>0.0</td>\n",
       "      <td>1</td>\n",
       "      <td>0</td>\n",
       "      <td>0</td>\n",
       "      <td>1</td>\n",
       "      <td>2019</td>\n",
       "      <td>spanish</td>\n",
       "    </tr>\n",
       "    <tr>\n",
       "      <th>11679</th>\n",
       "      <td>ESPANYOL</td>\n",
       "      <td>CELTA</td>\n",
       "      <td>0-0</td>\n",
       "      <td>0-0</td>\n",
       "      <td>2.0</td>\n",
       "      <td>6.0</td>\n",
       "      <td>6.7</td>\n",
       "      <td>50</td>\n",
       "      <td>50</td>\n",
       "      <td>7.0</td>\n",
       "      <td>...</td>\n",
       "      <td>11.0</td>\n",
       "      <td>3.0</td>\n",
       "      <td>0.0</td>\n",
       "      <td>0.0</td>\n",
       "      <td>0</td>\n",
       "      <td>0</td>\n",
       "      <td>0</td>\n",
       "      <td>0</td>\n",
       "      <td>2019</td>\n",
       "      <td>spanish</td>\n",
       "    </tr>\n",
       "    <tr>\n",
       "      <th>11680</th>\n",
       "      <td>GRANADA</td>\n",
       "      <td>ATHLETIC</td>\n",
       "      <td>4-0</td>\n",
       "      <td>1-0</td>\n",
       "      <td>5.5</td>\n",
       "      <td>7.7</td>\n",
       "      <td>4.6</td>\n",
       "      <td>36</td>\n",
       "      <td>64</td>\n",
       "      <td>3.0</td>\n",
       "      <td>...</td>\n",
       "      <td>11.0</td>\n",
       "      <td>2.0</td>\n",
       "      <td>0.0</td>\n",
       "      <td>0.0</td>\n",
       "      <td>4</td>\n",
       "      <td>0</td>\n",
       "      <td>0</td>\n",
       "      <td>4</td>\n",
       "      <td>2019</td>\n",
       "      <td>spanish</td>\n",
       "    </tr>\n",
       "    <tr>\n",
       "      <th>11681</th>\n",
       "      <td>LEGANÉS</td>\n",
       "      <td>REAL MADRID</td>\n",
       "      <td>2-2</td>\n",
       "      <td>1-1</td>\n",
       "      <td>7.5</td>\n",
       "      <td>6.4</td>\n",
       "      <td>6.5</td>\n",
       "      <td>35</td>\n",
       "      <td>65</td>\n",
       "      <td>4.0</td>\n",
       "      <td>...</td>\n",
       "      <td>11.0</td>\n",
       "      <td>1.0</td>\n",
       "      <td>0.0</td>\n",
       "      <td>0.0</td>\n",
       "      <td>2</td>\n",
       "      <td>2</td>\n",
       "      <td>2</td>\n",
       "      <td>2</td>\n",
       "      <td>2019</td>\n",
       "      <td>spanish</td>\n",
       "    </tr>\n",
       "  </tbody>\n",
       "</table>\n",
       "<p>380 rows × 41 columns</p>\n",
       "</div>"
      ],
      "text/plain": [
       "        Home Team      Away Team Score Half Time Score  Match Excitement  \\\n",
       "11302    ATHLETIC      BARCELONA   1-0             0-0               4.7   \n",
       "11303       CELTA    REAL MADRID   1-3             0-1               7.5   \n",
       "11304    VALENCIA  REAL SOCIEDAD   1-1             0-0               5.6   \n",
       "11305    MALLORCA          EIBAR   2-1             1-0               5.8   \n",
       "11306     LEGANÉS        OSASUNA   0-1             0-0               3.3   \n",
       "...           ...            ...   ...             ...               ...   \n",
       "11677     OSASUNA       MALLORCA   2-2             1-1               6.9   \n",
       "11678  SEVILLA FC       VALENCIA   1-0             0-0               3.7   \n",
       "11679    ESPANYOL          CELTA   0-0             0-0               2.0   \n",
       "11680     GRANADA       ATHLETIC   4-0             1-0               5.5   \n",
       "11681     LEGANÉS    REAL MADRID   2-2             1-1               7.5   \n",
       "\n",
       "       Home Team Rating  Away Team Rating  Home Team Possession %  \\\n",
       "11302               7.0               5.7                      28   \n",
       "11303               4.9               7.3                      56   \n",
       "11304               5.6               6.0                      37   \n",
       "11305               6.2               5.4                      36   \n",
       "11306               5.6               6.3                      51   \n",
       "...                 ...               ...                     ...   \n",
       "11677               6.4               6.5                      44   \n",
       "11678               6.8               5.7                      62   \n",
       "11679               6.0               6.7                      50   \n",
       "11680               7.7               4.6                      36   \n",
       "11681               6.4               6.5                      35   \n",
       "\n",
       "       Away Team Possession %  Home Team Off Target Shots  ...  \\\n",
       "11302                      72                         6.0  ...   \n",
       "11303                      44                         2.0  ...   \n",
       "11304                      63                         4.0  ...   \n",
       "11305                      64                        10.0  ...   \n",
       "11306                      49                         6.0  ...   \n",
       "...                       ...                         ...  ...   \n",
       "11677                      56                         6.0  ...   \n",
       "11678                      38                        10.0  ...   \n",
       "11679                      50                         7.0  ...   \n",
       "11680                      64                         3.0  ...   \n",
       "11681                      65                         4.0  ...   \n",
       "\n",
       "       Away Team Fouls  Away Team Yellow Cards  Away Team Second Yellow Cards  \\\n",
       "11302              9.0                     1.0                            0.0   \n",
       "11303             12.0                     2.0                            0.0   \n",
       "11304             14.0                     4.0                            0.0   \n",
       "11305             14.0                     3.0                            0.0   \n",
       "11306             11.0                     4.0                            0.0   \n",
       "...                ...                     ...                            ...   \n",
       "11677             10.0                     0.0                            0.0   \n",
       "11678              6.0                     1.0                            0.0   \n",
       "11679             11.0                     3.0                            0.0   \n",
       "11680             11.0                     2.0                            0.0   \n",
       "11681             11.0                     1.0                            0.0   \n",
       "\n",
       "       Away Team Red Cards  Home Team Goals Scored  Away Team Goals Scored  \\\n",
       "11302                  0.0                       1                       0   \n",
       "11303                  1.0                       1                       3   \n",
       "11304                  0.0                       1                       1   \n",
       "11305                  0.0                       2                       1   \n",
       "11306                  0.0                       0                       1   \n",
       "...                    ...                     ...                     ...   \n",
       "11677                  0.0                       2                       2   \n",
       "11678                  0.0                       1                       0   \n",
       "11679                  0.0                       0                       0   \n",
       "11680                  0.0                       4                       0   \n",
       "11681                  0.0                       2                       2   \n",
       "\n",
       "       Home Team Goals Conceeded  Away Team Goals Conceeded  year   league  \n",
       "11302                          0                          1  2019  spanish  \n",
       "11303                          3                          1  2019  spanish  \n",
       "11304                          1                          1  2019  spanish  \n",
       "11305                          1                          2  2019  spanish  \n",
       "11306                          1                          0  2019  spanish  \n",
       "...                          ...                        ...   ...      ...  \n",
       "11677                          2                          2  2019  spanish  \n",
       "11678                          0                          1  2019  spanish  \n",
       "11679                          0                          0  2019  spanish  \n",
       "11680                          0                          4  2019  spanish  \n",
       "11681                          2                          2  2019  spanish  \n",
       "\n",
       "[380 rows x 41 columns]"
      ]
     },
     "execution_count": 49,
     "metadata": {},
     "output_type": "execute_result"
    }
   ],
   "source": [
    "df_temp = df[df[\"year\"] == 2019]\n",
    "df_matches = df_temp[df_temp[\"league\"] == 'spanish']\n",
    "df_matches = df_matches.drop(columns='Unnamed: 0').copy()\n",
    "df_matches #currently contains all the matches from 2019-2021 spanish league"
   ]
  },
  {
   "cell_type": "markdown",
   "metadata": {},
   "source": [
    "<b>Method to Validate the Merged Dataset#1</b>: <br>\n",
    "Seperately calculate the average salary and player rating for the team 'FC Barcelona.' Verify the merged dataframe values for FC Barcelona equals the control value calculated here. Also we will utilize counts to make sure the number of rows and number of features are accurate."
   ]
  },
  {
   "cell_type": "code",
   "execution_count": 50,
   "metadata": {},
   "outputs": [
    {
     "name": "stdout",
     "output_type": "stream",
     "text": [
      "expected average rating: 86.71428571428571\n",
      "expected average salary: 50.107142857142854\n"
     ]
    }
   ],
   "source": [
    "df_Barcelona = df_player[df_player[\"Club\"] == 'FC Barcelona']\n",
    "df_Barcelona = df_Barcelona.head(14)\n",
    "# calculate the average rating of starting 11 + subs\n",
    "avgRating = df_Barcelona['Overall'].sum() / 14.0\n",
    "print('expected average rating: ' + str(avgRating))\n",
    "# calculate the average team salary\n",
    "salaryList = df_Barcelona['Value'] # get list of salaries\n",
    "doubleList = [float(x[1:-1]) for x in salaryList] #convert salary to a double\n",
    "avgSalary = sum(doubleList) / len(doubleList)\n",
    "print('expected average salary: ' + str(avgSalary))"
   ]
  },
  {
   "cell_type": "markdown",
   "metadata": {},
   "source": [
    "<b>Calculate Average Rating and Salary</b>: <br>\n",
    "Creating a lookup datastructure will help us to resolve the difference in 'club names' between the two datasets. The club information function will return the average salary and average player rating of the top 14 players of each club. The top 14 players were selected because that is how many are allowed total in an offical football match (starting 11 players + 3 subsitutions)."
   ]
  },
  {
   "cell_type": "code",
   "execution_count": 51,
   "metadata": {},
   "outputs": [],
   "source": [
    "lookup = {'ATHLETIC':'Athletic Club de Bilbao', 'CELTA':'RC Celta', 'VALENCIA':'Valencia CF', 'MALLORCA':'RCD Mallorca', 'LEGANÉS':'CD Leganés',\n",
    "       'VILLARREAL':'Villarreal CF', 'ALAVÉS':'Deportivo Alavés', 'ESPANYOL':'RCD Espanyol', 'REAL BETIS':'Real Betis',\n",
    "       'ATLETICO MADRID':'Atlético Madrid', 'GRANADA':'Granada CF', 'LEVANTE':'Levante UD', 'OSASUNA':'CA Osasuna', 'REAL MADRID':'Real Madrid',\n",
    "       'GETAFE':'Getafe CF', 'BARCELONA':'FC Barcelona', 'SEVILLA FC':'Sevilla FC', 'REAL SOCIEDAD':'Real Sociedad', 'EIBAR':'SD Eibar',\n",
    "       'VALLADOLID':'Real Valladolid CF'}\n",
    "\n",
    "# get information on a professional football club that has a translation in the lookup dictionary \n",
    "def getClubInformation(target):\n",
    "    df_target = df_player[df_player[\"Club\"] == lookup[target]]\n",
    "    df_target = df_target.head(14)\n",
    "    # calculate the average rating of starting 11 + subs\n",
    "    avgRating = df_target['Overall'].sum() / 14.0\n",
    "    # calculate the average team salary\n",
    "    salaryList = df_target['Value'] # get list of salaries\n",
    "    doubleList = [float(x[1:-1]) if x[-1] != 'K' else float(x[1:-1]) / 100 for x in salaryList] #convert salary to a double\n",
    "    avgSalary = sum(doubleList) / len(doubleList)\n",
    "    return avgRating, avgSalary    "
   ]
  },
  {
   "cell_type": "markdown",
   "metadata": {},
   "source": [
    "<b>Prepare Club Information for Merging </b>: <br>"
   ]
  },
  {
   "cell_type": "code",
   "execution_count": 52,
   "metadata": {},
   "outputs": [
    {
     "data": {
      "text/html": [
       "<div>\n",
       "<style scoped>\n",
       "    .dataframe tbody tr th:only-of-type {\n",
       "        vertical-align: middle;\n",
       "    }\n",
       "\n",
       "    .dataframe tbody tr th {\n",
       "        vertical-align: top;\n",
       "    }\n",
       "\n",
       "    .dataframe thead th {\n",
       "        text-align: right;\n",
       "    }\n",
       "</style>\n",
       "<table border=\"1\" class=\"dataframe\">\n",
       "  <thead>\n",
       "    <tr style=\"text-align: right;\">\n",
       "      <th></th>\n",
       "      <th>Team</th>\n",
       "      <th>Team Rating</th>\n",
       "      <th>Team Salary (millions)</th>\n",
       "    </tr>\n",
       "  </thead>\n",
       "  <tbody>\n",
       "    <tr>\n",
       "      <th>0</th>\n",
       "      <td>ATHLETIC</td>\n",
       "      <td>79.214286</td>\n",
       "      <td>12.678571</td>\n",
       "    </tr>\n",
       "    <tr>\n",
       "      <th>1</th>\n",
       "      <td>CELTA</td>\n",
       "      <td>77.571429</td>\n",
       "      <td>11.850000</td>\n",
       "    </tr>\n",
       "    <tr>\n",
       "      <th>2</th>\n",
       "      <td>VALENCIA</td>\n",
       "      <td>81.428571</td>\n",
       "      <td>21.750000</td>\n",
       "    </tr>\n",
       "    <tr>\n",
       "      <th>3</th>\n",
       "      <td>MALLORCA</td>\n",
       "      <td>67.714286</td>\n",
       "      <td>4.207143</td>\n",
       "    </tr>\n",
       "    <tr>\n",
       "      <th>4</th>\n",
       "      <td>LEGANÉS</td>\n",
       "      <td>75.357143</td>\n",
       "      <td>6.978571</td>\n",
       "    </tr>\n",
       "  </tbody>\n",
       "</table>\n",
       "</div>"
      ],
      "text/plain": [
       "       Team  Team Rating  Team Salary (millions)\n",
       "0  ATHLETIC    79.214286               12.678571\n",
       "1     CELTA    77.571429               11.850000\n",
       "2  VALENCIA    81.428571               21.750000\n",
       "3  MALLORCA    67.714286                4.207143\n",
       "4   LEGANÉS    75.357143                6.978571"
      ]
     },
     "execution_count": 52,
     "metadata": {},
     "output_type": "execute_result"
    }
   ],
   "source": [
    "teams = df_matches['Home Team'].unique()\n",
    "teamsList = []\n",
    "ratingsList = []\n",
    "salaryList = []\n",
    "for team in teams:\n",
    "    averageRating, averageSalary = getClubInformation(team)\n",
    "    teamsList.append(team)\n",
    "    ratingsList.append(averageRating)\n",
    "    salaryList.append(averageSalary)\n",
    "\n",
    "df_SpanishClubs = pd.DataFrame({'Team': teamsList,\n",
    "                   'Team Rating': ratingsList,\n",
    "                   'Team Salary (millions)': salaryList})\n",
    "\n",
    "df_SpanishClubs.head()"
   ]
  },
  {
   "cell_type": "markdown",
   "metadata": {},
   "source": [
    "<b>Perform Merge#1</b>: <br>"
   ]
  },
  {
   "cell_type": "code",
   "execution_count": 53,
   "metadata": {},
   "outputs": [
    {
     "data": {
      "text/html": [
       "<div>\n",
       "<style scoped>\n",
       "    .dataframe tbody tr th:only-of-type {\n",
       "        vertical-align: middle;\n",
       "    }\n",
       "\n",
       "    .dataframe tbody tr th {\n",
       "        vertical-align: top;\n",
       "    }\n",
       "\n",
       "    .dataframe thead th {\n",
       "        text-align: right;\n",
       "    }\n",
       "</style>\n",
       "<table border=\"1\" class=\"dataframe\">\n",
       "  <thead>\n",
       "    <tr style=\"text-align: right;\">\n",
       "      <th></th>\n",
       "      <th>Home Team</th>\n",
       "      <th>Away Team</th>\n",
       "      <th>Score</th>\n",
       "      <th>Half Time Score</th>\n",
       "      <th>Match Excitement</th>\n",
       "      <th>Home Team Rating</th>\n",
       "      <th>Away Team Rating</th>\n",
       "      <th>Home Team Possession %</th>\n",
       "      <th>Away Team Possession %</th>\n",
       "      <th>Home Team Off Target Shots</th>\n",
       "      <th>...</th>\n",
       "      <th>Home Team Goals Scored</th>\n",
       "      <th>Away Team Goals Scored</th>\n",
       "      <th>Home Team Goals Conceeded</th>\n",
       "      <th>Away Team Goals Conceeded</th>\n",
       "      <th>year</th>\n",
       "      <th>league</th>\n",
       "      <th>Home Rating</th>\n",
       "      <th>Home Salary</th>\n",
       "      <th>Away Rating</th>\n",
       "      <th>Away Salary</th>\n",
       "    </tr>\n",
       "  </thead>\n",
       "  <tbody>\n",
       "    <tr>\n",
       "      <th>0</th>\n",
       "      <td>ATHLETIC</td>\n",
       "      <td>BARCELONA</td>\n",
       "      <td>1-0</td>\n",
       "      <td>0-0</td>\n",
       "      <td>4.7</td>\n",
       "      <td>7.0</td>\n",
       "      <td>5.7</td>\n",
       "      <td>28</td>\n",
       "      <td>72</td>\n",
       "      <td>6.0</td>\n",
       "      <td>...</td>\n",
       "      <td>1</td>\n",
       "      <td>0</td>\n",
       "      <td>0</td>\n",
       "      <td>1</td>\n",
       "      <td>2019</td>\n",
       "      <td>spanish</td>\n",
       "      <td>79.214286</td>\n",
       "      <td>12.678571</td>\n",
       "      <td>86.714286</td>\n",
       "      <td>50.107143</td>\n",
       "    </tr>\n",
       "    <tr>\n",
       "      <th>1</th>\n",
       "      <td>CELTA</td>\n",
       "      <td>BARCELONA</td>\n",
       "      <td>2-2</td>\n",
       "      <td>0-1</td>\n",
       "      <td>8.4</td>\n",
       "      <td>7.0</td>\n",
       "      <td>5.9</td>\n",
       "      <td>32</td>\n",
       "      <td>68</td>\n",
       "      <td>1.0</td>\n",
       "      <td>...</td>\n",
       "      <td>2</td>\n",
       "      <td>2</td>\n",
       "      <td>2</td>\n",
       "      <td>2</td>\n",
       "      <td>2019</td>\n",
       "      <td>spanish</td>\n",
       "      <td>77.571429</td>\n",
       "      <td>11.850000</td>\n",
       "      <td>86.714286</td>\n",
       "      <td>50.107143</td>\n",
       "    </tr>\n",
       "    <tr>\n",
       "      <th>2</th>\n",
       "      <td>VALENCIA</td>\n",
       "      <td>BARCELONA</td>\n",
       "      <td>2-0</td>\n",
       "      <td>0-0</td>\n",
       "      <td>5.3</td>\n",
       "      <td>7.1</td>\n",
       "      <td>5.1</td>\n",
       "      <td>26</td>\n",
       "      <td>74</td>\n",
       "      <td>2.0</td>\n",
       "      <td>...</td>\n",
       "      <td>2</td>\n",
       "      <td>0</td>\n",
       "      <td>0</td>\n",
       "      <td>2</td>\n",
       "      <td>2019</td>\n",
       "      <td>spanish</td>\n",
       "      <td>81.428571</td>\n",
       "      <td>21.750000</td>\n",
       "      <td>86.714286</td>\n",
       "      <td>50.107143</td>\n",
       "    </tr>\n",
       "    <tr>\n",
       "      <th>3</th>\n",
       "      <td>MALLORCA</td>\n",
       "      <td>BARCELONA</td>\n",
       "      <td>0-4</td>\n",
       "      <td>0-2</td>\n",
       "      <td>6.2</td>\n",
       "      <td>5.0</td>\n",
       "      <td>8.4</td>\n",
       "      <td>35</td>\n",
       "      <td>65</td>\n",
       "      <td>7.0</td>\n",
       "      <td>...</td>\n",
       "      <td>0</td>\n",
       "      <td>4</td>\n",
       "      <td>4</td>\n",
       "      <td>0</td>\n",
       "      <td>2019</td>\n",
       "      <td>spanish</td>\n",
       "      <td>67.714286</td>\n",
       "      <td>4.207143</td>\n",
       "      <td>86.714286</td>\n",
       "      <td>50.107143</td>\n",
       "    </tr>\n",
       "    <tr>\n",
       "      <th>4</th>\n",
       "      <td>LEGANÉS</td>\n",
       "      <td>BARCELONA</td>\n",
       "      <td>1-2</td>\n",
       "      <td>1-0</td>\n",
       "      <td>5.6</td>\n",
       "      <td>5.5</td>\n",
       "      <td>6.9</td>\n",
       "      <td>23</td>\n",
       "      <td>77</td>\n",
       "      <td>5.0</td>\n",
       "      <td>...</td>\n",
       "      <td>1</td>\n",
       "      <td>2</td>\n",
       "      <td>2</td>\n",
       "      <td>1</td>\n",
       "      <td>2019</td>\n",
       "      <td>spanish</td>\n",
       "      <td>75.357143</td>\n",
       "      <td>6.978571</td>\n",
       "      <td>86.714286</td>\n",
       "      <td>50.107143</td>\n",
       "    </tr>\n",
       "  </tbody>\n",
       "</table>\n",
       "<p>5 rows × 45 columns</p>\n",
       "</div>"
      ],
      "text/plain": [
       "  Home Team  Away Team Score Half Time Score  Match Excitement  \\\n",
       "0  ATHLETIC  BARCELONA   1-0             0-0               4.7   \n",
       "1     CELTA  BARCELONA   2-2             0-1               8.4   \n",
       "2  VALENCIA  BARCELONA   2-0             0-0               5.3   \n",
       "3  MALLORCA  BARCELONA   0-4             0-2               6.2   \n",
       "4   LEGANÉS  BARCELONA   1-2             1-0               5.6   \n",
       "\n",
       "   Home Team Rating  Away Team Rating  Home Team Possession %  \\\n",
       "0               7.0               5.7                      28   \n",
       "1               7.0               5.9                      32   \n",
       "2               7.1               5.1                      26   \n",
       "3               5.0               8.4                      35   \n",
       "4               5.5               6.9                      23   \n",
       "\n",
       "   Away Team Possession %  Home Team Off Target Shots  ...  \\\n",
       "0                      72                         6.0  ...   \n",
       "1                      68                         1.0  ...   \n",
       "2                      74                         2.0  ...   \n",
       "3                      65                         7.0  ...   \n",
       "4                      77                         5.0  ...   \n",
       "\n",
       "   Home Team Goals Scored  Away Team Goals Scored  Home Team Goals Conceeded  \\\n",
       "0                       1                       0                          0   \n",
       "1                       2                       2                          2   \n",
       "2                       2                       0                          0   \n",
       "3                       0                       4                          4   \n",
       "4                       1                       2                          2   \n",
       "\n",
       "   Away Team Goals Conceeded  year   league  Home Rating  Home Salary  \\\n",
       "0                          1  2019  spanish    79.214286    12.678571   \n",
       "1                          2  2019  spanish    77.571429    11.850000   \n",
       "2                          2  2019  spanish    81.428571    21.750000   \n",
       "3                          0  2019  spanish    67.714286     4.207143   \n",
       "4                          1  2019  spanish    75.357143     6.978571   \n",
       "\n",
       "   Away Rating  Away Salary  \n",
       "0    86.714286    50.107143  \n",
       "1    86.714286    50.107143  \n",
       "2    86.714286    50.107143  \n",
       "3    86.714286    50.107143  \n",
       "4    86.714286    50.107143  \n",
       "\n",
       "[5 rows x 45 columns]"
      ]
     },
     "execution_count": 53,
     "metadata": {},
     "output_type": "execute_result"
    }
   ],
   "source": [
    "df_SpanishClubs.columns = ['Home Team','Home Rating','Home Salary']\n",
    "df_matches = df_matches.merge(df_SpanishClubs, how='inner', on='Home Team')\n",
    "df_SpanishClubs.columns = ['Away Team','Away Rating','Away Salary']\n",
    "df_matches = df_matches.merge(df_SpanishClubs, how='inner', on='Away Team')\n",
    "df_matches.head()"
   ]
  },
  {
   "cell_type": "markdown",
   "metadata": {},
   "source": [
    "<b>Validating Merge#1:</b> As seen above Barcelona is the away team at index at 0. We will compare the merged values with our control values calculated above as described in our strategy."
   ]
  },
  {
   "cell_type": "code",
   "execution_count": 54,
   "metadata": {},
   "outputs": [
    {
     "name": "stdout",
     "output_type": "stream",
     "text": [
      "Merged Away Rating of Barcelona: 86.71428571428571\n",
      "Merged Away Salary of Barcelona: 50.107142857142854\n",
      "Column Count: 45\n",
      "---------------------\n",
      "Unnamed: 0                       0\n",
      "Home Team                        0\n",
      "Away Team                        0\n",
      "Score                            0\n",
      "Half Time Score                  0\n",
      "Match Excitement                 0\n",
      "Home Team Rating                 0\n",
      "Away Team Rating                 0\n",
      "Home Team Possession %           0\n",
      "Away Team Possession %           0\n",
      "Home Team Off Target Shots       0\n",
      "Home Team On Target Shots        0\n",
      "Home Team Total Shots            0\n",
      "Home Team Blocked Shots          0\n",
      "Home Team Corners                0\n",
      "Home Team Throw Ins              0\n",
      "Home Team Pass Success %         0\n",
      "Home Team Aerials Won            0\n",
      "Home Team Clearances             0\n",
      "Home Team Fouls                  0\n",
      "Home Team Yellow Cards           0\n",
      "Home Team Second Yellow Cards    0\n",
      "Home Team Red Cards              0\n",
      "Away Team Off Target Shots       0\n",
      "Away Team On Target Shots        0\n",
      "Away Team Total Shots            0\n",
      "Away Team Blocked Shots          0\n",
      "Away Team Corners                0\n",
      "Away Team Throw Ins              0\n",
      "Away Team Pass Success %         0\n",
      "Away Team Aerials Won            0\n",
      "Away Team Clearances             0\n",
      "Away Team Fouls                  0\n",
      "Away Team Yellow Cards           0\n",
      "Away Team Second Yellow Cards    0\n",
      "Away Team Red Cards              0\n",
      "Home Team Goals Scored           0\n",
      "Away Team Goals Scored           0\n",
      "Home Team Goals Conceeded        0\n",
      "Away Team Goals Conceeded        0\n",
      "year                             0\n",
      "league                           0\n",
      "dtype: int64\n"
     ]
    }
   ],
   "source": [
    "print('Merged Away Rating of Barcelona: ' + str(df_matches.iloc[0]['Away Rating']))\n",
    "print('Merged Away Salary of Barcelona: ' + str(df_matches.iloc[0]['Away Salary']))\n",
    "print('Column Count: ' + str(len(df_matches.columns)))\n",
    "print('---------------------')\n",
    "print(df.isnull().sum())"
   ]
  },
  {
   "cell_type": "markdown",
   "metadata": {},
   "source": [
    "The data was merged successfully. The Away values for Barcelona rating/salary are correct in the dataframe when it is correspondingly the home or away team. The calculations match the control value. The number of columns also increases by 4 as predicted (home rating, home salary, away rating, away salary). Also there are no NaN values so the lookup datastructure/merge was successful."
   ]
  },
  {
   "cell_type": "markdown",
   "metadata": {},
   "source": [
    "<b> Strategy for Merging & Validating Dataset #2:</b><br>\n",
    "After data cleaning, the International Dataset will be appended to the end of the parent dataframe to add more matches using df.append(). Some columns will be NaN because data such as ball possesion will be unvailable. Using the dataset#1 the player rating and player salary can be calculated for the international teams. <br><br>To validate the merge we will look at the number of rows after the merge before dropping the NaN values, validating they add up properly. After dropping the NaN values, we will observe the NaN count in the player rating/salary column to ensure the player dataset was merged in properly. At that point there should be no NaN values in the dataframe and the number of rows/matches in the dataframe will be verified. "
   ]
  },
  {
   "cell_type": "markdown",
   "metadata": {},
   "source": [
    "<b> Preparing International Dataset </b><br>\n",
    "First filter by year and get the matches from 2019. Predicting based on 2019 will provide the most accurate results because that is what our player salary/rating data is predicated upon. We will also need to clean the dataframe and make the columns match that of the parent dataframe. "
   ]
  },
  {
   "cell_type": "code",
   "execution_count": 55,
   "metadata": {},
   "outputs": [
    {
     "data": {
      "text/html": [
       "<div>\n",
       "<style scoped>\n",
       "    .dataframe tbody tr th:only-of-type {\n",
       "        vertical-align: middle;\n",
       "    }\n",
       "\n",
       "    .dataframe tbody tr th {\n",
       "        vertical-align: top;\n",
       "    }\n",
       "\n",
       "    .dataframe thead th {\n",
       "        text-align: right;\n",
       "    }\n",
       "</style>\n",
       "<table border=\"1\" class=\"dataframe\">\n",
       "  <thead>\n",
       "    <tr style=\"text-align: right;\">\n",
       "      <th></th>\n",
       "      <th>Home Team</th>\n",
       "      <th>Away Team</th>\n",
       "      <th>Home Team Goals Scored</th>\n",
       "      <th>Away Team Goals Scored</th>\n",
       "      <th>year</th>\n",
       "      <th>league</th>\n",
       "      <th>Score</th>\n",
       "      <th>Home Team Goals Conceeded</th>\n",
       "      <th>Away Team Goals Conceeded</th>\n",
       "    </tr>\n",
       "  </thead>\n",
       "  <tbody>\n",
       "    <tr>\n",
       "      <th>32851</th>\n",
       "      <td>Iran</td>\n",
       "      <td>Angola</td>\n",
       "      <td>1</td>\n",
       "      <td>0</td>\n",
       "      <td>2011</td>\n",
       "      <td>international</td>\n",
       "      <td>1-0</td>\n",
       "      <td>0</td>\n",
       "      <td>1</td>\n",
       "    </tr>\n",
       "    <tr>\n",
       "      <th>32852</th>\n",
       "      <td>Iraq</td>\n",
       "      <td>China PR</td>\n",
       "      <td>2</td>\n",
       "      <td>3</td>\n",
       "      <td>2011</td>\n",
       "      <td>international</td>\n",
       "      <td>2-3</td>\n",
       "      <td>3</td>\n",
       "      <td>2</td>\n",
       "    </tr>\n",
       "    <tr>\n",
       "      <th>32853</th>\n",
       "      <td>Jordan</td>\n",
       "      <td>Uzbekistan</td>\n",
       "      <td>2</td>\n",
       "      <td>2</td>\n",
       "      <td>2011</td>\n",
       "      <td>international</td>\n",
       "      <td>2-2</td>\n",
       "      <td>2</td>\n",
       "      <td>2</td>\n",
       "    </tr>\n",
       "    <tr>\n",
       "      <th>32854</th>\n",
       "      <td>United Arab Emirates</td>\n",
       "      <td>Syria</td>\n",
       "      <td>2</td>\n",
       "      <td>0</td>\n",
       "      <td>2011</td>\n",
       "      <td>international</td>\n",
       "      <td>2-0</td>\n",
       "      <td>0</td>\n",
       "      <td>2</td>\n",
       "    </tr>\n",
       "    <tr>\n",
       "      <th>32855</th>\n",
       "      <td>Bahrain</td>\n",
       "      <td>North Korea</td>\n",
       "      <td>0</td>\n",
       "      <td>1</td>\n",
       "      <td>2011</td>\n",
       "      <td>international</td>\n",
       "      <td>0-1</td>\n",
       "      <td>1</td>\n",
       "      <td>0</td>\n",
       "    </tr>\n",
       "    <tr>\n",
       "      <th>...</th>\n",
       "      <td>...</td>\n",
       "      <td>...</td>\n",
       "      <td>...</td>\n",
       "      <td>...</td>\n",
       "      <td>...</td>\n",
       "      <td>...</td>\n",
       "      <td>...</td>\n",
       "      <td>...</td>\n",
       "      <td>...</td>\n",
       "    </tr>\n",
       "    <tr>\n",
       "      <th>43183</th>\n",
       "      <td>Suriname</td>\n",
       "      <td>Guyana</td>\n",
       "      <td>2</td>\n",
       "      <td>1</td>\n",
       "      <td>2022</td>\n",
       "      <td>international</td>\n",
       "      <td>2-1</td>\n",
       "      <td>1</td>\n",
       "      <td>2</td>\n",
       "    </tr>\n",
       "    <tr>\n",
       "      <th>43184</th>\n",
       "      <td>Burkina Faso</td>\n",
       "      <td>Senegal</td>\n",
       "      <td>1</td>\n",
       "      <td>3</td>\n",
       "      <td>2022</td>\n",
       "      <td>international</td>\n",
       "      <td>1-3</td>\n",
       "      <td>3</td>\n",
       "      <td>1</td>\n",
       "    </tr>\n",
       "    <tr>\n",
       "      <th>43185</th>\n",
       "      <td>Cameroon</td>\n",
       "      <td>Egypt</td>\n",
       "      <td>0</td>\n",
       "      <td>0</td>\n",
       "      <td>2022</td>\n",
       "      <td>international</td>\n",
       "      <td>0-0</td>\n",
       "      <td>0</td>\n",
       "      <td>0</td>\n",
       "    </tr>\n",
       "    <tr>\n",
       "      <th>43186</th>\n",
       "      <td>Cameroon</td>\n",
       "      <td>Burkina Faso</td>\n",
       "      <td>3</td>\n",
       "      <td>3</td>\n",
       "      <td>2022</td>\n",
       "      <td>international</td>\n",
       "      <td>3-3</td>\n",
       "      <td>3</td>\n",
       "      <td>3</td>\n",
       "    </tr>\n",
       "    <tr>\n",
       "      <th>43187</th>\n",
       "      <td>Senegal</td>\n",
       "      <td>Egypt</td>\n",
       "      <td>0</td>\n",
       "      <td>0</td>\n",
       "      <td>2022</td>\n",
       "      <td>international</td>\n",
       "      <td>0-0</td>\n",
       "      <td>0</td>\n",
       "      <td>0</td>\n",
       "    </tr>\n",
       "  </tbody>\n",
       "</table>\n",
       "<p>10337 rows × 9 columns</p>\n",
       "</div>"
      ],
      "text/plain": [
       "                  Home Team     Away Team  Home Team Goals Scored  \\\n",
       "32851                  Iran        Angola                       1   \n",
       "32852                  Iraq      China PR                       2   \n",
       "32853                Jordan    Uzbekistan                       2   \n",
       "32854  United Arab Emirates         Syria                       2   \n",
       "32855               Bahrain   North Korea                       0   \n",
       "...                     ...           ...                     ...   \n",
       "43183              Suriname        Guyana                       2   \n",
       "43184          Burkina Faso       Senegal                       1   \n",
       "43185              Cameroon         Egypt                       0   \n",
       "43186              Cameroon  Burkina Faso                       3   \n",
       "43187               Senegal         Egypt                       0   \n",
       "\n",
       "       Away Team Goals Scored  year         league Score  \\\n",
       "32851                       0  2011  international   1-0   \n",
       "32852                       3  2011  international   2-3   \n",
       "32853                       2  2011  international   2-2   \n",
       "32854                       0  2011  international   2-0   \n",
       "32855                       1  2011  international   0-1   \n",
       "...                       ...   ...            ...   ...   \n",
       "43183                       1  2022  international   2-1   \n",
       "43184                       3  2022  international   1-3   \n",
       "43185                       0  2022  international   0-0   \n",
       "43186                       3  2022  international   3-3   \n",
       "43187                       0  2022  international   0-0   \n",
       "\n",
       "       Home Team Goals Conceeded  Away Team Goals Conceeded  \n",
       "32851                          0                          1  \n",
       "32852                          3                          2  \n",
       "32853                          2                          2  \n",
       "32854                          0                          2  \n",
       "32855                          1                          0  \n",
       "...                          ...                        ...  \n",
       "43183                          1                          2  \n",
       "43184                          3                          1  \n",
       "43185                          0                          0  \n",
       "43186                          3                          3  \n",
       "43187                          0                          0  \n",
       "\n",
       "[10337 rows x 9 columns]"
      ]
     },
     "execution_count": 55,
     "metadata": {},
     "output_type": "execute_result"
    }
   ],
   "source": [
    "# CLEANING THE international dataframe (df_national_2019 is our target dataframe)\n",
    "# make the 'year column'\n",
    "yearList = [x[0:4] for x in df_international['date']]\n",
    "df_international['year'] = yearList\n",
    "#get only matches in 2019\n",
    "df_national_2019_slice = df_international[df_international[\"year\"] >= '2011'] #CHANGED\n",
    "df_national_2019 = df_national_2019_slice.copy() # create a copy of the slice, slice should be read only\n",
    "# create league column:\n",
    "leagueList = ['international' for x in range (0, len(df_national_2019.index))]\n",
    "df_national_2019['league'] = leagueList\n",
    "# create score columns:\n",
    "home_score = df_national_2019['home_score'].values\n",
    "away_score = df_national_2019['away_score'].values\n",
    "scoreList = [str(home_score[i]) + '-' + str(away_score[i]) for i in range(0,len(home_score))]\n",
    "df_national_2019['Score'] = scoreList\n",
    "df_national_2019['Home Team Goals Conceeded'] = away_score\n",
    "df_national_2019['Away Team Goals Conceeded'] = home_score\n",
    "\n",
    "#drop undersired columns\n",
    "df_national_2019.drop(columns=['date', 'country', 'tournament', 'city', 'neutral'], inplace=True) # drop the date\n",
    "#rename the columns\n",
    "df_national_2019.columns = ['Home Team','Away Team', 'Home Team Goals Scored', 'Away Team Goals Scored', 'year', 'league', 'Score', 'Home Team Goals Conceeded', 'Away Team Goals Conceeded']\n",
    "df_national_2019"
   ]
  },
  {
   "cell_type": "code",
   "execution_count": 56,
   "metadata": {},
   "outputs": [
    {
     "data": {
      "text/html": [
       "<div>\n",
       "<style scoped>\n",
       "    .dataframe tbody tr th:only-of-type {\n",
       "        vertical-align: middle;\n",
       "    }\n",
       "\n",
       "    .dataframe tbody tr th {\n",
       "        vertical-align: top;\n",
       "    }\n",
       "\n",
       "    .dataframe thead th {\n",
       "        text-align: right;\n",
       "    }\n",
       "</style>\n",
       "<table border=\"1\" class=\"dataframe\">\n",
       "  <thead>\n",
       "    <tr style=\"text-align: right;\">\n",
       "      <th></th>\n",
       "      <th>Team</th>\n",
       "      <th>Team Rating</th>\n",
       "      <th>Team Salary (millions)</th>\n",
       "    </tr>\n",
       "  </thead>\n",
       "  <tbody>\n",
       "    <tr>\n",
       "      <th>0</th>\n",
       "      <td>Andorra</td>\n",
       "      <td>62.000000</td>\n",
       "      <td>2.900000</td>\n",
       "    </tr>\n",
       "    <tr>\n",
       "      <th>1</th>\n",
       "      <td>Zanzibar</td>\n",
       "      <td>NaN</td>\n",
       "      <td>0.000000</td>\n",
       "    </tr>\n",
       "    <tr>\n",
       "      <th>2</th>\n",
       "      <td>Dominican Republic</td>\n",
       "      <td>72.000000</td>\n",
       "      <td>14.000000</td>\n",
       "    </tr>\n",
       "    <tr>\n",
       "      <th>3</th>\n",
       "      <td>Jersey</td>\n",
       "      <td>NaN</td>\n",
       "      <td>0.000000</td>\n",
       "    </tr>\n",
       "    <tr>\n",
       "      <th>4</th>\n",
       "      <td>Saudi Arabia</td>\n",
       "      <td>71.785714</td>\n",
       "      <td>3.450000</td>\n",
       "    </tr>\n",
       "    <tr>\n",
       "      <th>...</th>\n",
       "      <td>...</td>\n",
       "      <td>...</td>\n",
       "      <td>...</td>\n",
       "    </tr>\n",
       "    <tr>\n",
       "      <th>282</th>\n",
       "      <td>New Caledonia</td>\n",
       "      <td>71.000000</td>\n",
       "      <td>1.800000</td>\n",
       "    </tr>\n",
       "    <tr>\n",
       "      <th>283</th>\n",
       "      <td>Brunei</td>\n",
       "      <td>NaN</td>\n",
       "      <td>0.000000</td>\n",
       "    </tr>\n",
       "    <tr>\n",
       "      <th>284</th>\n",
       "      <td>Chile</td>\n",
       "      <td>78.642857</td>\n",
       "      <td>11.850000</td>\n",
       "    </tr>\n",
       "    <tr>\n",
       "      <th>285</th>\n",
       "      <td>England</td>\n",
       "      <td>83.000000</td>\n",
       "      <td>30.321429</td>\n",
       "    </tr>\n",
       "    <tr>\n",
       "      <th>286</th>\n",
       "      <td>Djibouti</td>\n",
       "      <td>NaN</td>\n",
       "      <td>0.000000</td>\n",
       "    </tr>\n",
       "  </tbody>\n",
       "</table>\n",
       "<p>287 rows × 3 columns</p>\n",
       "</div>"
      ],
      "text/plain": [
       "                   Team  Team Rating  Team Salary (millions)\n",
       "0               Andorra    62.000000                2.900000\n",
       "1              Zanzibar          NaN                0.000000\n",
       "2    Dominican Republic    72.000000               14.000000\n",
       "3                Jersey          NaN                0.000000\n",
       "4          Saudi Arabia    71.785714                3.450000\n",
       "..                  ...          ...                     ...\n",
       "282       New Caledonia    71.000000                1.800000\n",
       "283              Brunei          NaN                0.000000\n",
       "284               Chile    78.642857               11.850000\n",
       "285             England    83.000000               30.321429\n",
       "286            Djibouti          NaN                0.000000\n",
       "\n",
       "[287 rows x 3 columns]"
      ]
     },
     "execution_count": 56,
     "metadata": {},
     "output_type": "execute_result"
    }
   ],
   "source": [
    "# Calculate the average player ratiang and salary\n",
    "def getCountryInformation(country):\n",
    "    # refactored function to work with internatonal matches to get average rating and salary\n",
    "    lookup2 = {'South Korea':'Korea Republic'}\n",
    "    df_target = None\n",
    "    if country in lookup2:\n",
    "        df_target = df_player[df_player[\"Nationality\"] == lookup2[country]]\n",
    "    else:\n",
    "        df_target = df_player[df_player[\"Nationality\"] == country]\n",
    "    n = len(df_target)\n",
    "    if n >= 14:\n",
    "        n = 14\n",
    "    elif n == 0:\n",
    "        return None, 0\n",
    "    df_target = df_target.head(n)\n",
    "    # calculate the average rating of starting 11 + subs\n",
    "    avgRating = df_target['Overall'].sum() / n\n",
    "    # calculate the average team salary\n",
    "    salaryList = list(df_target['Value']) # get list of salaries\n",
    "    if '€0' in salaryList:\n",
    "        return None, 0\n",
    "    doubleList = [float(x[1:-1]) if x[-1] != 'K' else float(x[1:-1]) / 100 for x in salaryList] #convert salary to a double\n",
    "    avgSalary = sum(doubleList) / len(doubleList)\n",
    "    #avgSalary = 0\n",
    "    return avgRating, avgSalary\n",
    "\n",
    "# call the function to get international data\n",
    "#teams = df_national_2019['Home Team'].unique() + list(set(df_national_2019['Away Team'].unique()) - set(df_national_2019['Home Team'].unique()))\n",
    "list1 = df_national_2019['Home Team'].unique()\n",
    "list2 = df_national_2019['Away Team'].unique()\n",
    "teams = list(set(list1) | set(list2))\n",
    "teamsList = []\n",
    "ratingsList = []\n",
    "salaryList = []\n",
    "for team in teams:\n",
    "    averageRating, averageSalary = getCountryInformation(team)\n",
    "    teamsList.append(team)\n",
    "    ratingsList.append(averageRating)\n",
    "    salaryList.append(averageSalary)\n",
    "\n",
    "df_intRatings = pd.DataFrame({'Team': teamsList,\n",
    "                   'Team Rating': ratingsList,\n",
    "                   'Team Salary (millions)': salaryList})\n",
    "\n",
    "df_intRatings"
   ]
  },
  {
   "cell_type": "markdown",
   "metadata": {},
   "source": [
    "<b>Perform Merge#2</b>: <br>"
   ]
  },
  {
   "cell_type": "code",
   "execution_count": 57,
   "metadata": {},
   "outputs": [
    {
     "data": {
      "text/html": [
       "<div>\n",
       "<style scoped>\n",
       "    .dataframe tbody tr th:only-of-type {\n",
       "        vertical-align: middle;\n",
       "    }\n",
       "\n",
       "    .dataframe tbody tr th {\n",
       "        vertical-align: top;\n",
       "    }\n",
       "\n",
       "    .dataframe thead th {\n",
       "        text-align: right;\n",
       "    }\n",
       "</style>\n",
       "<table border=\"1\" class=\"dataframe\">\n",
       "  <thead>\n",
       "    <tr style=\"text-align: right;\">\n",
       "      <th></th>\n",
       "      <th>Home Team</th>\n",
       "      <th>Away Team</th>\n",
       "      <th>Score</th>\n",
       "      <th>Half Time Score</th>\n",
       "      <th>Match Excitement</th>\n",
       "      <th>Home Team Rating</th>\n",
       "      <th>Away Team Rating</th>\n",
       "      <th>Home Team Possession %</th>\n",
       "      <th>Away Team Possession %</th>\n",
       "      <th>Home Team Off Target Shots</th>\n",
       "      <th>...</th>\n",
       "      <th>Home Rating</th>\n",
       "      <th>Home Salary</th>\n",
       "      <th>Away Rating</th>\n",
       "      <th>Away Salary</th>\n",
       "      <th>Winner</th>\n",
       "      <th>Total Goals</th>\n",
       "      <th>Majority Possesion</th>\n",
       "      <th>Winner_Away</th>\n",
       "      <th>Winner_Draw</th>\n",
       "      <th>Winner_Home</th>\n",
       "    </tr>\n",
       "  </thead>\n",
       "  <tbody>\n",
       "    <tr>\n",
       "      <th>0</th>\n",
       "      <td>ATHLETIC</td>\n",
       "      <td>BARCELONA</td>\n",
       "      <td>1-0</td>\n",
       "      <td>0-0</td>\n",
       "      <td>4.7</td>\n",
       "      <td>7.0</td>\n",
       "      <td>5.7</td>\n",
       "      <td>28.0</td>\n",
       "      <td>72.0</td>\n",
       "      <td>6.0</td>\n",
       "      <td>...</td>\n",
       "      <td>79.214286</td>\n",
       "      <td>12.678571</td>\n",
       "      <td>86.714286</td>\n",
       "      <td>50.107143</td>\n",
       "      <td>Home</td>\n",
       "      <td>1</td>\n",
       "      <td>Away</td>\n",
       "      <td>0</td>\n",
       "      <td>0</td>\n",
       "      <td>1</td>\n",
       "    </tr>\n",
       "    <tr>\n",
       "      <th>1</th>\n",
       "      <td>CELTA</td>\n",
       "      <td>BARCELONA</td>\n",
       "      <td>2-2</td>\n",
       "      <td>0-1</td>\n",
       "      <td>8.4</td>\n",
       "      <td>7.0</td>\n",
       "      <td>5.9</td>\n",
       "      <td>32.0</td>\n",
       "      <td>68.0</td>\n",
       "      <td>1.0</td>\n",
       "      <td>...</td>\n",
       "      <td>77.571429</td>\n",
       "      <td>11.850000</td>\n",
       "      <td>86.714286</td>\n",
       "      <td>50.107143</td>\n",
       "      <td>Draw</td>\n",
       "      <td>4</td>\n",
       "      <td>Away</td>\n",
       "      <td>0</td>\n",
       "      <td>1</td>\n",
       "      <td>0</td>\n",
       "    </tr>\n",
       "    <tr>\n",
       "      <th>2</th>\n",
       "      <td>VALENCIA</td>\n",
       "      <td>BARCELONA</td>\n",
       "      <td>2-0</td>\n",
       "      <td>0-0</td>\n",
       "      <td>5.3</td>\n",
       "      <td>7.1</td>\n",
       "      <td>5.1</td>\n",
       "      <td>26.0</td>\n",
       "      <td>74.0</td>\n",
       "      <td>2.0</td>\n",
       "      <td>...</td>\n",
       "      <td>81.428571</td>\n",
       "      <td>21.750000</td>\n",
       "      <td>86.714286</td>\n",
       "      <td>50.107143</td>\n",
       "      <td>Home</td>\n",
       "      <td>2</td>\n",
       "      <td>Away</td>\n",
       "      <td>0</td>\n",
       "      <td>0</td>\n",
       "      <td>1</td>\n",
       "    </tr>\n",
       "    <tr>\n",
       "      <th>3</th>\n",
       "      <td>MALLORCA</td>\n",
       "      <td>BARCELONA</td>\n",
       "      <td>0-4</td>\n",
       "      <td>0-2</td>\n",
       "      <td>6.2</td>\n",
       "      <td>5.0</td>\n",
       "      <td>8.4</td>\n",
       "      <td>35.0</td>\n",
       "      <td>65.0</td>\n",
       "      <td>7.0</td>\n",
       "      <td>...</td>\n",
       "      <td>67.714286</td>\n",
       "      <td>4.207143</td>\n",
       "      <td>86.714286</td>\n",
       "      <td>50.107143</td>\n",
       "      <td>Away</td>\n",
       "      <td>4</td>\n",
       "      <td>Away</td>\n",
       "      <td>1</td>\n",
       "      <td>0</td>\n",
       "      <td>0</td>\n",
       "    </tr>\n",
       "    <tr>\n",
       "      <th>4</th>\n",
       "      <td>LEGANÉS</td>\n",
       "      <td>BARCELONA</td>\n",
       "      <td>1-2</td>\n",
       "      <td>1-0</td>\n",
       "      <td>5.6</td>\n",
       "      <td>5.5</td>\n",
       "      <td>6.9</td>\n",
       "      <td>23.0</td>\n",
       "      <td>77.0</td>\n",
       "      <td>5.0</td>\n",
       "      <td>...</td>\n",
       "      <td>75.357143</td>\n",
       "      <td>6.978571</td>\n",
       "      <td>86.714286</td>\n",
       "      <td>50.107143</td>\n",
       "      <td>Away</td>\n",
       "      <td>3</td>\n",
       "      <td>Away</td>\n",
       "      <td>1</td>\n",
       "      <td>0</td>\n",
       "      <td>0</td>\n",
       "    </tr>\n",
       "    <tr>\n",
       "      <th>...</th>\n",
       "      <td>...</td>\n",
       "      <td>...</td>\n",
       "      <td>...</td>\n",
       "      <td>...</td>\n",
       "      <td>...</td>\n",
       "      <td>...</td>\n",
       "      <td>...</td>\n",
       "      <td>...</td>\n",
       "      <td>...</td>\n",
       "      <td>...</td>\n",
       "      <td>...</td>\n",
       "      <td>...</td>\n",
       "      <td>...</td>\n",
       "      <td>...</td>\n",
       "      <td>...</td>\n",
       "      <td>...</td>\n",
       "      <td>...</td>\n",
       "      <td>...</td>\n",
       "      <td>...</td>\n",
       "      <td>...</td>\n",
       "      <td>...</td>\n",
       "    </tr>\n",
       "    <tr>\n",
       "      <th>10332</th>\n",
       "      <td>Barawa</td>\n",
       "      <td>Yorkshire</td>\n",
       "      <td>2-7</td>\n",
       "      <td>NaN</td>\n",
       "      <td>NaN</td>\n",
       "      <td>NaN</td>\n",
       "      <td>NaN</td>\n",
       "      <td>NaN</td>\n",
       "      <td>NaN</td>\n",
       "      <td>NaN</td>\n",
       "      <td>...</td>\n",
       "      <td>NaN</td>\n",
       "      <td>0.000000</td>\n",
       "      <td>NaN</td>\n",
       "      <td>0.000000</td>\n",
       "      <td>Away</td>\n",
       "      <td>9</td>\n",
       "      <td>Away</td>\n",
       "      <td>1</td>\n",
       "      <td>0</td>\n",
       "      <td>0</td>\n",
       "    </tr>\n",
       "    <tr>\n",
       "      <th>10333</th>\n",
       "      <td>Parishes of Jersey</td>\n",
       "      <td>Yorkshire</td>\n",
       "      <td>2-1</td>\n",
       "      <td>NaN</td>\n",
       "      <td>NaN</td>\n",
       "      <td>NaN</td>\n",
       "      <td>NaN</td>\n",
       "      <td>NaN</td>\n",
       "      <td>NaN</td>\n",
       "      <td>NaN</td>\n",
       "      <td>...</td>\n",
       "      <td>NaN</td>\n",
       "      <td>0.000000</td>\n",
       "      <td>NaN</td>\n",
       "      <td>0.000000</td>\n",
       "      <td>Home</td>\n",
       "      <td>3</td>\n",
       "      <td>Away</td>\n",
       "      <td>0</td>\n",
       "      <td>0</td>\n",
       "      <td>1</td>\n",
       "    </tr>\n",
       "    <tr>\n",
       "      <th>10334</th>\n",
       "      <td>Barawa</td>\n",
       "      <td>Surrey</td>\n",
       "      <td>1-3</td>\n",
       "      <td>NaN</td>\n",
       "      <td>NaN</td>\n",
       "      <td>NaN</td>\n",
       "      <td>NaN</td>\n",
       "      <td>NaN</td>\n",
       "      <td>NaN</td>\n",
       "      <td>NaN</td>\n",
       "      <td>...</td>\n",
       "      <td>NaN</td>\n",
       "      <td>0.000000</td>\n",
       "      <td>NaN</td>\n",
       "      <td>0.000000</td>\n",
       "      <td>Away</td>\n",
       "      <td>4</td>\n",
       "      <td>Away</td>\n",
       "      <td>1</td>\n",
       "      <td>0</td>\n",
       "      <td>0</td>\n",
       "    </tr>\n",
       "    <tr>\n",
       "      <th>10335</th>\n",
       "      <td>Yorkshire</td>\n",
       "      <td>Parishes of Jersey</td>\n",
       "      <td>1-0</td>\n",
       "      <td>NaN</td>\n",
       "      <td>NaN</td>\n",
       "      <td>NaN</td>\n",
       "      <td>NaN</td>\n",
       "      <td>NaN</td>\n",
       "      <td>NaN</td>\n",
       "      <td>NaN</td>\n",
       "      <td>...</td>\n",
       "      <td>NaN</td>\n",
       "      <td>0.000000</td>\n",
       "      <td>NaN</td>\n",
       "      <td>0.000000</td>\n",
       "      <td>Home</td>\n",
       "      <td>1</td>\n",
       "      <td>Away</td>\n",
       "      <td>0</td>\n",
       "      <td>0</td>\n",
       "      <td>1</td>\n",
       "    </tr>\n",
       "    <tr>\n",
       "      <th>10336</th>\n",
       "      <td>Kernow</td>\n",
       "      <td>Barawa</td>\n",
       "      <td>5-0</td>\n",
       "      <td>NaN</td>\n",
       "      <td>NaN</td>\n",
       "      <td>NaN</td>\n",
       "      <td>NaN</td>\n",
       "      <td>NaN</td>\n",
       "      <td>NaN</td>\n",
       "      <td>NaN</td>\n",
       "      <td>...</td>\n",
       "      <td>NaN</td>\n",
       "      <td>0.000000</td>\n",
       "      <td>NaN</td>\n",
       "      <td>0.000000</td>\n",
       "      <td>Home</td>\n",
       "      <td>5</td>\n",
       "      <td>Away</td>\n",
       "      <td>0</td>\n",
       "      <td>0</td>\n",
       "      <td>1</td>\n",
       "    </tr>\n",
       "  </tbody>\n",
       "</table>\n",
       "<p>10717 rows × 28 columns</p>\n",
       "</div>"
      ],
      "text/plain": [
       "                Home Team           Away Team Score Half Time Score  \\\n",
       "0                ATHLETIC           BARCELONA   1-0             0-0   \n",
       "1                   CELTA           BARCELONA   2-2             0-1   \n",
       "2                VALENCIA           BARCELONA   2-0             0-0   \n",
       "3                MALLORCA           BARCELONA   0-4             0-2   \n",
       "4                 LEGANÉS           BARCELONA   1-2             1-0   \n",
       "...                   ...                 ...   ...             ...   \n",
       "10332              Barawa           Yorkshire   2-7             NaN   \n",
       "10333  Parishes of Jersey           Yorkshire   2-1             NaN   \n",
       "10334              Barawa              Surrey   1-3             NaN   \n",
       "10335           Yorkshire  Parishes of Jersey   1-0             NaN   \n",
       "10336              Kernow              Barawa   5-0             NaN   \n",
       "\n",
       "       Match Excitement  Home Team Rating  Away Team Rating  \\\n",
       "0                   4.7               7.0               5.7   \n",
       "1                   8.4               7.0               5.9   \n",
       "2                   5.3               7.1               5.1   \n",
       "3                   6.2               5.0               8.4   \n",
       "4                   5.6               5.5               6.9   \n",
       "...                 ...               ...               ...   \n",
       "10332               NaN               NaN               NaN   \n",
       "10333               NaN               NaN               NaN   \n",
       "10334               NaN               NaN               NaN   \n",
       "10335               NaN               NaN               NaN   \n",
       "10336               NaN               NaN               NaN   \n",
       "\n",
       "       Home Team Possession %  Away Team Possession %  \\\n",
       "0                        28.0                    72.0   \n",
       "1                        32.0                    68.0   \n",
       "2                        26.0                    74.0   \n",
       "3                        35.0                    65.0   \n",
       "4                        23.0                    77.0   \n",
       "...                       ...                     ...   \n",
       "10332                     NaN                     NaN   \n",
       "10333                     NaN                     NaN   \n",
       "10334                     NaN                     NaN   \n",
       "10335                     NaN                     NaN   \n",
       "10336                     NaN                     NaN   \n",
       "\n",
       "       Home Team Off Target Shots  ...  Home Rating  Home Salary  Away Rating  \\\n",
       "0                             6.0  ...    79.214286    12.678571    86.714286   \n",
       "1                             1.0  ...    77.571429    11.850000    86.714286   \n",
       "2                             2.0  ...    81.428571    21.750000    86.714286   \n",
       "3                             7.0  ...    67.714286     4.207143    86.714286   \n",
       "4                             5.0  ...    75.357143     6.978571    86.714286   \n",
       "...                           ...  ...          ...          ...          ...   \n",
       "10332                         NaN  ...          NaN     0.000000          NaN   \n",
       "10333                         NaN  ...          NaN     0.000000          NaN   \n",
       "10334                         NaN  ...          NaN     0.000000          NaN   \n",
       "10335                         NaN  ...          NaN     0.000000          NaN   \n",
       "10336                         NaN  ...          NaN     0.000000          NaN   \n",
       "\n",
       "       Away Salary  Winner  Total Goals Majority Possesion Winner_Away  \\\n",
       "0        50.107143    Home            1               Away           0   \n",
       "1        50.107143    Draw            4               Away           0   \n",
       "2        50.107143    Home            2               Away           0   \n",
       "3        50.107143    Away            4               Away           1   \n",
       "4        50.107143    Away            3               Away           1   \n",
       "...            ...     ...          ...                ...         ...   \n",
       "10332     0.000000    Away            9               Away           1   \n",
       "10333     0.000000    Home            3               Away           0   \n",
       "10334     0.000000    Away            4               Away           1   \n",
       "10335     0.000000    Home            1               Away           0   \n",
       "10336     0.000000    Home            5               Away           0   \n",
       "\n",
       "       Winner_Draw  Winner_Home  \n",
       "0                0            1  \n",
       "1                1            0  \n",
       "2                0            1  \n",
       "3                0            0  \n",
       "4                0            0  \n",
       "...            ...          ...  \n",
       "10332            0            0  \n",
       "10333            0            1  \n",
       "10334            0            0  \n",
       "10335            0            1  \n",
       "10336            0            1  \n",
       "\n",
       "[10717 rows x 28 columns]"
      ]
     },
     "execution_count": 57,
     "metadata": {},
     "output_type": "execute_result"
    }
   ],
   "source": [
    "# (1) merge the international ratings / internatonal salary in\n",
    "df_intRatings.columns = ['Home Team','Home Rating','Home Salary']\n",
    "df_national_2019 = df_national_2019.merge(df_intRatings, how='inner', on='Home Team')\n",
    "df_intRatings.columns = ['Away Team','Away Rating','Away Salary']\n",
    "df_national_2019 = df_national_2019.merge(df_intRatings, how='inner', on='Away Team')\n",
    "# (2) append the new rows into the dataframe\n",
    "df_club_international_matches = df_matches.append(df_national_2019).copy()\n",
    "# (3) clean up dataframe for analysis\n",
    "victor = ['Home' if df_club_international_matches.iloc[x]['Home Team Goals Scored'] > df_club_international_matches.iloc[x]['Away Team Goals Scored'] else 'Away' for x in range(0, len(df_club_international_matches))]\n",
    "victor = ['Draw' if df_club_international_matches.iloc[x]['Home Team Goals Scored'] == df_club_international_matches.iloc[x]['Away Team Goals Scored'] else victor[x] for x in range(0, len(df_club_international_matches))]\n",
    "# (4) add needed columns for data analysis\n",
    "df_club_international_matches['Winner'] = victor\n",
    "df_club_international_matches['Total Goals'] = [df_club_international_matches.iloc[x]['Home Team Goals Scored'] + df_club_international_matches.iloc[x]['Away Team Goals Scored'] for x in range(0, len(df_club_international_matches))]\n",
    "df_club_international_matches['Majority Possesion'] = ['Home' if df_club_international_matches.iloc[x]['Home Team Possession %'] >= df_club_international_matches.iloc[x]['Away Team Possession %'] else 'Away' for x in range(0, len(df_club_international_matches))]\n",
    "# drop unneeded columns\n",
    "col =  ['Home Team Blocked Shots', 'Home Team Corners',\n",
    "        'Home Team Throw Ins', 'Home Team Pass Success %',\n",
    "        'Home Team Aerials Won', 'Home Team Clearances', 'Home Team Fouls',\n",
    "        'Home Team Yellow Cards', 'Home Team Second Yellow Cards',\n",
    "        'Home Team Red Cards', 'Away Team Off Target Shots',\n",
    "        'Away Team On Target Shots', 'Away Team Total Shots',\n",
    "        'Away Team Blocked Shots', 'Away Team Corners', 'Away Team Throw Ins',\n",
    "        'Away Team Pass Success %', 'Away Team Aerials Won',\n",
    "        'Away Team Clearances', 'Away Team Fouls', 'Away Team Yellow Cards',\n",
    "        'Away Team Second Yellow Cards', 'Away Team Red Cards'\n",
    "         ]\n",
    "df_club_international_matches = df_club_international_matches.drop(col, axis=1)\n",
    "# (5) One hot encode the Winner column\n",
    "df_club_international_matches = pd.concat([df_club_international_matches,pd.get_dummies(df_club_international_matches['Winner'], prefix='Winner')],axis=1)\n",
    "# output results\n",
    "df_club_international_matches"
   ]
  },
  {
   "cell_type": "code",
   "execution_count": 58,
   "metadata": {},
   "outputs": [
    {
     "data": {
      "text/html": [
       "<div>\n",
       "<style scoped>\n",
       "    .dataframe tbody tr th:only-of-type {\n",
       "        vertical-align: middle;\n",
       "    }\n",
       "\n",
       "    .dataframe tbody tr th {\n",
       "        vertical-align: top;\n",
       "    }\n",
       "\n",
       "    .dataframe thead th {\n",
       "        text-align: right;\n",
       "    }\n",
       "</style>\n",
       "<table border=\"1\" class=\"dataframe\">\n",
       "  <thead>\n",
       "    <tr style=\"text-align: right;\">\n",
       "      <th></th>\n",
       "      <th>Home Team</th>\n",
       "      <th>Away Team</th>\n",
       "      <th>Score</th>\n",
       "      <th>Half Time Score</th>\n",
       "      <th>Match Excitement</th>\n",
       "      <th>Home Team Rating</th>\n",
       "      <th>Away Team Rating</th>\n",
       "      <th>Home Team Possession %</th>\n",
       "      <th>Away Team Possession %</th>\n",
       "      <th>Home Team Off Target Shots</th>\n",
       "      <th>...</th>\n",
       "      <th>Home Rating</th>\n",
       "      <th>Home Salary</th>\n",
       "      <th>Away Rating</th>\n",
       "      <th>Away Salary</th>\n",
       "      <th>Winner</th>\n",
       "      <th>Total Goals</th>\n",
       "      <th>Majority Possesion</th>\n",
       "      <th>Winner_Away</th>\n",
       "      <th>Winner_Draw</th>\n",
       "      <th>Winner_Home</th>\n",
       "    </tr>\n",
       "  </thead>\n",
       "  <tbody>\n",
       "    <tr>\n",
       "      <th>0</th>\n",
       "      <td>ATHLETIC</td>\n",
       "      <td>BARCELONA</td>\n",
       "      <td>1-0</td>\n",
       "      <td>0-0</td>\n",
       "      <td>4.7</td>\n",
       "      <td>7.0</td>\n",
       "      <td>5.7</td>\n",
       "      <td>28.0</td>\n",
       "      <td>72.0</td>\n",
       "      <td>6.0</td>\n",
       "      <td>...</td>\n",
       "      <td>79.214286</td>\n",
       "      <td>12.678571</td>\n",
       "      <td>86.714286</td>\n",
       "      <td>50.107143</td>\n",
       "      <td>Home</td>\n",
       "      <td>1</td>\n",
       "      <td>Away</td>\n",
       "      <td>0</td>\n",
       "      <td>0</td>\n",
       "      <td>1</td>\n",
       "    </tr>\n",
       "    <tr>\n",
       "      <th>1</th>\n",
       "      <td>CELTA</td>\n",
       "      <td>BARCELONA</td>\n",
       "      <td>2-2</td>\n",
       "      <td>0-1</td>\n",
       "      <td>8.4</td>\n",
       "      <td>7.0</td>\n",
       "      <td>5.9</td>\n",
       "      <td>32.0</td>\n",
       "      <td>68.0</td>\n",
       "      <td>1.0</td>\n",
       "      <td>...</td>\n",
       "      <td>77.571429</td>\n",
       "      <td>11.850000</td>\n",
       "      <td>86.714286</td>\n",
       "      <td>50.107143</td>\n",
       "      <td>Draw</td>\n",
       "      <td>4</td>\n",
       "      <td>Away</td>\n",
       "      <td>0</td>\n",
       "      <td>1</td>\n",
       "      <td>0</td>\n",
       "    </tr>\n",
       "    <tr>\n",
       "      <th>2</th>\n",
       "      <td>VALENCIA</td>\n",
       "      <td>BARCELONA</td>\n",
       "      <td>2-0</td>\n",
       "      <td>0-0</td>\n",
       "      <td>5.3</td>\n",
       "      <td>7.1</td>\n",
       "      <td>5.1</td>\n",
       "      <td>26.0</td>\n",
       "      <td>74.0</td>\n",
       "      <td>2.0</td>\n",
       "      <td>...</td>\n",
       "      <td>81.428571</td>\n",
       "      <td>21.750000</td>\n",
       "      <td>86.714286</td>\n",
       "      <td>50.107143</td>\n",
       "      <td>Home</td>\n",
       "      <td>2</td>\n",
       "      <td>Away</td>\n",
       "      <td>0</td>\n",
       "      <td>0</td>\n",
       "      <td>1</td>\n",
       "    </tr>\n",
       "    <tr>\n",
       "      <th>3</th>\n",
       "      <td>MALLORCA</td>\n",
       "      <td>BARCELONA</td>\n",
       "      <td>0-4</td>\n",
       "      <td>0-2</td>\n",
       "      <td>6.2</td>\n",
       "      <td>5.0</td>\n",
       "      <td>8.4</td>\n",
       "      <td>35.0</td>\n",
       "      <td>65.0</td>\n",
       "      <td>7.0</td>\n",
       "      <td>...</td>\n",
       "      <td>67.714286</td>\n",
       "      <td>4.207143</td>\n",
       "      <td>86.714286</td>\n",
       "      <td>50.107143</td>\n",
       "      <td>Away</td>\n",
       "      <td>4</td>\n",
       "      <td>Away</td>\n",
       "      <td>1</td>\n",
       "      <td>0</td>\n",
       "      <td>0</td>\n",
       "    </tr>\n",
       "    <tr>\n",
       "      <th>4</th>\n",
       "      <td>LEGANÉS</td>\n",
       "      <td>BARCELONA</td>\n",
       "      <td>1-2</td>\n",
       "      <td>1-0</td>\n",
       "      <td>5.6</td>\n",
       "      <td>5.5</td>\n",
       "      <td>6.9</td>\n",
       "      <td>23.0</td>\n",
       "      <td>77.0</td>\n",
       "      <td>5.0</td>\n",
       "      <td>...</td>\n",
       "      <td>75.357143</td>\n",
       "      <td>6.978571</td>\n",
       "      <td>86.714286</td>\n",
       "      <td>50.107143</td>\n",
       "      <td>Away</td>\n",
       "      <td>3</td>\n",
       "      <td>Away</td>\n",
       "      <td>1</td>\n",
       "      <td>0</td>\n",
       "      <td>0</td>\n",
       "    </tr>\n",
       "    <tr>\n",
       "      <th>...</th>\n",
       "      <td>...</td>\n",
       "      <td>...</td>\n",
       "      <td>...</td>\n",
       "      <td>...</td>\n",
       "      <td>...</td>\n",
       "      <td>...</td>\n",
       "      <td>...</td>\n",
       "      <td>...</td>\n",
       "      <td>...</td>\n",
       "      <td>...</td>\n",
       "      <td>...</td>\n",
       "      <td>...</td>\n",
       "      <td>...</td>\n",
       "      <td>...</td>\n",
       "      <td>...</td>\n",
       "      <td>...</td>\n",
       "      <td>...</td>\n",
       "      <td>...</td>\n",
       "      <td>...</td>\n",
       "      <td>...</td>\n",
       "      <td>...</td>\n",
       "    </tr>\n",
       "    <tr>\n",
       "      <th>9891</th>\n",
       "      <td>Poland</td>\n",
       "      <td>Italy</td>\n",
       "      <td>0-1</td>\n",
       "      <td>NaN</td>\n",
       "      <td>NaN</td>\n",
       "      <td>NaN</td>\n",
       "      <td>NaN</td>\n",
       "      <td>NaN</td>\n",
       "      <td>NaN</td>\n",
       "      <td>NaN</td>\n",
       "      <td>...</td>\n",
       "      <td>79.357143</td>\n",
       "      <td>17.517857</td>\n",
       "      <td>84.928571</td>\n",
       "      <td>29.621429</td>\n",
       "      <td>Away</td>\n",
       "      <td>1</td>\n",
       "      <td>Away</td>\n",
       "      <td>1</td>\n",
       "      <td>0</td>\n",
       "      <td>0</td>\n",
       "    </tr>\n",
       "    <tr>\n",
       "      <th>9892</th>\n",
       "      <td>Poland</td>\n",
       "      <td>Italy</td>\n",
       "      <td>0-0</td>\n",
       "      <td>NaN</td>\n",
       "      <td>NaN</td>\n",
       "      <td>NaN</td>\n",
       "      <td>NaN</td>\n",
       "      <td>NaN</td>\n",
       "      <td>NaN</td>\n",
       "      <td>NaN</td>\n",
       "      <td>...</td>\n",
       "      <td>79.357143</td>\n",
       "      <td>17.517857</td>\n",
       "      <td>84.928571</td>\n",
       "      <td>29.621429</td>\n",
       "      <td>Draw</td>\n",
       "      <td>0</td>\n",
       "      <td>Away</td>\n",
       "      <td>0</td>\n",
       "      <td>1</td>\n",
       "      <td>0</td>\n",
       "    </tr>\n",
       "    <tr>\n",
       "      <th>9893</th>\n",
       "      <td>Uruguay</td>\n",
       "      <td>Italy</td>\n",
       "      <td>2-2</td>\n",
       "      <td>NaN</td>\n",
       "      <td>NaN</td>\n",
       "      <td>NaN</td>\n",
       "      <td>NaN</td>\n",
       "      <td>NaN</td>\n",
       "      <td>NaN</td>\n",
       "      <td>NaN</td>\n",
       "      <td>...</td>\n",
       "      <td>82.357143</td>\n",
       "      <td>26.357143</td>\n",
       "      <td>84.928571</td>\n",
       "      <td>29.621429</td>\n",
       "      <td>Draw</td>\n",
       "      <td>4</td>\n",
       "      <td>Away</td>\n",
       "      <td>0</td>\n",
       "      <td>1</td>\n",
       "      <td>0</td>\n",
       "    </tr>\n",
       "    <tr>\n",
       "      <th>9894</th>\n",
       "      <td>Finland</td>\n",
       "      <td>Italy</td>\n",
       "      <td>1-2</td>\n",
       "      <td>NaN</td>\n",
       "      <td>NaN</td>\n",
       "      <td>NaN</td>\n",
       "      <td>NaN</td>\n",
       "      <td>NaN</td>\n",
       "      <td>NaN</td>\n",
       "      <td>NaN</td>\n",
       "      <td>...</td>\n",
       "      <td>73.428571</td>\n",
       "      <td>5.717857</td>\n",
       "      <td>84.928571</td>\n",
       "      <td>29.621429</td>\n",
       "      <td>Away</td>\n",
       "      <td>3</td>\n",
       "      <td>Away</td>\n",
       "      <td>1</td>\n",
       "      <td>0</td>\n",
       "      <td>0</td>\n",
       "    </tr>\n",
       "    <tr>\n",
       "      <th>9895</th>\n",
       "      <td>Switzerland</td>\n",
       "      <td>Italy</td>\n",
       "      <td>0-0</td>\n",
       "      <td>NaN</td>\n",
       "      <td>NaN</td>\n",
       "      <td>NaN</td>\n",
       "      <td>NaN</td>\n",
       "      <td>NaN</td>\n",
       "      <td>NaN</td>\n",
       "      <td>NaN</td>\n",
       "      <td>...</td>\n",
       "      <td>79.142857</td>\n",
       "      <td>12.835714</td>\n",
       "      <td>84.928571</td>\n",
       "      <td>29.621429</td>\n",
       "      <td>Draw</td>\n",
       "      <td>0</td>\n",
       "      <td>Away</td>\n",
       "      <td>0</td>\n",
       "      <td>1</td>\n",
       "      <td>0</td>\n",
       "    </tr>\n",
       "  </tbody>\n",
       "</table>\n",
       "<p>5753 rows × 28 columns</p>\n",
       "</div>"
      ],
      "text/plain": [
       "        Home Team  Away Team Score Half Time Score  Match Excitement  \\\n",
       "0        ATHLETIC  BARCELONA   1-0             0-0               4.7   \n",
       "1           CELTA  BARCELONA   2-2             0-1               8.4   \n",
       "2        VALENCIA  BARCELONA   2-0             0-0               5.3   \n",
       "3        MALLORCA  BARCELONA   0-4             0-2               6.2   \n",
       "4         LEGANÉS  BARCELONA   1-2             1-0               5.6   \n",
       "...           ...        ...   ...             ...               ...   \n",
       "9891       Poland      Italy   0-1             NaN               NaN   \n",
       "9892       Poland      Italy   0-0             NaN               NaN   \n",
       "9893      Uruguay      Italy   2-2             NaN               NaN   \n",
       "9894      Finland      Italy   1-2             NaN               NaN   \n",
       "9895  Switzerland      Italy   0-0             NaN               NaN   \n",
       "\n",
       "      Home Team Rating  Away Team Rating  Home Team Possession %  \\\n",
       "0                  7.0               5.7                    28.0   \n",
       "1                  7.0               5.9                    32.0   \n",
       "2                  7.1               5.1                    26.0   \n",
       "3                  5.0               8.4                    35.0   \n",
       "4                  5.5               6.9                    23.0   \n",
       "...                ...               ...                     ...   \n",
       "9891               NaN               NaN                     NaN   \n",
       "9892               NaN               NaN                     NaN   \n",
       "9893               NaN               NaN                     NaN   \n",
       "9894               NaN               NaN                     NaN   \n",
       "9895               NaN               NaN                     NaN   \n",
       "\n",
       "      Away Team Possession %  Home Team Off Target Shots  ...  Home Rating  \\\n",
       "0                       72.0                         6.0  ...    79.214286   \n",
       "1                       68.0                         1.0  ...    77.571429   \n",
       "2                       74.0                         2.0  ...    81.428571   \n",
       "3                       65.0                         7.0  ...    67.714286   \n",
       "4                       77.0                         5.0  ...    75.357143   \n",
       "...                      ...                         ...  ...          ...   \n",
       "9891                     NaN                         NaN  ...    79.357143   \n",
       "9892                     NaN                         NaN  ...    79.357143   \n",
       "9893                     NaN                         NaN  ...    82.357143   \n",
       "9894                     NaN                         NaN  ...    73.428571   \n",
       "9895                     NaN                         NaN  ...    79.142857   \n",
       "\n",
       "      Home Salary  Away Rating  Away Salary  Winner  Total Goals  \\\n",
       "0       12.678571    86.714286    50.107143    Home            1   \n",
       "1       11.850000    86.714286    50.107143    Draw            4   \n",
       "2       21.750000    86.714286    50.107143    Home            2   \n",
       "3        4.207143    86.714286    50.107143    Away            4   \n",
       "4        6.978571    86.714286    50.107143    Away            3   \n",
       "...           ...          ...          ...     ...          ...   \n",
       "9891    17.517857    84.928571    29.621429    Away            1   \n",
       "9892    17.517857    84.928571    29.621429    Draw            0   \n",
       "9893    26.357143    84.928571    29.621429    Draw            4   \n",
       "9894     5.717857    84.928571    29.621429    Away            3   \n",
       "9895    12.835714    84.928571    29.621429    Draw            0   \n",
       "\n",
       "     Majority Possesion Winner_Away  Winner_Draw  Winner_Home  \n",
       "0                  Away           0            0            1  \n",
       "1                  Away           0            1            0  \n",
       "2                  Away           0            0            1  \n",
       "3                  Away           1            0            0  \n",
       "4                  Away           1            0            0  \n",
       "...                 ...         ...          ...          ...  \n",
       "9891               Away           1            0            0  \n",
       "9892               Away           0            1            0  \n",
       "9893               Away           0            1            0  \n",
       "9894               Away           1            0            0  \n",
       "9895               Away           0            1            0  \n",
       "\n",
       "[5753 rows x 28 columns]"
      ]
     },
     "execution_count": 58,
     "metadata": {},
     "output_type": "execute_result"
    }
   ],
   "source": [
    "# drop NaN rating columns\n",
    "df_club_international_matches.dropna(subset = [\"Home Rating\"], inplace=True)\n",
    "df_club_international_matches.dropna(subset = [\"Away Rating\"], inplace=True)\n",
    "df_club_international_matches"
   ]
  },
  {
   "cell_type": "markdown",
   "metadata": {},
   "source": [
    "<b>Validating Merge#2:</b><br>\n",
    "The output below shows there were no null values for home/away rating/salary, meaning the player dataframe merge was sucessful. The null columns where no data could be found is shown aswell. <br> \n",
    "Looking at the row count, the merge was successful because it matched the expected number of games. After the df merges there is a correct row count of 10717 (this is before NaN values are dropped). \n",
    " * 10337 international games + 380 club games = 10717 total games/rows\n"
   ]
  },
  {
   "cell_type": "code",
   "execution_count": 59,
   "metadata": {},
   "outputs": [
    {
     "name": "stdout",
     "output_type": "stream",
     "text": [
      "Home Team                        0\n",
      "Away Team                        0\n",
      "Score                            0\n",
      "Half Time Score               5373\n",
      "Match Excitement              5373\n",
      "Home Team Rating              5373\n",
      "Away Team Rating              5373\n",
      "Home Team Possession %        5373\n",
      "Away Team Possession %        5373\n",
      "Home Team Off Target Shots    5373\n",
      "Home Team On Target Shots     5373\n",
      "Home Team Total Shots         5373\n",
      "Home Team Goals Scored           0\n",
      "Away Team Goals Scored           0\n",
      "Home Team Goals Conceeded        0\n",
      "Away Team Goals Conceeded        0\n",
      "year                             0\n",
      "league                           0\n",
      "Home Rating                      0\n",
      "Home Salary                      0\n",
      "Away Rating                      0\n",
      "Away Salary                      0\n",
      "Winner                           0\n",
      "Total Goals                      0\n",
      "Majority Possesion               0\n",
      "Winner_Away                      0\n",
      "Winner_Draw                      0\n",
      "Winner_Home                      0\n",
      "dtype: int64\n"
     ]
    }
   ],
   "source": [
    "print(df_club_international_matches.isnull().sum())"
   ]
  },
  {
   "cell_type": "markdown",
   "metadata": {
    "tags": []
   },
   "source": [
    "### Part 5 - Explore Bivariate relationships\n",
    "\n",
    "- Choose a reasoned set of variables to explore further.  You don't have to explore all possible pairs of variables, nor do we want to grade that much.  Choose 7 - 9 variables. One should be a variable that you'd like to predict (target variable) using the others (predictor variables). \n",
    "- List your predictor variables\n",
    "- List your target variable\n",
    "- Briefly describe why you have chosen these. \n",
    "\n",
    "Use any of the available visualizations from Seaborn to explore the relationships between the variables. Explore the relationships among the predictor variables as well as the relationship between each predictor variable and the target variable.  Which of the predictor variables are most strongly related?  Are there any interesting relationships between categorical predictors and numeric predictors?  If there are any dichotomous variables, does that influence any of the relationships? Are the relationships positive or negative? \n",
    "\n",
    "Below each plot, you should provide a description and interpretation of the plot.  Make sure to include why the variables in that plot were chosen and what you hope the reader would gain from it as well. "
   ]
  },
  {
   "cell_type": "markdown",
   "metadata": {},
   "source": [
    "<ol>\n",
    "    <li>Home Team Possession vs Game Outcome (Winner) </li>\n",
    "    <li>Away Team Possession vs Game Outcome (Winner) </li>\n",
    "    <li>Categorical Variables: international vs spain goals scored </li>\n",
    "\n",
    "</ol>"
   ]
  },
  {
   "cell_type": "markdown",
   "metadata": {},
   "source": [
    "<b>Examining Correlation Heatmap:</b>"
   ]
  },
  {
   "cell_type": "code",
   "execution_count": 60,
   "metadata": {},
   "outputs": [
    {
     "data": {
      "text/plain": [
       "<AxesSubplot:>"
      ]
     },
     "execution_count": 60,
     "metadata": {},
     "output_type": "execute_result"
    },
    {
     "data": {
      "image/png": "[encoded data removed]",
      "text/plain": [
       "<Figure size 936x936 with 2 Axes>"
      ]
     },
     "metadata": {
      "needs_background": "light"
     },
     "output_type": "display_data"
    }
   ],
   "source": [
    "import matplotlib.pyplot as plt\n",
    "import seaborn as sns\n",
    "import matplotlib.pyplot as plt\n",
    "\n",
    "fig, ax = plt.subplots(figsize=(13,13))         # Sample figsize in inches\n",
    "sns.heatmap(df_club_international_matches.corr(), annot = True, cmap = 'viridis')"
   ]
  },
  {
   "cell_type": "markdown",
   "metadata": {},
   "source": [
    "The heatmap shows the correlation matrix for the dataframe. This plot helps us to understand which variables are related and maybe helps to identify bivariate hidden relationships. For example, the match excitement variable is very closely correlated with the total goals of the match, a relationship that might be worth exploring. Looking at other relationships, the team rating and team salary variables are closely related. This relationships makes sense as better teams tend to have higher salary caps. <br><br> For the one hot encoded variables, the win variables, the correlation matrix often does not produce accurate values due to the computational method used. It works best for numerical variables. (https://stats.stackexchange.com/questions/256344/why-is-correlation-not-very-useful-when-one-of-the-variables-is-categorical) "
   ]
  },
  {
   "cell_type": "markdown",
   "metadata": {},
   "source": [
    "<b>Relationship #1 Match Excitement and Total Goals:</b> Bivariate analysis of two numerical variables<br>\n",
    "The heatmap shows the variables 'Match Excitement' and 'Total Goals' have a correlation of 0.90. Both variables are numerical. The Match Excitement will be the predictor variable (x-axis) and the Total Goals will be the target variable. A scatterplot can be used to perform bivariate analysis on two numerical variables (https://shecancode.io/blog/univariate-and-bivariate-analysis-usingseaborn). A regplot was used to add a regression line"
   ]
  },
  {
   "cell_type": "code",
   "execution_count": 61,
   "metadata": {},
   "outputs": [
    {
     "data": {
      "text/plain": [
       "<AxesSubplot:xlabel='Match Excitement', ylabel='Total Goals'>"
      ]
     },
     "execution_count": 61,
     "metadata": {},
     "output_type": "execute_result"
    },
    {
     "data": {
      "image/png": "[encoded data removed]",
      "text/plain": [
       "<Figure size 432x288 with 1 Axes>"
      ]
     },
     "metadata": {
      "needs_background": "light"
     },
     "output_type": "display_data"
    }
   ],
   "source": [
    "df_spain = df_club_international_matches[df_club_international_matches[\"league\"] == 'spanish']\n",
    "df_spain = df_spain.copy() # create a copy of the slice, slice should be read only\n",
    "# only spain games have match excitement, so only use those\n",
    "sns.regplot(df_club_international_matches[\"Match Excitement\"],\n",
    "                df_club_international_matches['Total Goals'], color='darkorange')"
   ]
  },
  {
   "cell_type": "markdown",
   "metadata": {},
   "source": [
    "The purpose of this plot was is to show their is a relationship between match match excitement  and total goals. The higher the match excitement the higher the total number of goals on average. The regression line through the data has a nearly linear slope, meaning there is a positive linear relationship between the variables. For further exploration, how the dataset calculated the \"match excitement\" data field should be looked into."
   ]
  },
  {
   "cell_type": "markdown",
   "metadata": {},
   "source": [
    "<b>Relationship #2 Team Rating/Salay predicting Game Results</b>: A seaborn relplot will be used to plot these two numeric variables examining the relationship between the target categorical variable (Victor). \n",
    "* After mergining the datasets, their is a team rating column and team salary column. Based off the heat matrix, we can see the team rating and team salary are closely correlated. The home team rating and home team salary will be used as predictors for victory. The rating and salary will be used to predict the one hot encoded target column 'Winner Home'. \n",
    "* The parent dataframe will sliced into two dataframe based whether club or international games. This was due to the disparity of ratings/salary in club versus international countries"
   ]
  },
  {
   "cell_type": "code",
   "execution_count": 62,
   "metadata": {},
   "outputs": [
    {
     "data": {
      "text/plain": [
       "<seaborn.axisgrid.FacetGrid at 0x1cff5042970>"
      ]
     },
     "execution_count": 62,
     "metadata": {},
     "output_type": "execute_result"
    },
    {
     "data": {
      "image/png": "[encoded data removed]",
      "text/plain": [
       "<Figure size 465.75x360 with 1 Axes>"
      ]
     },
     "metadata": {
      "needs_background": "light"
     },
     "output_type": "display_data"
    }
   ],
   "source": [
    "df_international = df_club_international_matches[df_club_international_matches[\"league\"] == 'international']\n",
    "df_international = df_international.copy() # create a copy of the slice, slice should be read only\n",
    "\n",
    "sns.relplot(data=df_international, x=\"Home Salary\", y=\"Home Rating\", hue=\"Winner_Home\", alpha=0.05)"
   ]
  },
  {
   "cell_type": "markdown",
   "metadata": {},
   "source": [
    "The relationship between rating/salary and victor is not as strong as expected, but setting the alpha value to a low value helps make the relationship more clear. When the home team has a lower salary/rating, the data points tend to be darker/oranger meaning a loss is more likely (home team lost more on average). When the home salary and home rating is higher, the data points become more blue meaning a win is more likely on average for a higher rated/salary team."
   ]
  },
  {
   "cell_type": "markdown",
   "metadata": {},
   "source": [
    "<b>Relationship #3 Possesion predicting Game Results</b>: Categorical variables<br>\n",
    "For the club games, the ball possesion of each team is listed. Since these are categorical variables, the correlation/relationship between the variables is unknown. This graph affects to explore if more ball possesion directly means a higher chance of victory. Possesion is the predictor variable and winner_home (the victor) is the target variable. "
   ]
  },
  {
   "cell_type": "code",
   "execution_count": 63,
   "metadata": {},
   "outputs": [
    {
     "data": {
      "image/png": "[encoded data removed]",
      "text/plain": [
       "<Figure size 576x576 with 1 Axes>"
      ]
     },
     "metadata": {
      "needs_background": "light"
     },
     "output_type": "display_data"
    }
   ],
   "source": [
    "fig, ax = plt.subplots(figsize=(8,8))         # Sample figsize in inches\n",
    "ax = sns.countplot(y=\"Winner_Home\", hue=\"Majority Possesion\", data=df_spain)"
   ]
  },
  {
   "cell_type": "markdown",
   "metadata": {},
   "source": [
    "Regardless of if the home team won and lost, the home team possessed the ball more than the away team. This means that ball possesion in of itself is not an accurate predictor of the winner of the game. This graph also revealed that the home team lost more than it won. Meaning, a home field advantage relationship does not really need to be explored, at least in the Spanish league."
   ]
  },
  {
   "cell_type": "markdown",
   "metadata": {},
   "source": [
    "<b>Relationship #4 Relationship between salary and player rating</b>: scatterplot to compare two numerical continous bivariate variables<br>\n",
    "The correlation matrix shows that the salary has a high correlation with player rating and vice vesra. It was important to ensure these variables are closely related because they are used to support other claims. The predictor variable was salary and the target variable was rating."
   ]
  },
  {
   "cell_type": "code",
   "execution_count": 64,
   "metadata": {},
   "outputs": [
    {
     "data": {
      "image/png": "[encoded data removed]",
      "text/plain": [
       "<Figure size 432x288 with 1 Axes>"
      ]
     },
     "metadata": {
      "needs_background": "light"
     },
     "output_type": "display_data"
    }
   ],
   "source": [
    "x = sns.scatterplot(x = df_club_international_matches['Home Salary'], \n",
    "                    y = df_club_international_matches['Home Rating'])"
   ]
  },
  {
   "cell_type": "markdown",
   "metadata": {},
   "source": [
    "This graph shows that as the home salary increases the home rating appears to increase. The graph appears to grow similarly to the function f(x) = log(n). The relationship between the home salary and home rating are tightly corelated, they both tend to grow at a rate of log(n)."
   ]
  },
  {
   "cell_type": "markdown",
   "metadata": {},
   "source": [
    "<b>Relationship #5 Club Goal scoring versus International Goal scoring </b>: <br>\n",
    "Next, I wanted to examine the categorical variable \"league\" and its affect on the outcome of the game. Meaning, the predictor variable would be league and the target variable would be the number of goals. The hypothesis is that international games may be higher scoring games than club games due to the potential for greater skill imbalence. For example a country like Brazil has multiple world cup victories, players on many top level professional teams, and greater resources. When Brazil goes up against a smaller country without as many experienced players the game may be higher scoring (Brazil would score many goals). In contrast, club teams tend to have more balanced leagues and matchups."
   ]
  },
  {
   "cell_type": "code",
   "execution_count": 65,
   "metadata": {},
   "outputs": [
    {
     "data": {
      "image/png": "[encoded data removed]",
      "text/plain": [
       "<Figure size 432x288 with 1 Axes>"
      ]
     },
     "metadata": {
      "needs_background": "light"
     },
     "output_type": "display_data"
    }
   ],
   "source": [
    "x = sns.violinplot(y = df_club_international_matches['Total Goals'], x = df_club_international_matches['league'])"
   ]
  },
  {
   "cell_type": "code",
   "execution_count": 66,
   "metadata": {},
   "outputs": [
    {
     "data": {
      "image/png": "[encoded data removed]",
      "text/plain": [
       "<Figure size 432x288 with 1 Axes>"
      ]
     },
     "metadata": {
      "needs_background": "light"
     },
     "output_type": "display_data"
    }
   ],
   "source": [
    "x = sns.boxplot(y = df_club_international_matches['Total Goals'], x = df_club_international_matches['league'])"
   ]
  },
  {
   "cell_type": "markdown",
   "metadata": {},
   "source": [
    "After examining the box plot and violion plot the prediction was incorrect. There is no considerable difference in the distribution of total goals in club versus international professional soccer matches. However, there were more considerable outliers or \"blowout\" games in the international category. "
   ]
  },
  {
   "cell_type": "markdown",
   "metadata": {},
   "source": [
    "<b>Relationship #6 Goals Scored versus Team Rating </b>: <br>\n",
    "When examining the heatmap, first strong positive correlation was valued. However, the team rating and goals scored variables appear to be somewhat negatively correlated. \n"
   ]
  },
  {
   "cell_type": "code",
   "execution_count": 67,
   "metadata": {},
   "outputs": [
    {
     "data": {
      "image/png": "[encoded data removed]",
      "text/plain": [
       "<Figure size 432x288 with 1 Axes>"
      ]
     },
     "metadata": {
      "needs_background": "light"
     },
     "output_type": "display_data"
    }
   ],
   "source": [
    "x = sns.scatterplot(x = df_club_international_matches['Away Rating'], y = df_club_international_matches['Home Team Goals Scored'], alpha=0.1)"
   ]
  },
  {
   "cell_type": "code",
   "execution_count": 68,
   "metadata": {},
   "outputs": [
    {
     "data": {
      "text/plain": [
       "<AxesSubplot:xlabel='Away Rating', ylabel='Home Team Goals Scored'>"
      ]
     },
     "execution_count": 68,
     "metadata": {},
     "output_type": "execute_result"
    },
    {
     "data": {
      "image/png": "[encoded data removed]",
      "text/plain": [
       "<Figure size 432x288 with 1 Axes>"
      ]
     },
     "metadata": {
      "needs_background": "light"
     },
     "output_type": "display_data"
    }
   ],
   "source": [
    "sns.regplot(df_club_international_matches[\"Away Rating\"],\n",
    "                    df_club_international_matches['Home Team Goals Scored'], color='darkorange')"
   ]
  },
  {
   "cell_type": "markdown",
   "metadata": {},
   "source": [
    "Both the regression line and scatterplot show that the variables of opposing team rating and current team goals scored are somewhat negatively correlated. By setting the alpha to a low value on the scatterplot, we can see where the kernel density of goals are concerntated. For lower rated teams, the number of goals scored distribution is much wider with more goals being scored against them. For higher rated teams, the total number of goals scored against them is much lower. The regression plot shows a negative correlation. "
   ]
  },
  {
   "cell_type": "markdown",
   "metadata": {},
   "source": [
    "<b>Relationship #7 Total Shots predicting winner of the game</b>: <br>\n",
    "The logic behind this was if more total shots are taken, that team is more likely to win the game. The Home Team total shots variable and Home rating were utilized to predict the target variable of victor (winner_home_"
   ]
  },
  {
   "cell_type": "code",
   "execution_count": 69,
   "metadata": {},
   "outputs": [
    {
     "data": {
      "image/png": "[encoded data removed]",
      "text/plain": [
       "<Figure size 465.75x360 with 1 Axes>"
      ]
     },
     "metadata": {
      "needs_background": "light"
     },
     "output_type": "display_data"
    }
   ],
   "source": [
    "x = sns.relplot(data=df_spain, x=\"Home Rating\", y=\"Home Team Total Shots\", hue=\"Winner_Home\")"
   ]
  },
  {
   "cell_type": "markdown",
   "metadata": {},
   "source": [
    "The graph distribution shows that more losses appear when less total shots are taken, and more wins appear for the home team when more total shots are taken. The home rating was graphed on the x-axis, so the upper right hand corner contains the highest concentration of wins (highest shots and highest team rating). "
   ]
  }
 ],
 "metadata": {
  "kernelspec": {
   "display_name": "Python 3",
   "language": "python",
   "name": "python3"
  },
  "language_info": {
   "codemirror_mode": {
    "name": "ipython",
    "version": 3
   },
   "file_extension": ".py",
   "mimetype": "text/x-python",
   "name": "python",
   "nbconvert_exporter": "python",
   "pygments_lexer": "ipython3",
   "version": "3.8.5"
  }
 },
 "nbformat": 4,
 "nbformat_minor": 5
}
